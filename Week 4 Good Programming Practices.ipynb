{
 "cells": [
  {
   "cell_type": "markdown",
   "metadata": {},
   "source": [
    "# Week 4: Good Programming Practices"
   ]
  },
  {
   "cell_type": "markdown",
   "metadata": {},
   "source": [
    "## Lec 7: Testing and Debugging\n",
    "Video: Programming Challenges\n",
    "- How to test the code if it does not do what I want\n",
    "- Expectattion vs. Reality\n",
    "- testing, defensive programming, and eliminate source of bugs -> debugging\n",
    "- Debugging is topic of this lecture\n",
    " - Study events leading up to an error\n",
    " - Why is it not working?\n",
    " - How can I fix my program?\n",
    "\n",
    "Video: Classes of Tests \n",
    "- From the start:\n",
    " - Break program into modules that can be tested and debugged individually\n",
    " - document constraints on modules and expected input/output to be\n",
    " - document assumptions behind code design\n",
    " \n",
    "- Ready to test?\n",
    " - ensure code runs\n",
    " - have a set of expected results (input and output expectations)\n",
    "- **Unit testing**\n",
    " - Validate each piece of program and testing each function separately\n",
    "- **Regression testing**\n",
    " - add test for bugs as you find them in a function\n",
    " - catch reintroduced errors that were previously fixed. \n",
    "- **Integration testing**\n",
    " - Does overall program work?\n",
    " \n",
    "Testing approaches:\n",
    "- intuition about natural boundaries to problem. Can you come up with some areas of the natural numbers to check your code...\n",
    "- Maybe **random testing**?#\n",
    "- **black box testing**\n",
    " - Explore paths through specification\n",
    "- **glass box testing**\n",
    " - explore paths through code\n",
    "\n"
   ]
  },
  {
   "cell_type": "code",
   "execution_count": 1,
   "metadata": {},
   "outputs": [],
   "source": [
    "# black box testing\n",
    "def sqrt(x, eps):\n",
    "    \"\"\"\n",
    "    Assumes x and eps are floats, x>= 0, eps >0\n",
    "    Returns res such that x-eps <= res*res <=x+eps\"\"\""
   ]
  },
  {
   "cell_type": "markdown",
   "metadata": {},
   "source": [
    "### Black Box Testing\n",
    "- Black box tesing -> designed without looking at the code.\n",
    "- can be done by someone other than the implementer to avoid some implementer biases\n",
    "- testing can be reused if implementation changes\n",
    "- paths through specification\n",
    " - build test cases in different natural space partitions \n",
    " - consider boundary conditions (empty lists, singleton, list, large numbers, small numbers, zeros)\n",
    "  - Cases: boundary (x=0), perfect square (x=25), less than 1, irrational sqare root, extreme cases"
   ]
  },
  {
   "cell_type": "markdown",
   "metadata": {},
   "source": [
    "### Glass Box Testing\n",
    "- use code directly to guide design of test cases\n",
    "- called path-complete if every potential path through code is tested at least once\n",
    "- what are some drawbacks of this type of testing?\n",
    " - can go through loops arbitrarily many times\n",
    " - missing paths.\n",
    "- test all branches, loops, etc.\n",
    "- path complete if every path tested at least once"
   ]
  },
  {
   "cell_type": "code",
   "execution_count": 7,
   "metadata": {},
   "outputs": [
    {
     "name": "stdout",
     "output_type": "stream",
     "text": [
      "2 2\n",
      "-1\n"
     ]
    }
   ],
   "source": [
    "def abs(x):\n",
    "    \"\"\"Assumes x is an int\n",
    "    Returns x if >= 0 and - x otherwise\"\"\"\n",
    "    if x < -1: # <- error here\n",
    "        return -x\n",
    "    else:\n",
    "        return x\n",
    "    \n",
    "# path complete test\n",
    "print(abs(2), abs(-2))\n",
    "#\n",
    "print(abs(-1)) \n",
    "# incorrectly returns the wrong numbe albeit path-completeness\n"
   ]
  },
  {
   "cell_type": "code",
   "execution_count": 16,
   "metadata": {},
   "outputs": [
    {
     "data": {
      "text/plain": [
       "'dabc'"
      ]
     },
     "execution_count": 16,
     "metadata": {},
     "output_type": "execute_result"
    }
   ],
   "source": [
    "def union(set1, set2):\n",
    "    \"\"\"\n",
    "    set1 and set2 are collections of objects, each of which might be empty.\n",
    "    Each set has no duplicates within itself, but there may be objects that\n",
    "    are in both sets. Objects are assumed to be of the same type.\n",
    "\n",
    "    This function returns one set containing all elements from\n",
    "    both input sets, but with no duplicates.\n",
    "    \"\"\"\n",
    "    if len(set1) == 0:\n",
    "        return set2\n",
    "    elif set1[0] in set2:\n",
    "        return union(set1[1:], set2)\n",
    "    else:\n",
    "        return set1[0] + union(set1[1:], set2)\n",
    "\n",
    "# Glass box test\n",
    "union('','abc')\n",
    "union('a','abc') \n",
    "union('ab','abc')\n",
    "union('d','abc')"
   ]
  },
  {
   "cell_type": "markdown",
   "metadata": {},
   "source": [
    "Example shows a recursive function. We would try to test a good smaple of all the possible paths through the code. Hence, \n",
    "- Test when `set1` is empty,\n",
    "- when `set1[0]` is in `set2`\n",
    "- when `set1[0]` is not in `set2?\n",
    "- we should also test when the recursion depth is 0,1, and greter than 1. "
   ]
  },
  {
   "cell_type": "code",
   "execution_count": 24,
   "metadata": {},
   "outputs": [
    {
     "data": {
      "text/plain": [
       "3"
      ]
     },
     "execution_count": 24,
     "metadata": {},
     "output_type": "execute_result"
    }
   ],
   "source": [
    "def foo(x, a):\n",
    "    \"\"\"\n",
    "    x: a positive integer argument\n",
    "    a: a positive integer argument\n",
    "\n",
    "    returns an integer\n",
    "    \"\"\"\n",
    "    count = 0\n",
    "    while x >= a:\n",
    "        count += 1\n",
    "        x = x - a\n",
    "    return count\n",
    "\n",
    "# Glass Box Test\n",
    "foo(10, 3) \n",
    "foo(1, 4)\n",
    "foo(10, 6)"
   ]
  },
  {
   "cell_type": "markdown",
   "metadata": {},
   "source": [
    "In the case of loops, we want to sample generally three cases:\n",
    "1. Not executing the loop at all: foo(1,4)\n",
    "2. Executing the loop exactly once: foo(10,6)\n",
    "3. Executing the loop multiple times: foo(10,6)\n"
   ]
  }
 ],
 "metadata": {
  "kernelspec": {
   "display_name": "Python [conda env:Anaconda3]",
   "language": "python",
   "name": "conda-env-Anaconda3-py"
  },
  "language_info": {
   "codemirror_mode": {
    "name": "ipython",
    "version": 3
   },
   "file_extension": ".py",
   "mimetype": "text/x-python",
   "name": "python",
   "nbconvert_exporter": "python",
   "pygments_lexer": "ipython3",
   "version": "3.6.6"
  }
 },
 "nbformat": 4,
 "nbformat_minor": 2
}
