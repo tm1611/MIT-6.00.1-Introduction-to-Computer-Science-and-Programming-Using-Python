{
 "cells": [
  {
   "cell_type": "markdown",
   "metadata": {},
   "source": [
    "# Week 4: Good Programming Practices"
   ]
  },
  {
   "cell_type": "markdown",
   "metadata": {},
   "source": [
    "## Lec 7: Testing and Debugging\n",
    "Video: Programming Challenges\n",
    "- How to test the code if it does not do what I want\n",
    "- Expectattion vs. Reality\n",
    "- testing, defensive programming, and eliminate source of bugs -> debugging\n",
    "- Debugging is topic of this lecture\n",
    " - Study events leading up to an error\n",
    " - Why is it not working?\n",
    " - How can I fix my program?\n",
    "\n",
    "Video: Classes of Tests \n",
    "- From the start:\n",
    " - Break program into modules that can be tested and debugged individually\n",
    " - document constraints on modules and expected input/output to be\n",
    " - document assumptions behind code design\n",
    " \n",
    "- Ready to test?\n",
    " - ensure code runs\n",
    " - have a set of expected results (input and output expectations)\n",
    "- **Unit testing**\n",
    " - Validate each piece of program and testing each function separately\n",
    "- **Regression testing**\n",
    " - add test for bugs as you find them in a function\n",
    " - catch reintroduced errors that were previously fixed. \n",
    "- **Integration testing**\n",
    " - Does overall program work?\n",
    " \n",
    "Testing approaches:\n",
    "- intuition about natural boundaries to problem. Can you come up with some areas of the natural numbers to check your code...\n",
    "- Maybe **random testing**?#\n",
    "- **black box testing**\n",
    " - Explore paths through specification\n",
    "- **glass box testing**\n",
    " - explore paths through code\n",
    "\n"
   ]
  },
  {
   "cell_type": "code",
   "execution_count": 1,
   "metadata": {},
   "outputs": [],
   "source": [
    "# black box testing\n",
    "def sqrt(x, eps):\n",
    "    \"\"\"\n",
    "    Assumes x and eps are floats, x>= 0, eps >0\n",
    "    Returns res such that x-eps <= res*res <=x+eps\"\"\""
   ]
  },
  {
   "cell_type": "markdown",
   "metadata": {},
   "source": [
    "### Black Box Testing\n",
    "- Black box tesing -> designed without looking at the code.\n",
    "- can be done by someone other than the implementer to avoid some implementer biases\n",
    "- testing can be reused if implementation changes\n",
    "- paths through specification\n",
    " - build test cases in different natural space partitions \n",
    " - consider boundary conditions (empty lists, singleton, list, large numbers, small numbers, zeros)\n",
    "  - Cases: boundary (x=0), perfect square (x=25), less than 1, irrational sqare root, extreme cases"
   ]
  },
  {
   "cell_type": "markdown",
   "metadata": {},
   "source": [
    "### Glass Box Testing\n",
    "- use code directly to guide design of test cases\n",
    "- called path-complete if every potential path through code is tested at least once\n",
    "- what are some drawbacks of this type of testing?\n",
    " - can go through loops arbitrarily many times\n",
    " - missing paths.\n",
    "- test all branches, loops, etc.\n",
    "- path complete if every path tested at least once"
   ]
  },
  {
   "cell_type": "code",
   "execution_count": 7,
   "metadata": {},
   "outputs": [
    {
     "name": "stdout",
     "output_type": "stream",
     "text": [
      "2 2\n",
      "-1\n"
     ]
    }
   ],
   "source": [
    "def abs(x):\n",
    "    \"\"\"Assumes x is an int\n",
    "    Returns x if >= 0 and - x otherwise\"\"\"\n",
    "    if x < -1: # <- error here\n",
    "        return -x\n",
    "    else:\n",
    "        return x\n",
    "    \n",
    "# path complete test\n",
    "print(abs(2), abs(-2))\n",
    "#\n",
    "print(abs(-1)) \n",
    "# incorrectly returns the wrong numbe albeit path-completeness\n"
   ]
  },
  {
   "cell_type": "code",
   "execution_count": 16,
   "metadata": {},
   "outputs": [
    {
     "data": {
      "text/plain": [
       "'dabc'"
      ]
     },
     "execution_count": 16,
     "metadata": {},
     "output_type": "execute_result"
    }
   ],
   "source": [
    "def union(set1, set2):\n",
    "    \"\"\"\n",
    "    set1 and set2 are collections of objects, each of which might be empty.\n",
    "    Each set has no duplicates within itself, but there may be objects that\n",
    "    are in both sets. Objects are assumed to be of the same type.\n",
    "\n",
    "    This function returns one set containing all elements from\n",
    "    both input sets, but with no duplicates.\n",
    "    \"\"\"\n",
    "    if len(set1) == 0:\n",
    "        return set2\n",
    "    elif set1[0] in set2:\n",
    "        return union(set1[1:], set2)\n",
    "    else:\n",
    "        return set1[0] + union(set1[1:], set2)\n",
    "\n",
    "# Glass box test\n",
    "union('','abc')\n",
    "union('a','abc') \n",
    "union('ab','abc')\n",
    "union('d','abc')"
   ]
  },
  {
   "cell_type": "markdown",
   "metadata": {},
   "source": [
    "Example shows a recursive function. We would try to test a good smaple of all the possible paths through the code. Hence, \n",
    "- Test when `set1` is empty,\n",
    "- when `set1[0]` is in `set2`\n",
    "- when `set1[0]` is not in `set2?\n",
    "- we should also test when the recursion depth is 0,1, and greter than 1. "
   ]
  },
  {
   "cell_type": "code",
   "execution_count": 1,
   "metadata": {},
   "outputs": [
    {
     "data": {
      "text/plain": [
       "1"
      ]
     },
     "execution_count": 1,
     "metadata": {},
     "output_type": "execute_result"
    }
   ],
   "source": [
    "def foo(x, a):\n",
    "    \"\"\"\n",
    "    x: a positive integer argument\n",
    "    a: a positive integer argument\n",
    "\n",
    "    returns an integer\n",
    "    \"\"\"\n",
    "    count = 0\n",
    "    while x >= a:\n",
    "        count += 1\n",
    "        x = x - a\n",
    "    return count\n",
    "\n",
    "# Glass Box Test\n",
    "foo(10, 3) \n",
    "foo(1, 4)\n",
    "foo(10, 6)"
   ]
  },
  {
   "cell_type": "markdown",
   "metadata": {},
   "source": [
    "In the case of loops, we want to sample generally three cases:\n",
    "1. Not executing the loop at all: foo(1,4)\n",
    "2. Executing the loop exactly once: foo(10,6)\n",
    "3. Executing the loop multiple times: foo(10,6)\n"
   ]
  },
  {
   "cell_type": "markdown",
   "metadata": {},
   "source": [
    "### Bugs\n",
    "Video: Bugs\n",
    "- isolate and eradicate the bug.\n",
    "- retest until code runs corretly.\n",
    "\n",
    "Where do bugs come from?\n",
    "- overt vs covert:\n",
    " - overt: obvious manifestation as code crashes or runs forever\n",
    " - covert: no obvious manifestation - code returns a value which may be incorrect \n",
    " - which one is harder to detect?\n",
    " \n",
    "When to they occur? \n",
    "- persistent vs intermittent\n",
    " - persistent: every time \n",
    " - intermittent: some times\n",
    " - What is easier to detect?\n",
    "\n",
    "Video: Debugging\n",
    "- Debugging has a steep learning curve. A lot of experience is required to be able to do this properly\n",
    "- One nice way is to use the print statement\n",
    " - print at the beginning of functions, to see parameters and function results\n",
    "\n",
    "- Logic errors:\n",
    " - think and write down explicitly what you want the program to do and check your code according to your written notes\n",
    " - draw pictures, take a break\n",
    " - explain the code to someone else -> Explain to rubber ducky"
   ]
  },
  {
   "cell_type": "code",
   "execution_count": 7,
   "metadata": {},
   "outputs": [
    {
     "ename": "UnboundLocalError",
     "evalue": "local variable 'count' referenced before assignment",
     "output_type": "error",
     "traceback": [
      "\u001b[1;31m---------------------------------------------------------------------------\u001b[0m",
      "\u001b[1;31mUnboundLocalError\u001b[0m                         Traceback (most recent call last)",
      "\u001b[1;32m<ipython-input-7-10ce57542313>\u001b[0m in \u001b[0;36m<module>\u001b[1;34m()\u001b[0m\n\u001b[0;32m     12\u001b[0m     \u001b[1;32mreturn\u001b[0m \u001b[0mcount\u001b[0m\u001b[1;33m\u001b[0m\u001b[0m\n\u001b[0;32m     13\u001b[0m \u001b[1;33m\u001b[0m\u001b[0m\n\u001b[1;32m---> 14\u001b[1;33m \u001b[0mprint\u001b[0m\u001b[1;33m(\u001b[0m\u001b[0mintegerDivision\u001b[0m\u001b[1;33m(\u001b[0m\u001b[1;36m5\u001b[0m\u001b[1;33m,\u001b[0m \u001b[1;36m3\u001b[0m\u001b[1;33m)\u001b[0m\u001b[1;33m)\u001b[0m\u001b[1;33m\u001b[0m\u001b[0m\n\u001b[0m",
      "\u001b[1;32m<ipython-input-7-10ce57542313>\u001b[0m in \u001b[0;36mintegerDivision\u001b[1;34m(x, a)\u001b[0m\n\u001b[0;32m      8\u001b[0m     \"\"\"\n\u001b[0;32m      9\u001b[0m     \u001b[1;32mwhile\u001b[0m \u001b[0mx\u001b[0m \u001b[1;33m>=\u001b[0m \u001b[0ma\u001b[0m\u001b[1;33m:\u001b[0m\u001b[1;33m\u001b[0m\u001b[0m\n\u001b[1;32m---> 10\u001b[1;33m         \u001b[0mcount\u001b[0m \u001b[1;33m+=\u001b[0m \u001b[1;36m1\u001b[0m\u001b[1;33m\u001b[0m\u001b[0m\n\u001b[0m\u001b[0;32m     11\u001b[0m         \u001b[0mx\u001b[0m \u001b[1;33m=\u001b[0m \u001b[0mx\u001b[0m \u001b[1;33m-\u001b[0m \u001b[0ma\u001b[0m\u001b[1;33m\u001b[0m\u001b[0m\n\u001b[0;32m     12\u001b[0m     \u001b[1;32mreturn\u001b[0m \u001b[0mcount\u001b[0m\u001b[1;33m\u001b[0m\u001b[0m\n",
      "\u001b[1;31mUnboundLocalError\u001b[0m: local variable 'count' referenced before assignment"
     ]
    }
   ],
   "source": [
    "# Fix the following code\n",
    "def integerDivision(x, a):\n",
    "    \"\"\"\n",
    "    x: a non-negative integer argument\n",
    "    a: a positive integer argument\n",
    "\n",
    "    returns: integer, the integer division of x divided by a.\n",
    "    \"\"\"\n",
    "    while x >= a:\n",
    "        count += 1\n",
    "        x = x - a\n",
    "    return count\n",
    "\n",
    "print(integerDivision(5, 3))"
   ]
  },
  {
   "cell_type": "code",
   "execution_count": 9,
   "metadata": {},
   "outputs": [],
   "source": [
    "# following code does not return anything\n",
    "# debug the code\n",
    "def rem(x, a):\n",
    "    \"\"\"\n",
    "    x: a non-negative integer argument\n",
    "    a: a positive integer argument\n",
    "\n",
    "    returns: integer, the remainder when x is divided by a.\n",
    "    \"\"\"\n",
    "    if x == a:\n",
    "        return 0\n",
    "    elif x < a:\n",
    "        return x\n",
    "    else:\n",
    "        rem(x-a, a)\n",
    "        \n",
    "rem(7,5)"
   ]
  },
  {
   "cell_type": "code",
   "execution_count": 11,
   "metadata": {},
   "outputs": [
    {
     "data": {
      "text/plain": [
       "2"
      ]
     },
     "execution_count": 11,
     "metadata": {},
     "output_type": "execute_result"
    }
   ],
   "source": [
    "# debug the following code\n",
    "def rem(x, a):\n",
    "    \"\"\"\n",
    "    x: a non-negative integer argument\n",
    "    a: a positive integer argument\n",
    "\n",
    "    returns: integer, the remainder when x is divided by a.\n",
    "    \"\"\"\n",
    "    if x == a:\n",
    "        return 0\n",
    "    elif x < a:\n",
    "        return x\n",
    "    else:\n",
    "        return rem(x-a, a)\n",
    "        \n",
    "rem(7,5)"
   ]
  },
  {
   "cell_type": "code",
   "execution_count": 16,
   "metadata": {},
   "outputs": [
    {
     "name": "stdout",
     "output_type": "stream",
     "text": [
      "6\n",
      "1\n",
      "1\n"
     ]
    }
   ],
   "source": [
    "# debug the following code \n",
    "# returns the wrong results\n",
    "def f(n):\n",
    "    \"\"\"\n",
    "    n: integer, n >= 0.\n",
    "    \"\"\"\n",
    "    if n == 0:\n",
    "        return 1 # modified from return 0 \n",
    "    else:\n",
    "        return n * f(n-1)\n",
    "    \n",
    "print(f(3)) # expected 6\n",
    "print(f(1)) # expected 1\n",
    "print(f(0)) # expected 1"
   ]
  },
  {
   "cell_type": "markdown",
   "metadata": {},
   "source": [
    "Video: Debugging Skills\n",
    "- In general we want to narrow down the space of possible sources of error\n",
    "- we can design our own little experiments that expose intermediate stages of computation using print statements to see where something went wrong and use results to further narrow down our search\n",
    "- binary search can be a powerful tool for this \n",
    " - going from last step to first step (backwards) using print statements to decrease the space of possible error"
   ]
  },
  {
   "cell_type": "markdown",
   "metadata": {},
   "source": [
    "## Video: Exceptions, Assertions\n",
    "- Exceptions: What happens when procedure execution hits an unexpected condition?\n",
    " - `try`: exceptions raised by any statement in body of `try`are handled by the `except`statement and execution continues after the body of the except statement.\n",
    " - `else`: body of this is executed when execution of associated try body completes with no exceptions\n",
    " - `finally`: body of this is always executed after try, else and except clauses, even if they raised another error or executed a break, continue or return"
   ]
  },
  {
   "cell_type": "code",
   "execution_count": 19,
   "metadata": {},
   "outputs": [
    {
     "name": "stdout",
     "output_type": "stream",
     "text": [
      "Tell me one number:3\n",
      "Tell me another one:4\n",
      "0.75\n",
      "Alrighty!\n",
      "Outside\n"
     ]
    }
   ],
   "source": [
    "# handlers for exceptions \n",
    "try:\n",
    "    a = int(input(\"Tell me one number:\"))\n",
    "    b = int(input(\"Tell me another one:\"))\n",
    "    print(a/b)\n",
    "    print(\"Alrighty!\")\n",
    "except:\n",
    "    print(\"Bug in user input.\")\n",
    "print(\"Outside\")"
   ]
  },
  {
   "cell_type": "code",
   "execution_count": 22,
   "metadata": {},
   "outputs": [
    {
     "name": "stdout",
     "output_type": "stream",
     "text": [
      "Tell me one number:3\n",
      "Tell me another one:4\n",
      "a/b = 0.75\n",
      "a+b = 7\n"
     ]
    }
   ],
   "source": [
    "# handlers for exceptions \n",
    "try:\n",
    "    a = int(input(\"Tell me one number:\"))\n",
    "    b = int(input(\"Tell me another one:\"))\n",
    "    print(\"a/b =\",a/b)\n",
    "    print(\"a+b =\", a+b)    \n",
    "except ValueError:\n",
    "    print(\"Could not convert to a number.\")\n",
    "except ZeroDivisionError:\n",
    "    print(\"Can't divide by zero\")\n",
    "except:\n",
    "    print(\"Something else went wrong\")"
   ]
  },
  {
   "cell_type": "markdown",
   "metadata": {},
   "source": [
    "Video: Exceptions Examples\n",
    "- `while`loop with `True`\n",
    "- using looop structure with while loop\n",
    " - only exits when correct type of input is provided (see example)"
   ]
  },
  {
   "cell_type": "code",
   "execution_count": 31,
   "metadata": {},
   "outputs": [
    {
     "name": "stdout",
     "output_type": "stream",
     "text": [
      "Please enter an integer:4\n"
     ]
    }
   ],
   "source": [
    "# handling ValueError in a while loop\n",
    "while True:\n",
    "    try:\n",
    "        n = input(\"Please enter an integer: \")\n",
    "        n = int(n)\n",
    "        break\n",
    "    except ValueError:\n",
    "        print(\"Input not an integer; try again\")\n",
    "    print(\"Correct input of an integer!\")"
   ]
  },
  {
   "cell_type": "markdown",
   "metadata": {},
   "source": [
    "Video: Exceptions as Control Flow\n",
    "- "
   ]
  },
  {
   "cell_type": "code",
   "execution_count": 38,
   "metadata": {},
   "outputs": [
    {
     "data": {
      "text/plain": [
       "[0.2, 0.3333333333333333, 0.42857142857142855, nan]"
      ]
     },
     "execution_count": 38,
     "metadata": {},
     "output_type": "execute_result"
    }
   ],
   "source": [
    "def get_ratios(L1, L2):\n",
    "    \"\"\" Assumes: L1 and L2 are lists of equal length of numbers\n",
    "    Returns: a list containing L1[i]/L2[i] \"\"\"\n",
    "    ratios = []\n",
    "    for index in range(len(L1)):\n",
    "        try:\n",
    "            ratios.append(L1[index]/float(L2[index]))\n",
    "        except ZeroDivisionError:\n",
    "            ratios.append(float('NaN')) #NaN = Not a Number\n",
    "        except:\n",
    "            raise ValueError('get_ratios called with bad arg')\n",
    "    return ratios\n",
    "\n",
    "L1 = [1,2,3,4]\n",
    "L2 = [5,6,7,8]\n",
    "get_ratios(L1, L2)\n",
    "\n",
    "get_ratios(L1, [5,6,7,0])"
   ]
  },
  {
   "cell_type": "code",
   "execution_count": 42,
   "metadata": {},
   "outputs": [],
   "source": [
    "test_grades = [[['peter', 'parker'], [80.0, 70.0, 85.0]],\n",
    "[['bruce', 'wayne'], [100.0, 80.0, 74.0]]]\n",
    "\n"
   ]
  },
  {
   "cell_type": "code",
   "execution_count": 63,
   "metadata": {},
   "outputs": [
    {
     "name": "stdout",
     "output_type": "stream",
     "text": [
      "0\n"
     ]
    },
    {
     "ename": "ZeroDivisionError",
     "evalue": "division by zero",
     "output_type": "error",
     "traceback": [
      "\u001b[1;31m---------------------------------------------------------------------------\u001b[0m",
      "\u001b[1;31mZeroDivisionError\u001b[0m                         Traceback (most recent call last)",
      "\u001b[1;32m<ipython-input-63-470c6fb6942e>\u001b[0m in \u001b[0;36m<module>\u001b[1;34m()\u001b[0m\n\u001b[0;32m     13\u001b[0m \u001b[1;31m# fancy_divide([0, 2, 4], 1)\u001b[0m\u001b[1;33m\u001b[0m\u001b[1;33m\u001b[0m\u001b[0m\n\u001b[0;32m     14\u001b[0m \u001b[1;31m# fancy_divide([0, 2, 4], 4)\u001b[0m\u001b[1;33m\u001b[0m\u001b[1;33m\u001b[0m\u001b[0m\n\u001b[1;32m---> 15\u001b[1;33m \u001b[0mfancy_divide\u001b[0m\u001b[1;33m(\u001b[0m\u001b[1;33m[\u001b[0m\u001b[1;36m0\u001b[0m\u001b[1;33m,\u001b[0m \u001b[1;36m2\u001b[0m\u001b[1;33m,\u001b[0m \u001b[1;36m4\u001b[0m\u001b[1;33m]\u001b[0m\u001b[1;33m,\u001b[0m \u001b[1;36m0\u001b[0m\u001b[1;33m)\u001b[0m\u001b[1;33m\u001b[0m\u001b[0m\n\u001b[0m",
      "\u001b[1;32m<ipython-input-63-470c6fb6942e>\u001b[0m in \u001b[0;36mfancy_divide\u001b[1;34m(numbers, index)\u001b[0m\n\u001b[0;32m      3\u001b[0m         \u001b[0mdenom\u001b[0m \u001b[1;33m=\u001b[0m \u001b[0mnumbers\u001b[0m\u001b[1;33m[\u001b[0m\u001b[0mindex\u001b[0m\u001b[1;33m]\u001b[0m\u001b[1;33m\u001b[0m\u001b[0m\n\u001b[0;32m      4\u001b[0m         \u001b[1;32mfor\u001b[0m \u001b[0mi\u001b[0m \u001b[1;32min\u001b[0m \u001b[0mrange\u001b[0m\u001b[1;33m(\u001b[0m\u001b[0mlen\u001b[0m\u001b[1;33m(\u001b[0m\u001b[0mnumbers\u001b[0m\u001b[1;33m)\u001b[0m\u001b[1;33m)\u001b[0m\u001b[1;33m:\u001b[0m\u001b[1;33m\u001b[0m\u001b[0m\n\u001b[1;32m----> 5\u001b[1;33m             \u001b[0mnumbers\u001b[0m\u001b[1;33m[\u001b[0m\u001b[0mi\u001b[0m\u001b[1;33m]\u001b[0m \u001b[1;33m/=\u001b[0m \u001b[0mdenom\u001b[0m\u001b[1;33m\u001b[0m\u001b[0m\n\u001b[0m\u001b[0;32m      6\u001b[0m     \u001b[1;32mexcept\u001b[0m \u001b[0mIndexError\u001b[0m\u001b[1;33m:\u001b[0m\u001b[1;33m\u001b[0m\u001b[0m\n\u001b[0;32m      7\u001b[0m         \u001b[0mprint\u001b[0m\u001b[1;33m(\u001b[0m\u001b[1;34m\"-1\"\u001b[0m\u001b[1;33m)\u001b[0m\u001b[1;33m\u001b[0m\u001b[0m\n",
      "\u001b[1;31mZeroDivisionError\u001b[0m: division by zero"
     ]
    }
   ],
   "source": [
    "def fancy_divide(numbers,index):\n",
    "    try:\n",
    "        denom = numbers[index]\n",
    "        for i in range(len(numbers)):\n",
    "            numbers[i] /= denom\n",
    "    except IndexError:\n",
    "        print(\"-1\")\n",
    "    else:\n",
    "        print(\"1\")\n",
    "    finally:\n",
    "        print(\"0\")\n",
    "        \n",
    "# fancy_divide([0, 2, 4], 1)\n",
    "# fancy_divide([0, 2, 4], 4)\n",
    "fancy_divide([0, 2, 4], 0)"
   ]
  },
  {
   "cell_type": "code",
   "execution_count": 51,
   "metadata": {},
   "outputs": [
    {
     "name": "stdout",
     "output_type": "stream",
     "text": [
      "1\n",
      "0\n",
      "1\n",
      "0\n",
      "0\n",
      "-2\n",
      "0\n"
     ]
    }
   ],
   "source": [
    "def fancy_divide(numbers, index):\n",
    "    try:\n",
    "        denom = numbers[index]\n",
    "        for i in range(len(numbers)):\n",
    "            numbers[i] /= denom\n",
    "    except IndexError:\n",
    "        fancy_divide(numbers, len(numbers) - 1)\n",
    "    except ZeroDivisionError:\n",
    "        print(\"-2\")\n",
    "    else:\n",
    "        print(\"1\")\n",
    "    finally:\n",
    "        print(\"0\")\n",
    "        \n",
    "fancy_divide([0, 2, 4], 1)\n",
    "fancy_divide([0, 2, 4], 4)\n",
    "fancy_divide([0, 2, 4], 0)"
   ]
  },
  {
   "cell_type": "code",
   "execution_count": 57,
   "metadata": {},
   "outputs": [
    {
     "name": "stdout",
     "output_type": "stream",
     "text": [
      "1\n",
      "0\n",
      "1\n",
      "0\n",
      "0\n",
      "0\n",
      "-2\n"
     ]
    }
   ],
   "source": [
    "def fancy_divide(numbers, index):\n",
    "    try:\n",
    "        try:\n",
    "            denom = numbers[index]\n",
    "            for i in range(len(numbers)):\n",
    "                numbers[i] /= denom\n",
    "        except IndexError:\n",
    "            fancy_divide(numbers, len(numbers) - 1)\n",
    "        else:\n",
    "            print(\"1\")\n",
    "        finally:\n",
    "            print(\"0\")\n",
    "    except ZeroDivisionError:\n",
    "        print(\"-2\")\n",
    "        \n",
    "fancy_divide([0, 2, 4], 1)\n",
    "fancy_divide([0, 2, 4], 4)\n",
    "fancy_divide([0, 2, 4], 0)"
   ]
  },
  {
   "cell_type": "code",
   "execution_count": 59,
   "metadata": {},
   "outputs": [
    {
     "name": "stdout",
     "output_type": "stream",
     "text": [
      "division by zero\n"
     ]
    }
   ],
   "source": [
    "def fancy_divide(list_of_numbers, index):\n",
    "    try:\n",
    "        try:\n",
    "            raise Exception(\"0\")\n",
    "        finally:\n",
    "            denom = list_of_numbers[index]\n",
    "            for i in range(len(list_of_numbers)):\n",
    "                list_of_numbers[i] /= denom\n",
    "    except Exception as ex:\n",
    "        print(ex)\n",
    "        \n",
    "fancy_divide([0, 2, 4], 0)"
   ]
  },
  {
   "cell_type": "code",
   "execution_count": 6,
   "metadata": {},
   "outputs": [
    {
     "name": "stdout",
     "output_type": "stream",
     "text": [
      "0\n"
     ]
    }
   ],
   "source": [
    "def fancy_divide(list_of_numbers, index):\n",
    "    try:\n",
    "        try:\n",
    "            denom = list_of_numbers[index]\n",
    "            for i in range(len(list_of_numbers)):\n",
    "                list_of_numbers[i] /= denom\n",
    "        finally:\n",
    "            raise Exception(\"0\")\n",
    "    except Exception as ex:\n",
    "        print(ex)\n",
    "        \n",
    "fancy_divide([0, 2, 4], 0)"
   ]
  },
  {
   "cell_type": "code",
   "execution_count": 10,
   "metadata": {},
   "outputs": [
    {
     "data": {
      "text/plain": [
       "[0.0, 1.0, 2.0]"
      ]
     },
     "execution_count": 10,
     "metadata": {},
     "output_type": "execute_result"
    }
   ],
   "source": [
    "def fancy_divide(list_of_numbers, index):\n",
    "    denom = list_of_numbers[index]\n",
    "    return [simple_divide(item, denom) for item in list_of_numbers]\n",
    "\n",
    "\n",
    "def simple_divide(item, denom):\n",
    "    try:\n",
    "        return item / denom\n",
    "    except ZeroDivisionError:\n",
    "        return 0\n",
    "    \n",
    "fancy_divide([0, 2, 4], 0)\n",
    "fancy_divide([0, 2, 4], 1)"
   ]
  },
  {
   "cell_type": "markdown",
   "metadata": {},
   "source": [
    "Video: Assertions\n",
    "- to make sure assumptions on code (e.g inputs) are as expected, otherwise AssertionError is raised\n",
    "- "
   ]
  },
  {
   "cell_type": "code",
   "execution_count": 18,
   "metadata": {},
   "outputs": [
    {
     "data": {
      "text/plain": [
       "True"
      ]
     },
     "execution_count": 18,
     "metadata": {},
     "output_type": "execute_result"
    }
   ],
   "source": [
    "my_input = \"string\"\n",
    "my_input = 2\n",
    "\n",
    "type(my_input) == int"
   ]
  },
  {
   "cell_type": "markdown",
   "metadata": {},
   "source": [
    "- ensure that execution halts whenever an expected condition is not met\n",
    "- typically used to check inuts to functions procedures\n",
    "- can be used to check outputs of a function to avoid propagating bad values"
   ]
  },
  {
   "cell_type": "markdown",
   "metadata": {},
   "source": [
    "- function assert is used in the following way:\n",
    " - `assert (condition), \"message\" `"
   ]
  },
  {
   "cell_type": "code",
   "execution_count": 19,
   "metadata": {},
   "outputs": [
    {
     "ename": "AssertionError",
     "evalue": "cannot divide by 0",
     "output_type": "error",
     "traceback": [
      "\u001b[1;31m---------------------------------------------------------------------------\u001b[0m",
      "\u001b[1;31mAssertionError\u001b[0m                            Traceback (most recent call last)",
      "\u001b[1;32m<ipython-input-19-86daac7fb138>\u001b[0m in \u001b[0;36m<module>\u001b[1;34m()\u001b[0m\n\u001b[0;32m      1\u001b[0m \u001b[0mnumber\u001b[0m \u001b[1;33m=\u001b[0m \u001b[1;36m0\u001b[0m\u001b[1;33m\u001b[0m\u001b[0m\n\u001b[0;32m      2\u001b[0m \u001b[1;33m\u001b[0m\u001b[0m\n\u001b[1;32m----> 3\u001b[1;33m \u001b[1;32massert\u001b[0m\u001b[1;33m(\u001b[0m\u001b[0mnumber\u001b[0m \u001b[1;33m!=\u001b[0m \u001b[1;36m0\u001b[0m\u001b[1;33m)\u001b[0m\u001b[1;33m,\u001b[0m \u001b[1;34m\"cannot divide by 0\"\u001b[0m\u001b[1;33m\u001b[0m\u001b[0m\n\u001b[0m",
      "\u001b[1;31mAssertionError\u001b[0m: cannot divide by 0"
     ]
    }
   ],
   "source": [
    "number = 0\n",
    "assert(number != 0), \"cannot divide by 0\""
   ]
  }
 ],
 "metadata": {
  "kernelspec": {
   "display_name": "Python [conda env:Anaconda3]",
   "language": "python",
   "name": "conda-env-Anaconda3-py"
  },
  "language_info": {
   "codemirror_mode": {
    "name": "ipython",
    "version": 3
   },
   "file_extension": ".py",
   "mimetype": "text/x-python",
   "name": "python",
   "nbconvert_exporter": "python",
   "pygments_lexer": "ipython3",
   "version": "3.6.6"
  }
 },
 "nbformat": 4,
 "nbformat_minor": 2
}
