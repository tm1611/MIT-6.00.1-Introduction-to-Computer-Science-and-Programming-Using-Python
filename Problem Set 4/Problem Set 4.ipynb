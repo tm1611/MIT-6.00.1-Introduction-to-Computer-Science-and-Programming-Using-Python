{
 "cells": [
  {
   "cell_type": "markdown",
   "metadata": {},
   "source": [
    "# Problem Set 4"
   ]
  },
  {
   "cell_type": "markdown",
   "metadata": {},
   "source": [
    "Two versions of a wordgame have to be implemented in the following Problem Set.\n",
    "\n",
    "This game is a lot like Scrabble or \"words with friends\": Letters are dealt to players, who then construct one or more words out of their letters. Each valid word receives a score, based on the lenght of the word and the letters in that word. \n",
    "\n",
    "Rules of the game:\n",
    "\n",
    "**Dealing**\n",
    "- A player is dealt a hand of n letters chosen at random (assume n=7 for now).\n",
    "\n",
    "- The player arranges the hand into as many words as they want out of the letters, using each letter at most once.\n",
    "\n",
    "- Some letters may remain unused (these won't be scored).\n",
    "\n",
    "**Scoring**\n",
    "- Score is the sum of the scores for each word formed. \n",
    "- The score for a word is the sum of the points for letters in the word, multiplied by the length of the word, plus 50 points if all n letters are used on the first word created.\n",
    "- Letters are scored as in Scrabble; A is worth 1, B is worth 3, C is worth 3, D is worth 2, E is worth 1, and so on. We have defined the dictionary SCRABBLE_LETTER_VALUES that maps each lowercase letter to its Scrabble letter value.\n",
    "- For example, 'weed' would be worth 32 points ((4+1+1+2) for the four letters, then multiply by len('weed') to get (4+1+1+2)*4 = 32). Be sure to check that the hand actually has 1 'w', 2 'e's, and 1 'd' before scoring the word!\n",
    "- As another example, if n=7 and you make the word 'waybill' on the first try, it would be worth 155 points (the base score for 'waybill' is (4+1+4+3+1+1+1)*7=105, plus an additional 50 point bonus for using all n letters)."
   ]
  },
  {
   "cell_type": "code",
   "execution_count": 3,
   "metadata": {},
   "outputs": [
    {
     "name": "stdout",
     "output_type": "stream",
     "text": [
      "Loading word list from file...\n",
      "   83667 words loaded.\n",
      "playGame not yet implemented.\n"
     ]
    }
   ],
   "source": [
    "%run -i \"ps4a.py\""
   ]
  },
  {
   "cell_type": "code",
   "execution_count": 5,
   "metadata": {},
   "outputs": [
    {
     "name": "stdout",
     "output_type": "stream",
     "text": [
      "Loading word list from file...\n",
      "   83667 words loaded.\n",
      "----------------------------------------------------------------------\n",
      "Testing getWordScore...\n",
      "FAILURE: test_getWordScore()\n",
      "\tExpected 0 points but got 'None' for word '', n=7\n",
      "FAILURE: test_getWordScore()\n",
      "\tExpected 4 points but got 'None' for word 'it', n=7\n",
      "FAILURE: test_getWordScore()\n",
      "\tExpected 18 points but got 'None' for word 'was', n=7\n",
      "FAILURE: test_getWordScore()\n",
      "\tExpected 54 points but got 'None' for word 'scored', n=7\n",
      "FAILURE: test_getWordScore()\n",
      "\tExpected 155 points but got 'None' for word 'waybill', n=7\n",
      "FAILURE: test_getWordScore()\n",
      "\tExpected 127 points but got 'None' for word 'outgnaw', n=7\n",
      "FAILURE: test_getWordScore()\n",
      "\tExpected 44 points but got 'None' for word 'fork', n=7\n",
      "FAILURE: test_getWordScore()\n",
      "\tExpected 94 points but got 'None' for word 'fork', n=4\n",
      "----------------------------------------------------------------------\n",
      "Testing updateHand...\n",
      "FAILURE: test_updateHand('quail', {'a': 1, 'q': 1, 'l': 2, 'm': 1, 'u': 1, 'i': 1})\n",
      "\tReturned:  None \n",
      "\t-- but expected: {'l': 1, 'm': 1} or {'a': 0, 'q': 0, 'l': 1, 'm': 1, 'u': 0, 'i': 0}\n",
      "----------------------------------------------------------------------\n",
      "Testing isValidWord...\n",
      "FAILURE: test_isValidWord()\n",
      "\tExpected True, but got False for word: 'hello' and hand: {'h': 1, 'e': 1, 'l': 2, 'o': 1}\n",
      "FAILURE: test_isValidWord()\n",
      "\tTesting word hello for a second time - have you modified wordList?\n",
      "The word hello should be in wordList - is it? True\n",
      "\tExpected True, but got False for word: 'hello' and hand: {'h': 1, 'e': 1, 'l': 2, 'o': 1}\n",
      "FAILURE: test_isValidWord()\n",
      "\tExpected True, but got False for word: 'honey' and hand: {'n': 1, 'h': 1, 'o': 1, 'y': 1, 'd': 1, 'w': 1, 'e': 2}\n",
      "FAILURE: test_isValidWord()\n",
      "\tExpected True, but got False for word: 'evil' and hand: {'e': 1, 'v': 2, 'n': 1, 'i': 1, 'l': 2}\n",
      "----------------------------------------------------------------------\n",
      "All done!\n"
     ]
    }
   ],
   "source": [
    "# For now, all tests should fail\n",
    "% run -i \"test_ps4a.py\""
   ]
  },
  {
   "cell_type": "markdown",
   "metadata": {},
   "source": [
    "### Problem 1 - Word Scores\n",
    "The first step is to implement some code that allows us to calculate the score for a single word. The function getWordScore should accept as input a string of lowercase letters (a word) and return the integer score for that word, using the game's scoring rules.\n",
    "\n",
    "- Implemented `getWordScore(word, n)`: [x]"
   ]
  },
  {
   "cell_type": "markdown",
   "metadata": {},
   "source": [
    "### Problem 2 - Dealing with Hands\n",
    "The majority of this problem consists of learning how to read code, which is an incredibly useful and important skill. At the end, you will implement a short function. Be sure to take your time on this problem - it may seem easy, but reading someone else's code can be challenging and this is an important exercise.\n",
    "\n",
    "- implement `updateHand()` function [x] "
   ]
  },
  {
   "cell_type": "markdown",
   "metadata": {},
   "source": [
    "### Problem 3 - Valid Words\n",
    "At this point, we have written code to generate a random hand and display that hand to the user. We can also ask the user for a word (Python's input) and score the word (using your getWordScore). However, at this point we have not written any code to verify that a word given by a player obeys the rules of the game. A valid word is in the word list; and it is composed entirely of letters from the current hand. Implement the isValidWord function.\n",
    "\n",
    "- Implement `ìsValidWord()` function: [x]\n"
   ]
  },
  {
   "cell_type": "markdown",
   "metadata": {},
   "source": [
    "### Problem 4 - Hand Length\n",
    "We are now ready to begin writing the code that interacts with the player. We'll be implementing the playHand function. This function allows the user to play out a single hand. First, though, you'll need to implement the helper calculateHandlen function, which can be done in under five lines of code.\n",
    "- Implement `calculateHandlen`function: [x]"
   ]
  },
  {
   "cell_type": "markdown",
   "metadata": {},
   "source": [
    "### Problem 5 - Playing a Hand\n",
    "In ps4a.py, note that in the function playHand, there is a bunch of pseudocode. This pseudocode is provided to help guide you in writing your function. Check out the Why Pseudocode? resource to learn more about the What and Why of Pseudocode before you start coding your solution.\n",
    "\n",
    "Note: Do not assume that there will always be 7 letters in a hand! The parameter n represents the size of the hand.\n",
    "\n",
    "Testing: Before testing your code in the answer box, try out your implementation as if you were playing the game. Here is some example output of playHand:\n",
    "\n",
    "- Implement `playHand`: [x]\n"
   ]
  },
  {
   "cell_type": "markdown",
   "metadata": {},
   "source": [
    "### Problem 6 - Playing a Game\n",
    "A game consists of playing multiple hands. We need to implement one final function to complete our word-game program. Write the code that implements the playGame function. You should remove the code that is currently uncommented in the playGame body. Read through the specification and make sure you understand what this function accomplishes. For the game, you should use the HAND_SIZE constant to determine the number of cards in a hand.\n",
    "\n",
    "Testing: Try out this implementation as if you were playing the game. Try out different values for HAND_SIZE with your program, and be sure that you can play the wordgame with different hand sizes by modifying only the variable HAND_SIZE.\n",
    "\n",
    "- Implement `playGame`: [x]\n"
   ]
  },
  {
   "cell_type": "markdown",
   "metadata": {},
   "source": [
    "## Computer Choosing a Word and Playing a Hand\n",
    "Now that you have completed your word game code, you decide that you would like to enable your computer (SkyNet) to play the game (your hidden agenda is to prove once and for all that computers are inferior to human intellect!) In this part, you will be able to compare how you as a user succeed in the game compared to the computer's performance.\n",
    "\n",
    "You should look at the following two functions: compChooseWord and compPlayHand, before moving on to Problem 7 on the next page.\n",
    "\n",
    "compChooseWord\n",
    "If you follow the pseudocode for compChooseWord, you'll see that the code creates a computer player that is legal, but not always the best. Try to walk through and understand our implementation.\n",
    "\n",
    "A Note On Runtime: You may notice that things run a bit slowly when the computer plays. This is to be expected - the wordList has 83667 words, after all! \n",
    "\n",
    "### compPlayHand\n",
    "Now that we have the ability to let the computer choose a word, we need to set up a function to allow the computer to play a hand - in a manner very similar to Part A's playHand function. This function allows the computer to play a given hand and is very similar to the earlier version in which a user selected the word, although deciding when it is done playing a particular hand is different.\n",
    "\n",
    "### Problem 7 - You and your Computer\n",
    "Now that your computer can choose a word, you need to give the computer the option to play. Write the code that re-implements the playGame function. You will modify the function to behave as described below in the function's comments. As before, you should use the HAND_SIZE constant to determine the number of cards in a hand. Be sure to try out different values for HAND_SIZE with your program.\n",
    "- Implement `playGame`: []"
   ]
  }
 ],
 "metadata": {
  "kernelspec": {
   "display_name": "Python [conda env:Anaconda3]",
   "language": "python",
   "name": "conda-env-Anaconda3-py"
  },
  "language_info": {
   "codemirror_mode": {
    "name": "ipython",
    "version": 3
   },
   "file_extension": ".py",
   "mimetype": "text/x-python",
   "name": "python",
   "nbconvert_exporter": "python",
   "pygments_lexer": "ipython3",
   "version": "3.6.6"
  }
 },
 "nbformat": 4,
 "nbformat_minor": 2
}
