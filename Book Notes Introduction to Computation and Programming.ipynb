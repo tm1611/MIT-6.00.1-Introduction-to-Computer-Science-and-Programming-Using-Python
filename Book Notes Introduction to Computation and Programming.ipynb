{
 "cells": [
  {
   "cell_type": "markdown",
   "metadata": {},
   "source": [
    "# Book Notes Introduction to Computation and Programming Using Python\n",
    "Programming and coding of the book in addition to handwritten notes."
   ]
  },
  {
   "cell_type": "markdown",
   "metadata": {},
   "source": [
    "### Conditional Statements (linear programming)"
   ]
  },
  {
   "cell_type": "code",
   "execution_count": 1,
   "metadata": {},
   "outputs": [
    {
     "name": "stdout",
     "output_type": "stream",
     "text": [
      "x is even\n",
      "Easy conditional statements\n"
     ]
    }
   ],
   "source": [
    "x = 22\n",
    "\n",
    "if x%2 == 0:\n",
    "    # if true, do this\n",
    "    print(\"x is even\")\n",
    "else:\n",
    "    # otherwise, do this\n",
    "    print(\"x is odd\")\n",
    "print(\"Easy conditional statements\")"
   ]
  },
  {
   "cell_type": "code",
   "execution_count": 2,
   "metadata": {},
   "outputs": [
    {
     "name": "stdout",
     "output_type": "stream",
     "text": [
      "Not divisible by 3 or 2.\n"
     ]
    }
   ],
   "source": [
    "# nested conditional\n",
    "x = 35\n",
    "\n",
    "if x%2 == 0:\n",
    "    if x%3 == 0:\n",
    "        print(\"Divisible by 2 and 3\")\n",
    "    else:\n",
    "        print(\"Divisible by 2 and NOT by 3\")\n",
    "elif x%3 == 0:\n",
    "    print(\"Divisible by 3 and not by 2\")\n",
    "else:\n",
    "    print(\"Not divisible by 3 or 2.\")\n"
   ]
  },
  {
   "cell_type": "markdown",
   "metadata": {},
   "source": [
    "### Iteration: while and for loops"
   ]
  },
  {
   "cell_type": "code",
   "execution_count": 3,
   "metadata": {},
   "outputs": [
    {
     "name": "stdout",
     "output_type": "stream",
     "text": [
      "5 4\n",
      "10 3\n",
      "15 2\n",
      "20 1\n",
      "25 0\n",
      "25\n"
     ]
    }
   ],
   "source": [
    "# Square an integer, the hard way\n",
    "x = 5\n",
    "ans = 0\n",
    "itersLeft = abs(x)\n",
    "\n",
    "while (itersLeft != 0):\n",
    "    ans += x\n",
    "    itersLeft = itersLeft - 1\n",
    "    print(ans, itersLeft)\n",
    "    \n",
    "print(ans)"
   ]
  },
  {
   "cell_type": "code",
   "execution_count": 4,
   "metadata": {},
   "outputs": [],
   "source": [
    "# Enter 3 integers and print the largest odd number\n",
    "#that was entered\n"
   ]
  },
  {
   "cell_type": "code",
   "execution_count": 35,
   "metadata": {},
   "outputs": [
    {
     "name": "stdout",
     "output_type": "stream",
     "text": [
      "x is not a perfect cube\n"
     ]
    }
   ],
   "source": [
    "# find cube root of a perfect cube\n",
    "\n",
    "# x = int(input(\"Enter an integer: \"))\n",
    "x = 23\n",
    "ans = 0\n",
    "\n",
    "while ans**3 < abs(x):\n",
    "    ans += 1\n",
    "if ans**3 != abs(x):\n",
    "    print(\"x is not a perfect cube\")\n",
    "else:\n",
    "    if x < 0:\n",
    "        ans = -ans\n",
    "    print(\"Cube root of\", x, \"is\", ans)    "
   ]
  },
  {
   "cell_type": "markdown",
   "metadata": {},
   "source": [
    "**Exercise:** Write a program that asks the user to enter an integer and prints two integers, root and pwr, sucht that 0 < pwr < 6 and `root**pwr`is equal to the integer entered by the user. If no such pair of integers exists, it should print a message to that effect. "
   ]
  },
  {
   "cell_type": "code",
   "execution_count": 6,
   "metadata": {},
   "outputs": [
    {
     "name": "stdout",
     "output_type": "stream",
     "text": [
      "0\n",
      "1\n",
      "2\n",
      "3\n",
      "0\n",
      "1\n",
      "0\n",
      "1\n",
      "0\n",
      "1\n"
     ]
    }
   ],
   "source": [
    "# for loops\n",
    "x = 4 \n",
    "for j in range(x):\n",
    "    # range is 0,1,2,3\n",
    "    for i in range(x):\n",
    "        #first iteration -> ..\n",
    "        print(i)\n",
    "        x = 2\n",
    "        # changing x does not affect the range"
   ]
  },
  {
   "cell_type": "code",
   "execution_count": 38,
   "metadata": {},
   "outputs": [
    {
     "name": "stdout",
     "output_type": "stream",
     "text": [
      "ans:  0\n",
      "numGuesses: 0\n",
      "ans:  0.5\n",
      "numGuesses: 5000\n",
      "ans:  1.0\n",
      "numGuesses: 10000\n",
      "ans:  1.5\n",
      "numGuesses: 15000\n",
      "ans:  2.0\n",
      "numGuesses: 20000\n",
      "ans:  2.5\n",
      "numGuesses: 25000\n",
      "ans:  3.0\n",
      "numGuesses: 30000\n",
      "Final ans:  3.3152000000025716\n",
      "Final numGuesses:  33152\n"
     ]
    }
   ],
   "source": [
    "# Approximating square root\n",
    "x = 11\n",
    "epsilon = 0.01\n",
    "step = epsilon**2 \n",
    "numGuesses = 0\n",
    "ans = 0\n",
    "\n",
    "while abs(ans**2 - x) >= epsilon and ans <= x:\n",
    "    if numGuesses%5000 == 0:\n",
    "        print(\"ans: \", round(ans, 5))\n",
    "        print(\"numGuesses:\", numGuesses)\n",
    "    \n",
    "    ans += step\n",
    "    numGuesses += 1\n",
    "\n",
    "print(\"Final ans: \",ans)\n",
    "print(\"Final numGuesses: \", numGuesses)"
   ]
  },
  {
   "cell_type": "markdown",
   "metadata": {},
   "source": [
    "### Bisection Search"
   ]
  },
  {
   "cell_type": "code",
   "execution_count": 36,
   "metadata": {},
   "outputs": [
    {
     "name": "stdout",
     "output_type": "stream",
     "text": [
      "low =  0 high =  123 ans =  61.5\n",
      "low =  0 high =  61.5 ans =  30.75\n",
      "low =  0 high =  30.75 ans =  15.375\n",
      "low =  0 high =  15.375 ans =  7.6875\n",
      "low =  7.6875 high =  15.375 ans =  11.53125\n",
      "low =  7.6875 high =  11.53125 ans =  9.609375\n",
      "low =  9.609375 high =  11.53125 ans =  10.5703125\n",
      "low =  10.5703125 high =  11.53125 ans =  11.05078125\n",
      "low =  11.05078125 high =  11.53125 ans =  11.291015625\n",
      "low =  11.05078125 high =  11.291015625 ans =  11.1708984375\n",
      "low =  11.05078125 high =  11.1708984375 ans =  11.11083984375\n",
      "low =  11.05078125 high =  11.11083984375 ans =  11.080810546875\n",
      "low =  11.080810546875 high =  11.11083984375 ans =  11.0958251953125\n",
      "low =  11.080810546875 high =  11.0958251953125 ans =  11.08831787109375\n",
      "low =  11.08831787109375 high =  11.0958251953125 ans =  11.092071533203125\n",
      "final ans =  11.090194702148438\n",
      "final numGuesses =  15\n"
     ]
    }
   ],
   "source": [
    "# bisection search to approximate square root\n",
    "x = 123\n",
    "epsilon = 0.01\n",
    "numGuesses = 0.0\n",
    "low, high = 0, max(0,x)\n",
    "ans = (high + low) / 2\n",
    "\n",
    "while abs(ans**2 - x) >= epsilon:\n",
    "    print(\"low = \", low, \"high = \", high, \"ans = \", ans)\n",
    "    numGuesses += 1\n",
    "    if ans**2 < x:\n",
    "        low = ans\n",
    "    else:\n",
    "        high = ans\n",
    "    ans = (high + low)/2\n",
    "\n",
    "print(\"final ans = \", ans)\n",
    "print(\"final numGuesses = \", int(numGuesses))"
   ]
  },
  {
   "cell_type": "markdown",
   "metadata": {},
   "source": [
    "**Exercise:** what would have to be changed to make the code for finding an approxiamtion to the cube root of both negative and positive numebrs?\n",
    "- Hint: Change region being searched"
   ]
  },
  {
   "cell_type": "markdown",
   "metadata": {},
   "source": [
    "### Newton-Raphson\n",
    "- Method for finding successively better approximations to the roots (or zeroes) of a real-valued function. It is one example of a root-finding algorithm.\n",
    "- Idea: approximate by using tangent\n",
    "\n",
    "Initialize using: \n",
    "$$ x_1 = x_0 - \\frac{f(x_0)}{f'(x_0)}$$\n",
    "The process is repeated as:\n",
    "$$ x_{n+1} = x_n - \\frac{f(x_n)}{f'(x_n)} $$\n",
    "until a sufficiently accurate value is reached."
   ]
  },
  {
   "cell_type": "code",
   "execution_count": 77,
   "metadata": {},
   "outputs": [
    {
     "name": "stdout",
     "output_type": "stream",
     "text": [
      "8.0\n",
      "5.75\n",
      "5.309782608695652\n",
      "5.291534088380579\n",
      "5.291502622222739\n",
      "Guess =  5.291502622222739\n",
      "28^0.5 =  5.291502622129181\n"
     ]
    }
   ],
   "source": [
    "# Newton-Raphson for square root\n",
    "# Find x such that x**2 - 24 is within epsilon of 0\n",
    "\n",
    "epsilon = 0.0001 # tolerance\n",
    "k = 28\n",
    "guess = k/2\n",
    "\n",
    "while abs(guess**2 - k) >= epsilon:\n",
    "    f = lambda x: x**2 - k\n",
    "    f_prime = lambda x: 2*x\n",
    "    \n",
    "    guess = guess - f(guess) / f_prime(guess)\n",
    "    print(guess)\n",
    "    \n",
    "print(\"Guess = \", guess)\n",
    "print(\"28^0.5 = \", 28**0.5)"
   ]
  },
  {
   "cell_type": "markdown",
   "metadata": {},
   "source": [
    "### Functions, Scoping, and Abstraction"
   ]
  },
  {
   "cell_type": "code",
   "execution_count": 80,
   "metadata": {},
   "outputs": [
    {
     "data": {
      "text/plain": [
       "4"
      ]
     },
     "execution_count": 80,
     "metadata": {},
     "output_type": "execute_result"
    }
   ],
   "source": [
    "# simple function\n",
    "def maximum(x,y):\n",
    "    if x > y:\n",
    "        return x\n",
    "    else: \n",
    "        return y\n",
    "\n",
    "maximum(2,4)"
   ]
  },
  {
   "cell_type": "markdown",
   "metadata": {},
   "source": [
    "**Exercise:**\n",
    "Write a function isIn that accepts two strings as arguments\n",
    "and returns True if either string occurs anywhere in the other, and False\n",
    "otherwise. Hint: you might want to use the built-in str operation in."
   ]
  },
  {
   "cell_type": "code",
   "execution_count": 88,
   "metadata": {},
   "outputs": [
    {
     "name": "stdout",
     "output_type": "stream",
     "text": [
      "Meiendresch, Timo\n"
     ]
    }
   ],
   "source": [
    "# simple name function\n",
    "def printName(firstName, lastName, reverse=False):\n",
    "    if reverse:\n",
    "        print(lastName + \", \" + firstName)\n",
    "    else:\n",
    "        print(firstName + \", \" + lastName)\n",
    "        \n",
    "printName(\"Timo\", \"Meiendresch\", True)"
   ]
  },
  {
   "cell_type": "code",
   "execution_count": 100,
   "metadata": {},
   "outputs": [
    {
     "data": {
      "text/plain": [
       "5.0001220703125"
      ]
     },
     "execution_count": 100,
     "metadata": {},
     "output_type": "execute_result"
    }
   ],
   "source": [
    "# find root function using bisection search\n",
    "def findRoot(x, power=2, epsilon=0.01):\n",
    "    \"\"\"\n",
    "    Assumes x and epsilon int or float,\n",
    "    power an int, \n",
    "    epsilon > 0 & power >= 1\n",
    "    \"\"\"\n",
    "    if x < 0 and power%2 == 0:\n",
    "        return None\n",
    "    low = min(-1, x)\n",
    "    high = max(1, x)\n",
    "    ans = (high + low) / 2\n",
    "    \n",
    "    while abs(ans**power - x) >= epsilon:\n",
    "        if ans**power < x:\n",
    "            low = ans\n",
    "        else:\n",
    "            high = ans\n",
    "        ans = (high + low) / 2.0\n",
    "    return ans\n",
    "\n",
    "findRoot(25)   "
   ]
  },
  {
   "cell_type": "markdown",
   "metadata": {},
   "source": [
    "### Recursion"
   ]
  },
  {
   "cell_type": "markdown",
   "metadata": {},
   "source": [
    "A simple recursive defintion is the factorial function on natural numbers. The classic definition is:\n",
    "$$1! = 1$$\n",
    "and \n",
    "$$(n+1)! = (n+1)*n! $$\n",
    "\n",
    "The second equation defines factorial for all naturla numbers, except the base case, in terms of the factorial of the previous number. "
   ]
  },
  {
   "cell_type": "code",
   "execution_count": 106,
   "metadata": {},
   "outputs": [
    {
     "name": "stdout",
     "output_type": "stream",
     "text": [
      "n =  5 result =  6\n",
      "n =  4 result =  30\n",
      "n =  3 result =  120\n",
      "n =  2 result =  360\n",
      "n =  1 result =  720\n"
     ]
    },
    {
     "data": {
      "text/plain": [
       "720"
      ]
     },
     "execution_count": 106,
     "metadata": {},
     "output_type": "execute_result"
    }
   ],
   "source": [
    "# iterative solution factorial\n",
    "def fact_iter(n):\n",
    "    result = 1\n",
    "    while n > 1:\n",
    "        result *= n\n",
    "        n -= 1\n",
    "        print(\"n = \", n, \"result = \", result)\n",
    "    return result\n",
    "\n",
    "fact_iter(6)"
   ]
  },
  {
   "cell_type": "code",
   "execution_count": 117,
   "metadata": {},
   "outputs": [
    {
     "name": "stdout",
     "output_type": "stream",
     "text": [
      "n =  6\n",
      "n =  5\n",
      "n =  4\n",
      "n =  3\n",
      "n =  2\n"
     ]
    },
    {
     "data": {
      "text/plain": [
       "720"
      ]
     },
     "execution_count": 117,
     "metadata": {},
     "output_type": "execute_result"
    }
   ],
   "source": [
    "# recursive solution factorial\n",
    "def fact_rec(n):\n",
    "    if n == 1:\n",
    "        return 1 \n",
    "    else:\n",
    "        print(\"n = \", n)\n",
    "        return n*fact_rec(n-1)\n",
    "\n",
    "fact_rec(6)"
   ]
  },
  {
   "cell_type": "code",
   "execution_count": 137,
   "metadata": {},
   "outputs": [
    {
     "name": "stdout",
     "output_type": "stream",
     "text": [
      "14930352\n",
      "5.55558180809021\n"
     ]
    }
   ],
   "source": [
    "import time\n",
    "# fibonacci rabbits: recursive solution\n",
    "def fib_rec(n):\n",
    "    if n == 1 or n == 0:\n",
    "        return 1\n",
    "    else:\n",
    "        return fib_rec(n-1) + fib_rec(n-2)\n",
    "\n",
    "start = time.time()\n",
    "print(fib_rec(35))\n",
    "end = time.time()\n",
    "print(end - start)"
   ]
  },
  {
   "cell_type": "code",
   "execution_count": 142,
   "metadata": {},
   "outputs": [
    {
     "data": {
      "text/plain": [
       "'doggod'"
      ]
     },
     "execution_count": 142,
     "metadata": {},
     "output_type": "execute_result"
    }
   ],
   "source": [
    "# Check if a word, sentence is a palindrome\n",
    "s = \"dog God\"\n",
    "new_s = \"\"\n",
    "\n",
    "for char in s.lower():\n",
    "    if char in \"abcdefghijklmnopqrstuvwxyz\":\n",
    "        new_s += char\n",
    "new_s\n",
    "\n",
    "# ...page 49"
   ]
  },
  {
   "cell_type": "markdown",
   "metadata": {},
   "source": [
    "### Structured types, mutability, and higher-order functions"
   ]
  },
  {
   "cell_type": "code",
   "execution_count": 149,
   "metadata": {},
   "outputs": [
    {
     "name": "stdout",
     "output_type": "stream",
     "text": [
      "(1, 2, 4, 5, 10, 20)\n",
      "42\n"
     ]
    }
   ],
   "source": [
    "# function taht returns tuple containing\n",
    "# all common divisors of n1&n2\n",
    "\n",
    "def findDivisors(n1, n2):\n",
    "    divisors = () # empty tuple\n",
    "    for i in range(1, min(n1,n2)+1):\n",
    "        if n1%i == 0 and n2% i == 0:\n",
    "            divisors = divisors + (i,)\n",
    "    return divisors\n",
    "\n",
    "divisors = findDivisors(20, 100)\n",
    "print(divisors)\n",
    "\n",
    "total = 0\n",
    "for d in divisors:\n",
    "    total += d\n",
    "print(total)"
   ]
  },
  {
   "cell_type": "code",
   "execution_count": 153,
   "metadata": {},
   "outputs": [
    {
     "name": "stdout",
     "output_type": "stream",
     "text": [
      "I did it all\n",
      "4\n",
      "love\n"
     ]
    }
   ],
   "source": [
    "L = [\"I did it all\", 4, \"love\"]\n",
    "for i in range(len(L)):\n",
    "    print (L[i])"
   ]
  },
  {
   "cell_type": "markdown",
   "metadata": {},
   "source": [
    "### List comprehension\n"
   ]
  },
  {
   "cell_type": "code",
   "execution_count": 156,
   "metadata": {},
   "outputs": [
    {
     "name": "stdout",
     "output_type": "stream",
     "text": [
      "[1, 4, 9, 16, 25, 36]\n",
      "[1, 4, 9]\n"
     ]
    }
   ],
   "source": [
    "L = [x**2 for x in range(1,7)]\n",
    "print(L)\n",
    "\n",
    "mixed = [1, 2, \"a\", 3, 4.0]\n",
    "print ([x**2 for x in mixed if type(x) == int])"
   ]
  },
  {
   "cell_type": "markdown",
   "metadata": {},
   "source": [
    "### Functions as Objects\n",
    "Higher-order programming\n"
   ]
  },
  {
   "cell_type": "code",
   "execution_count": 163,
   "metadata": {},
   "outputs": [
    {
     "name": "stdout",
     "output_type": "stream",
     "text": [
      "[1, 2, 3.333]\n",
      "[1, 2, 3]\n"
     ]
    }
   ],
   "source": [
    "def applyToEach(L,f):\n",
    "    \"\"\"\n",
    "    Assumes L is a list, f a function\n",
    "    mutates L by replacing each element, e, of L by f(e)\n",
    "    \"\"\"\n",
    "    for i in range(len(L)):\n",
    "        L[i] = f(L[i])\n",
    "    return L\n",
    "        \n",
    "L = [1, -2, 3.333]\n",
    "\n",
    "print(applyToEach(L, abs))\n",
    "print(applyToEach(L, int))"
   ]
  },
  {
   "cell_type": "code",
   "execution_count": 178,
   "metadata": {},
   "outputs": [
    {
     "name": "stdout",
     "output_type": "stream",
     "text": [
      "[1, 2, 3]\n",
      "[1, 28, 9]\n"
     ]
    }
   ],
   "source": [
    "# built-in higher order function, map, that is similar\n",
    "\n",
    "print(list(map(abs, [-1,-2,3])))\n",
    "\n",
    "L1 = [1, 28, 36]\n",
    "L2 = [2, 57, 9]\n",
    "\n",
    "print(list(map(min, L1, L2)))\n",
    "\n"
   ]
  },
  {
   "cell_type": "markdown",
   "metadata": {},
   "source": [
    "### Strings, tuples and Lists"
   ]
  },
  {
   "cell_type": "code",
   "execution_count": 17,
   "metadata": {},
   "outputs": [
    {
     "data": {
      "text/plain": [
       "'davidguttagplaysbasketball'"
      ]
     },
     "execution_count": 17,
     "metadata": {},
     "output_type": "execute_result"
    }
   ],
   "source": [
    "s = \"David Guttag plays Basketball\"\n",
    "s.count(\"David\")\n",
    "s.find(\"plays\")\n",
    "s[13]\n",
    "s.index(\"l\")\n",
    "s.rindex(\"l\")\n",
    "s.lower().split()\n",
    "s.lower().replace(\" \",\"\")"
   ]
  },
  {
   "cell_type": "markdown",
   "metadata": {},
   "source": [
    "### Dictionaries"
   ]
  },
  {
   "cell_type": "code",
   "execution_count": 33,
   "metadata": {},
   "outputs": [],
   "source": [
    "monthNum = {'Jan':1, 'Feb':2, 'Mar':3, 'Apr':4, 'May':5,\n",
    "1:'Jan', 2:'Feb', 3:'Mar', 4:'Apr', 5:'May'}\n",
    "\n",
    "monthNum[\"Jan\"]\n",
    "monthNum.values()\n",
    "monthNum.keys()\n",
    "\n",
    "keys = []\n",
    "for e in monthNum:\n",
    "    keys.append(e)\n",
    "    "
   ]
  },
  {
   "cell_type": "markdown",
   "metadata": {},
   "source": [
    "### 6. Testing and Debugging"
   ]
  },
  {
   "cell_type": "code",
   "execution_count": null,
   "metadata": {},
   "outputs": [],
   "source": []
  }
 ],
 "metadata": {
  "kernelspec": {
   "display_name": "Python [conda env:Anaconda3]",
   "language": "python",
   "name": "conda-env-Anaconda3-py"
  },
  "language_info": {
   "codemirror_mode": {
    "name": "ipython",
    "version": 3
   },
   "file_extension": ".py",
   "mimetype": "text/x-python",
   "name": "python",
   "nbconvert_exporter": "python",
   "pygments_lexer": "ipython3",
   "version": "3.6.6"
  }
 },
 "nbformat": 4,
 "nbformat_minor": 2
}
