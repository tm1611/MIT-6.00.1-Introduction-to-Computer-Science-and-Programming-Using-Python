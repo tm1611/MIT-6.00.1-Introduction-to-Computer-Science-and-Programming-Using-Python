{
 "cells": [
  {
   "cell_type": "markdown",
   "metadata": {},
   "source": [
    "# Week 3: Structured Types"
   ]
  },
  {
   "cell_type": "markdown",
   "metadata": {},
   "source": [
    "### Lecture 5\n",
    "\n",
    "Video: Tuples\n",
    "- ordered sequence of elements, can mix element types\n",
    "- immutable\n",
    "- represented with parentheses"
   ]
  },
  {
   "cell_type": "code",
   "execution_count": 1,
   "metadata": {},
   "outputs": [
    {
     "name": "stdout",
     "output_type": "stream",
     "text": [
      "(2, 'one', 3)\n"
     ]
    },
    {
     "data": {
      "text/plain": [
       "2"
      ]
     },
     "execution_count": 1,
     "metadata": {},
     "output_type": "execute_result"
    }
   ],
   "source": [
    "te = ()\n",
    "t = (2, \"one\", 3)\n",
    "print(t)\n",
    "t[0]"
   ]
  },
  {
   "cell_type": "code",
   "execution_count": 2,
   "metadata": {},
   "outputs": [
    {
     "name": "stdout",
     "output_type": "stream",
     "text": [
      "(2, 'one', 3, 5, 6)\n"
     ]
    }
   ],
   "source": [
    "print(t + (5,6))\n",
    "# but immutable\n",
    "# t[1] = (2)"
   ]
  },
  {
   "cell_type": "code",
   "execution_count": 3,
   "metadata": {},
   "outputs": [
    {
     "data": {
      "text/plain": [
       "('one',)"
      ]
     },
     "execution_count": 3,
     "metadata": {},
     "output_type": "execute_result"
    }
   ],
   "source": [
    "t[1:2]"
   ]
  },
  {
   "cell_type": "code",
   "execution_count": 4,
   "metadata": {},
   "outputs": [
    {
     "name": "stdout",
     "output_type": "stream",
     "text": [
      "(9, 3)\n"
     ]
    }
   ],
   "source": [
    "x = (8,2)\n",
    "y = (9,3)\n",
    "# swap variable values\n",
    "(x,y) = (y,x)\n",
    "print(x)"
   ]
  },
  {
   "cell_type": "code",
   "execution_count": 5,
   "metadata": {},
   "outputs": [
    {
     "name": "stdout",
     "output_type": "stream",
     "text": [
      "2 1\n"
     ]
    }
   ],
   "source": [
    "def quotient_and_remainder(x,y):\n",
    "    q = x//y\n",
    "    r = x%y\n",
    "    return(q, r)\n",
    "(quot, rem) = quotient_and_remainder(11,5)\n",
    "\n",
    "print(quot, rem)"
   ]
  },
  {
   "cell_type": "code",
   "execution_count": 6,
   "metadata": {},
   "outputs": [
    {
     "data": {
      "text/plain": [
       "(3, 'John', 4)"
      ]
     },
     "execution_count": 6,
     "metadata": {},
     "output_type": "execute_result"
    }
   ],
   "source": [
    "x = (1, 2, (3, 'John', 4), 'Hi')\n",
    "type(x[0])\n",
    "type(x[2])\n",
    "x[-1][-1]\n",
    "x[0:-1]\n",
    "len(x)\n",
    "2 in x\n",
    "x[2]"
   ]
  },
  {
   "cell_type": "code",
   "execution_count": 7,
   "metadata": {},
   "outputs": [
    {
     "data": {
      "text/plain": [
       "('I', 'test')"
      ]
     },
     "execution_count": 7,
     "metadata": {},
     "output_type": "execute_result"
    }
   ],
   "source": [
    "# write a function that returns every other\n",
    "#every second element of aTup as a tuple\n",
    "#every x element\n",
    "\n",
    "tup = (\"I\", \"am\", \"a\", \"test\", \"tuple\")\n",
    "\n",
    "def oddTuples(aTup, x=2):\n",
    "    return aTup[0:len(aTup):x]    \n",
    "\n",
    "oddTuples(tup,3)"
   ]
  },
  {
   "cell_type": "markdown",
   "metadata": {},
   "source": [
    "Video: Lists\n",
    "- ordered sequence, accessible by index\n",
    "- denoted by square brackets, [ ]\n",
    "- list contains elements:\n",
    " - usually homogeneous (i.e. all integers)\n",
    " - can contain mixed types (not common)\n",
    "- list elements can be changed so a list is mutable"
   ]
  },
  {
   "cell_type": "code",
   "execution_count": 8,
   "metadata": {},
   "outputs": [
    {
     "name": "stdout",
     "output_type": "stream",
     "text": [
      "[2, 1, 3]\n",
      "[2, 5, 3]\n"
     ]
    }
   ],
   "source": [
    "a_list = []\n",
    "b_list = [2, \"a\", 4, True]\n",
    "L = [2,1,3]\n",
    "\n",
    "len(L)\n",
    "L[2-1] + 1\n",
    "\n",
    "# lists are mutable\n",
    "print(L)\n",
    "L[1] = 5\n",
    "print(L)"
   ]
  },
  {
   "cell_type": "code",
   "execution_count": 9,
   "metadata": {},
   "outputs": [
    {
     "name": "stdout",
     "output_type": "stream",
     "text": [
      "11\n",
      "2\n",
      "5\n",
      "4\n",
      "11\n"
     ]
    }
   ],
   "source": [
    "L = [2,5,4]\n",
    "\n",
    "total = 0\n",
    "for i in range(len(L)):\n",
    "    total += L[i]\n",
    "print(total)\n",
    "\n",
    "# alternatively\n",
    "total = 0\n",
    "for i in L:\n",
    "    print(i)\n",
    "    total += i\n",
    "print(total)"
   ]
  },
  {
   "cell_type": "code",
   "execution_count": 10,
   "metadata": {},
   "outputs": [
    {
     "data": {
      "text/plain": [
       "[8, 2, [3, 'John', 4], 'Hi']"
      ]
     },
     "execution_count": 10,
     "metadata": {},
     "output_type": "execute_result"
    }
   ],
   "source": [
    "x = [1, 2, [3, \"John\", 4], \"Hi\"]\n",
    "type(x[0:1])\n",
    "2 in x\n",
    "3 in x\n",
    "x[0] = 8\n",
    "x[0] = 8\n",
    "x"
   ]
  },
  {
   "cell_type": "markdown",
   "metadata": {},
   "source": [
    "Video: List operations\n",
    "- L.append\n",
    " - mutates the list\n",
    " - dot indicates that it is an object with methods and functions\n",
    " - Combine lists together using concatenation, +operator\n",
    " - mutate list with `L.extend(some_list)`"
   ]
  },
  {
   "cell_type": "code",
   "execution_count": 11,
   "metadata": {},
   "outputs": [
    {
     "name": "stdout",
     "output_type": "stream",
     "text": [
      "[2, 1, 3, 5]\n",
      "Mutate list with l.extend(some list)\n",
      "[2, 1, 3, 4, 5, 6]\n",
      "[2, 1, 3, 0, 6]\n",
      "Delete element at specific index\n",
      "[2, 1, 3, 5]\n",
      "[2, 1, 5]\n",
      "remove element at the end of lsit with L.pop()\n",
      "[2, 1, 5]\n",
      "[2, 1]\n",
      "Remove specific element with L.remove(element)\n",
      "[2, 1]\n",
      "[1]\n"
     ]
    }
   ],
   "source": [
    "L = [2,1,3]\n",
    "L.append(5)\n",
    "print(L)\n",
    "\n",
    "print(\"Mutate list with l.extend(some list)\")\n",
    "L1 = [2, 1, 3]\n",
    "L2 = [4, 5, 6]\n",
    "print(L1 + L2)\n",
    "L1.extend([0,6])\n",
    "print(L1)\n",
    "\n",
    "print(\"Delete element at specific index\") \n",
    "print(L)\n",
    "del(L[2])\n",
    "print(L)\n",
    "\n",
    "print(\"remove element at the end of lsit with L.pop()\")\n",
    "print(L)\n",
    "L.pop() # prints last element of list and removes it\n",
    "print(L)\n",
    "\n",
    "print(\"Remove specific element with L.remove(element)\")\n",
    "print(L)\n",
    "L.remove(2)\n",
    "print(L)\n",
    "# removes first occurrence of the specified element\n",
    "# gives error if element not in list"
   ]
  },
  {
   "cell_type": "code",
   "execution_count": 12,
   "metadata": {},
   "outputs": [
    {
     "name": "stdout",
     "output_type": "stream",
     "text": [
      ".join(L) to turn a list of characters into a string\n",
      "abc\n",
      "a_b_c\n",
      "<class 'str'>\n"
     ]
    }
   ],
   "source": [
    "# Convert lists to strings and back\n",
    "s= \"I <3 cs\"\n",
    "list(s)\n",
    "\n",
    "# Split a string on a character\n",
    "# splits on spaces if called withput param\n",
    "s.split()\n",
    "s.split(\"<\")\n",
    "\n",
    "print(\".join(L) to turn a list of characters into a string\")\n",
    "L = [\"a\", \"b\", \"c\"]\n",
    "\n",
    "# Use join to convert back to str\n",
    "print(\"\".join(L)) # use join operation on that string\n",
    "print(\"_\".join(L))\n",
    "print(type(\"_\".join(L)))"
   ]
  },
  {
   "cell_type": "markdown",
   "metadata": {},
   "source": [
    "Other list operations under: [data structures](https://docs.python.org/2/tutorial/datastructures.html)"
   ]
  },
  {
   "cell_type": "code",
   "execution_count": 13,
   "metadata": {},
   "outputs": [
    {
     "name": "stdout",
     "output_type": "stream",
     "text": [
      "[1, 2]\n",
      "[2, 1]\n",
      "[1, 2]\n"
     ]
    }
   ],
   "source": [
    "L = [2,1,3]\n",
    "L.pop()\n",
    "print(sorted(L)) # does not mutate\n",
    "print(L)\n",
    "L.sort() # mutates L\n",
    "print(L)"
   ]
  },
  {
   "cell_type": "code",
   "execution_count": 14,
   "metadata": {},
   "outputs": [
    {
     "data": {
      "text/plain": [
       "[4, 3, 6, 1, 4, 4, 1, 0, 100]"
      ]
     },
     "execution_count": 14,
     "metadata": {},
     "output_type": "execute_result"
    }
   ],
   "source": [
    "# Exercise 3\n",
    "listA = [1, 4, 3, 0]\n",
    "listB = [\"x\", \"z\", \"t\", \"q\"]\n",
    "\n",
    "listA.sort()\n",
    "listA\n",
    "\n",
    "listA.insert(0,100)\n",
    "listA.remove(3)\n",
    "\n",
    "listA.append(7)\n",
    "listA + listB\n",
    "\n",
    "listB.sort()\n",
    "listB.pop()\n",
    "\n",
    "listB.count(\"a\")\n",
    "# listB.remove(\"a\")\n",
    "\n",
    "listA.extend([4,1,6,3,4])\n",
    "listA.count(4)\n",
    "\n",
    "listA.index(1)\n",
    "listA.pop(4)\n",
    "\n",
    "listA.reverse()\n",
    "listA"
   ]
  },
  {
   "cell_type": "markdown",
   "metadata": {},
   "source": [
    "Video: Mutation, Aliasing, CLoning\n",
    "- lists are mutable\n",
    "- variable name points to object and any variable pointing to taht object is affected\n",
    "- Keep in mind: Side effects\n",
    "- Try to avoid aliasing like `List2 = List1` where List2 simply points to List1. Changes in List1 are transfmitted to List2\n",
    "- Instead of aliasing -> Cloning\n",
    " - Create a new list and copy every element using `List2 = List1[:]`\n",
    "- Sorting lists: `sort()` mutates the list, returns nothing, whereas calling `sorted()`does not mutate list -> must assign result to a variable."
   ]
  },
  {
   "cell_type": "code",
   "execution_count": 15,
   "metadata": {},
   "outputs": [
    {
     "data": {
      "text/plain": [
       "2099935667592"
      ]
     },
     "execution_count": 15,
     "metadata": {},
     "output_type": "execute_result"
    }
   ],
   "source": [
    "aList = [0, 1, 2, 3, 4, 5]\n",
    "bList = aList\n",
    "aList[2] = \"hello\"\n",
    "aList == bList\n",
    "aList is bList\n",
    "id(aList)"
   ]
  },
  {
   "cell_type": "markdown",
   "metadata": {},
   "source": [
    "Video: Functions as objects\n",
    "- first class objects\n",
    "- particularly useful to use functions as arguments when coupled with lists\n",
    "- Generalization of higher order procedure (Hops)\n",
    " - python provides a general purpose HOP, `map`"
   ]
  },
  {
   "cell_type": "code",
   "execution_count": 16,
   "metadata": {},
   "outputs": [
    {
     "name": "stdout",
     "output_type": "stream",
     "text": [
      "[1, 2, 3.4]\n",
      "[1, 2, 3]\n"
     ]
    }
   ],
   "source": [
    "def applyToEach(L, f):\n",
    "    \"\"\"\n",
    "    assumes L is a list, f a function\n",
    "    mutates L by replacing each element,\n",
    "    e, of L by f(e)\n",
    "    \"\"\"\n",
    "    for i in range(len(L)):\n",
    "        L[i] = f(L[i])\n",
    "    return L\n",
    "        \n",
    "L = [1, -2, 3.4]\n",
    "\n",
    "print(applyToEach(L, abs))\n",
    "print(applyToEach(L, int))"
   ]
  },
  {
   "cell_type": "code",
   "execution_count": 17,
   "metadata": {},
   "outputs": [
    {
     "name": "stdout",
     "output_type": "stream",
     "text": [
      "4.32\n",
      "-4\n"
     ]
    }
   ],
   "source": [
    "# apply a list of functions to a number:\n",
    "def applyFuns(L, x):\n",
    "    for f in L:\n",
    "        print(f(x))\n",
    "        \n",
    "applyFuns([abs, int], -4.32)"
   ]
  },
  {
   "cell_type": "code",
   "execution_count": 18,
   "metadata": {},
   "outputs": [
    {
     "name": "stdout",
     "output_type": "stream",
     "text": [
      "1\n",
      "2\n",
      "3.4\n",
      "4\n"
     ]
    }
   ],
   "source": [
    "# map produces an iterable without output\n",
    "map(abs, [1, -2, 3.4, -4])\n",
    "L = [1, -2, 3.4, -4]\n",
    "\n",
    "# has to be iterated over\n",
    "for elt in map(abs, L):\n",
    "    print(elt)\n"
   ]
  },
  {
   "cell_type": "code",
   "execution_count": 19,
   "metadata": {},
   "outputs": [
    {
     "name": "stdout",
     "output_type": "stream",
     "text": [
      "1\n",
      "28\n",
      "9\n"
     ]
    }
   ],
   "source": [
    "# general form -an n-ary function and n collections of args\n",
    "\n",
    "L1 = [1, 28, 36]\n",
    "L2 = [2, 57, 9]\n",
    "\n",
    "for elt in map(min, L1, L2):\n",
    "    print(elt)\n",
    "    \n",
    "# Note that 1 is min(1,2), 28 = min(28,57)..."
   ]
  },
  {
   "cell_type": "code",
   "execution_count": 20,
   "metadata": {},
   "outputs": [
    {
     "name": "stdout",
     "output_type": "stream",
     "text": [
      "[5, -20, 40, -45]\n"
     ]
    }
   ],
   "source": [
    "# Exercise \n",
    "\n",
    "def applyToEach(L, f):\n",
    "    for i in range(len(L)):\n",
    "        L[i] = f(L[i])\n",
    "        \n",
    "testList = [1, -4, 8, -9]\n",
    "\n",
    "def fun1(x):\n",
    "    return x*5\n",
    "\n",
    "applyToEach(testList, fun1)\n",
    "\n",
    "print(testList)"
   ]
  },
  {
   "cell_type": "code",
   "execution_count": 21,
   "metadata": {},
   "outputs": [
    {
     "name": "stdout",
     "output_type": "stream",
     "text": [
      "[2, -3, 9, -8]\n"
     ]
    }
   ],
   "source": [
    "testList = [1, -4, 8, -9]\n",
    "\n",
    "def plusOne(x):\n",
    "    return x+1\n",
    "\n",
    "applyToEach(testList, plusOne)\n",
    "print(testList)"
   ]
  },
  {
   "cell_type": "code",
   "execution_count": 22,
   "metadata": {},
   "outputs": [
    {
     "name": "stdout",
     "output_type": "stream",
     "text": [
      "[1, 16, 64, 81]\n"
     ]
    }
   ],
   "source": [
    "testList = [1, -4, 8, -9]\n",
    "\n",
    "def squared(x):\n",
    "    return x**2\n",
    "\n",
    "applyToEach(testList, squared)\n",
    "print(testList)"
   ]
  },
  {
   "cell_type": "code",
   "execution_count": 23,
   "metadata": {},
   "outputs": [
    {
     "data": {
      "text/plain": [
       "[4.0, 9.0, 1.5, 3.0]"
      ]
     },
     "execution_count": 23,
     "metadata": {},
     "output_type": "execute_result"
    }
   ],
   "source": [
    "# Exercise 5\n",
    "def applyEachTo(L, x):\n",
    "    result = []\n",
    "    for i in range(len(L)):\n",
    "        result.append(L[i](x))\n",
    "    return result\n",
    "\n",
    "def square(a):\n",
    "    return a*a\n",
    "\n",
    "def halve(a):\n",
    "    return a/2\n",
    "\n",
    "def inc(a):\n",
    "    return a+1\n",
    "\n",
    "applyEachTo([inc, square, halve, abs], 3.0)"
   ]
  },
  {
   "cell_type": "markdown",
   "metadata": {},
   "source": [
    "### Lecture 6: Dictionaries\n",
    "\n",
    "Video: Quick Review\n",
    "\n",
    "Video: Dictionaries\n",
    "- store using seperate lists for every info\n",
    "- dictionaries have a key under which we can look up all asociated information just like in a literal dictionary. "
   ]
  },
  {
   "cell_type": "code",
   "execution_count": 24,
   "metadata": {},
   "outputs": [
    {
     "name": "stdout",
     "output_type": "stream",
     "text": [
      "Ana B 2.0\n",
      "John A+ 6.0001\n",
      "Denise A 20.002\n",
      "Katy A 9.01\n"
     ]
    }
   ],
   "source": [
    "names = ['Ana', 'John', 'Denise', 'Katy']\n",
    "grade = ['B', 'A+', 'A', 'A']\n",
    "course = [2.00, 6.0001, 20.002, 9.01]\n",
    "\n",
    "# to get info on one student \n",
    "for i in range(len(names)):\n",
    "    print(names[i], grade[i], course[i])"
   ]
  },
  {
   "cell_type": "code",
   "execution_count": 25,
   "metadata": {},
   "outputs": [
    {
     "name": "stdout",
     "output_type": "stream",
     "text": [
      "A+\n",
      "True\n"
     ]
    },
    {
     "data": {
      "text/plain": [
       "dict_values(['B', 'A+', 'A'])"
      ]
     },
     "execution_count": 25,
     "metadata": {},
     "output_type": "execute_result"
    }
   ],
   "source": [
    "my_dict = {}\n",
    "grades = {\"Ana\": \"B\", \"John\": \"A+\", \"Denise\": \"A\"}\n",
    "\n",
    "print(grades[\"John\"])\n",
    "print(\"John\" in grades)\n",
    "grades.keys()\n",
    "grades.values()"
   ]
  },
  {
   "cell_type": "code",
   "execution_count": 26,
   "metadata": {},
   "outputs": [
    {
     "data": {
      "text/plain": [
       "dict_values(['aardvark', 'baboon', 'coati', 'donkey'])"
      ]
     },
     "execution_count": 26,
     "metadata": {},
     "output_type": "execute_result"
    }
   ],
   "source": [
    "# Exercise 1\n",
    "animals = {'a': 'aardvark', 'b': 'baboon', 'c': 'coati'}\n",
    "\n",
    "animals['d'] = 'donkey'\n",
    "animals\n",
    "\"baboon\" in animals # no key with the name\n",
    "animals.keys()\n",
    "animals.values()"
   ]
  },
  {
   "cell_type": "markdown",
   "metadata": {},
   "source": [
    "Video: Example with a dictionary\n",
    "- Create a frequency dictionary mapping from str:int\n",
    "- find words that occurs the most\n",
    "- find words that occur at least x times"
   ]
  },
  {
   "cell_type": "code",
   "execution_count": 27,
   "metadata": {},
   "outputs": [],
   "source": [
    "# Song:\n",
    "lyrics1 = she_loves_you = ['she', 'loves', 'you', 'yeah', 'yeah', 'yeah',\n",
    "'she', 'loves', 'you', 'yeah', 'yeah', 'yeah',\n",
    "'she', 'loves', 'you', 'yeah', 'yeah', 'yeah']\n",
    "\n",
    "she_loves_you = ['she', 'loves', 'you', 'yeah', 'yeah', 'yeah',\n",
    "'she', 'loves', 'you', 'yeah', 'yeah', 'yeah',\n",
    "'she', 'loves', 'you', 'yeah', 'yeah', 'yeah',\n",
    "\n",
    "'you', 'think', \"you've\", 'lost', 'your', 'love',\n",
    "'well', 'i', 'saw', 'her', 'yesterday-yi-yay',\n",
    "\"it's\", 'you', \"she's\", 'thinking', 'of',\n",
    "'and', 'she', 'told', 'me', 'what', 'to', 'say-yi-yay',\n",
    "\n",
    "'she', 'says', 'she', 'loves', 'you',\n",
    "'and', 'you', 'know', 'that', \"can't\", 'be', 'bad',\n",
    "'yes', 'she', 'loves', 'you',\n",
    "'and', 'you', 'know', 'you', 'should', 'be', 'glad',\n",
    "\n",
    "'she', 'said', 'you', 'hurt', 'her', 'so',\n",
    "'she', 'almost', 'lost', 'her', 'mind',\n",
    "'and', 'now', 'she', 'says', 'she', 'knows',\n",
    "\"you're\", 'not', 'the', 'hurting', 'kind',\n",
    "\n",
    "'she', 'says', 'she', 'loves', 'you',\n",
    "'and', 'you', 'know', 'that', \"can't\", 'be', 'bad',\n",
    "'yes', 'she', 'loves', 'you',\n",
    "'and', 'you', 'know', 'you', 'should', 'be', 'glad',\n",
    "\n",
    "'oo', 'she', 'loves', 'you', 'yeah', 'yeah', 'yeah',\n",
    "'she', 'loves', 'you', 'yeah', 'yeah', 'yeah',\n",
    "'with', 'a', 'love', 'like', 'that',\n",
    "'you', 'know', 'you', 'should', 'be', 'glad',\n",
    "\n",
    "'you', 'know', \"it's\", 'up', 'to', 'you',\n",
    "'i', 'think', \"it's\", 'only', 'fair',\n",
    "'pride', 'can', 'hurt', 'you', 'too',\n",
    "'pologize', 'to', 'her',\n",
    "\n",
    "'Because', 'she', 'loves', 'you',\n",
    "'and', 'you', 'know', 'that', \"can't\", 'be', 'bad',\n",
    "'Yes', 'she', 'loves', 'you',\n",
    "'and', 'you', 'know', 'you', 'should', 'be', 'glad',\n",
    "\n",
    "'oo', 'she', 'loves', 'you', 'yeah', 'yeah', 'yeah',\n",
    "'she', 'loves', 'you', 'yeah', 'yeah', 'yeah',\n",
    "'with', 'a', 'love', 'like', 'that',\n",
    "'you', 'know', 'you', 'should', 'be', 'glad',\n",
    "'with', 'a', 'love', 'like', 'that',\n",
    "'you', 'know', 'you', 'should', 'be', 'glad',\n",
    "'with', 'a', 'love', 'like', 'that',\n",
    "'you', 'know', 'you', 'should', 'be', 'glad',\n",
    "'yeah', 'yeah', 'yeah',\n",
    "'yeah', 'yeah', 'yeah', 'yeah'\n",
    "]"
   ]
  },
  {
   "cell_type": "code",
   "execution_count": 28,
   "metadata": {},
   "outputs": [
    {
     "data": {
      "text/plain": [
       "{'she': 3, 'loves': 3, 'you': 3, 'yeah': 9}"
      ]
     },
     "execution_count": 28,
     "metadata": {},
     "output_type": "execute_result"
    }
   ],
   "source": [
    "def lyrics_to_frequencies(lyrics):\n",
    "    myDict = {}\n",
    "    for word in lyrics:\n",
    "        if word in myDict:\n",
    "            myDict[word] += 1\n",
    "        else:\n",
    "            myDict[word] = 1\n",
    "    return myDict\n",
    "\n",
    "lyrics_to_frequencies(lyrics1)  "
   ]
  },
  {
   "cell_type": "code",
   "execution_count": 29,
   "metadata": {},
   "outputs": [
    {
     "data": {
      "text/plain": [
       "{'she': 20,\n",
       " 'loves': 13,\n",
       " 'you': 36,\n",
       " 'yeah': 28,\n",
       " 'think': 2,\n",
       " \"you've\": 1,\n",
       " 'lost': 2,\n",
       " 'your': 1,\n",
       " 'love': 5,\n",
       " 'well': 1,\n",
       " 'i': 2,\n",
       " 'saw': 1,\n",
       " 'her': 4,\n",
       " 'yesterday-yi-yay': 1,\n",
       " \"it's\": 3,\n",
       " \"she's\": 1,\n",
       " 'thinking': 1,\n",
       " 'of': 1,\n",
       " 'and': 8,\n",
       " 'told': 1,\n",
       " 'me': 1,\n",
       " 'what': 1,\n",
       " 'to': 3,\n",
       " 'say-yi-yay': 1,\n",
       " 'says': 3,\n",
       " 'know': 11,\n",
       " 'that': 7,\n",
       " \"can't\": 3,\n",
       " 'be': 10,\n",
       " 'bad': 3,\n",
       " 'yes': 2,\n",
       " 'should': 7,\n",
       " 'glad': 7,\n",
       " 'said': 1,\n",
       " 'hurt': 2,\n",
       " 'so': 1,\n",
       " 'almost': 1,\n",
       " 'mind': 1,\n",
       " 'now': 1,\n",
       " 'knows': 1,\n",
       " \"you're\": 1,\n",
       " 'not': 1,\n",
       " 'the': 1,\n",
       " 'hurting': 1,\n",
       " 'kind': 1,\n",
       " 'oo': 2,\n",
       " 'with': 4,\n",
       " 'a': 4,\n",
       " 'like': 4,\n",
       " 'up': 1,\n",
       " 'only': 1,\n",
       " 'fair': 1,\n",
       " 'pride': 1,\n",
       " 'can': 1,\n",
       " 'too': 1,\n",
       " 'pologize': 1,\n",
       " 'Because': 1,\n",
       " 'Yes': 1}"
      ]
     },
     "execution_count": 29,
     "metadata": {},
     "output_type": "execute_result"
    }
   ],
   "source": [
    "beatles = lyrics_to_frequencies(she_loves_you)\n",
    "beatles"
   ]
  },
  {
   "cell_type": "code",
   "execution_count": 30,
   "metadata": {},
   "outputs": [
    {
     "name": "stdout",
     "output_type": "stream",
     "text": [
      "['you'] 36\n"
     ]
    }
   ],
   "source": [
    "# Using the dictionary from before\n",
    "# find most common words\n",
    "\n",
    "def most_common_words(freqs):\n",
    "    values = freqs.values()\n",
    "    best = max(values)\n",
    "    words = []\n",
    "    for k in freqs:\n",
    "        if freqs [k] == best:\n",
    "            words.append(k)\n",
    "    return (words, best)\n",
    "\n",
    "w, b = most_common_words(beatles)\n",
    "print(w, b)"
   ]
  },
  {
   "cell_type": "code",
   "execution_count": 31,
   "metadata": {},
   "outputs": [
    {
     "data": {
      "text/plain": [
       "[(['you'], 36),\n",
       " (['yeah'], 28),\n",
       " (['she'], 20),\n",
       " (['loves'], 13),\n",
       " (['know'], 11),\n",
       " (['be'], 10)]"
      ]
     },
     "execution_count": 31,
     "metadata": {},
     "output_type": "execute_result"
    }
   ],
   "source": [
    "# find words that occur often\n",
    "# collect words that occur minTimes\n",
    "# remove those words from the dictionary\n",
    "\n",
    "# restore \"beatles\" every time\n",
    "beatles = lyrics_to_frequencies(she_loves_you)\n",
    "\n",
    "def words_often(freqs, minTimes):\n",
    "    result = []\n",
    "    done = False # Flag\n",
    "    while not done:\n",
    "        temp = most_common_words(freqs)\n",
    "        if temp[1] >= minTimes:\n",
    "            result.append(temp) # mutate\n",
    "            for w in temp[0]:\n",
    "                del(freqs[w])\n",
    "        else:\n",
    "            done = True\n",
    "    return result\n",
    "\n",
    "words_often(beatles, 10)"
   ]
  },
  {
   "cell_type": "code",
   "execution_count": 32,
   "metadata": {},
   "outputs": [
    {
     "data": {
      "text/plain": [
       "6"
      ]
     },
     "execution_count": 32,
     "metadata": {},
     "output_type": "execute_result"
    }
   ],
   "source": [
    "animals = { 'a': ['aardvark'], 'b': ['baboon'], 'c': ['coati']}\n",
    "\n",
    "animals['d'] = ['donkey']\n",
    "animals['d'].append('dog')\n",
    "animals['d'].append('dingo')\n",
    "\n",
    "# how many. returns the sum of the num of values\n",
    "# associated with a dictionary.\n",
    "\n",
    "def how_many(aDict):\n",
    "    num = 0\n",
    "    for val in aDict.values():\n",
    "        num += len(val)\n",
    "    return num\n",
    "        \n",
    "# print(how_many(animals))\n",
    "\n",
    "def how_many(aDict):\n",
    "    res = 0\n",
    "    for key in aDict.keys():\n",
    "        res += len(aDict[key])\n",
    "    return res\n",
    "\n",
    "how_many(animals)   \n"
   ]
  },
  {
   "cell_type": "code",
   "execution_count": 33,
   "metadata": {},
   "outputs": [
    {
     "data": {
      "text/plain": [
       "['d']"
      ]
     },
     "execution_count": 33,
     "metadata": {},
     "output_type": "execute_result"
    }
   ],
   "source": [
    "# Exercise: biggest\n",
    "animals = { 'a': ['aardvark'], 'b': ['baboon'], 'c': ['coati']}\n",
    "\n",
    "animals['d'] = ['donkey']\n",
    "animals['d'].append('dog')\n",
    "animals['d'].append('dingo')\n",
    "\n",
    "# write a procedure, called biggest,\n",
    "#returning the key corresponing to the entry\n",
    "#with the largest number of values assoc.\n",
    "#with it. If there is more than one such entry\n",
    "#return any one of the matching keys.\n",
    "#If there are no values in the dictionary, \n",
    "#biggest should return None\n",
    "\n",
    "def key_length(aDict):\n",
    "    myDict = {}\n",
    "    for key in aDict:\n",
    "        myDict[key] = len(aDict[key])\n",
    "    return myDict\n",
    "\n",
    "key_length(animals)\n",
    "\n",
    "def biggest(aDict):\n",
    "    myDict = key_length(aDict)\n",
    "    biggest = max(myDict.values())\n",
    "    \n",
    "    result = []\n",
    "    for items in aDict.items():\n",
    "        if len(items[1]) == biggest:\n",
    "            result.append(items[0])\n",
    "    return result\n",
    "\n",
    "biggest(animals)"
   ]
  },
  {
   "cell_type": "code",
   "execution_count": 34,
   "metadata": {},
   "outputs": [
    {
     "data": {
      "text/plain": [
       "'d'"
      ]
     },
     "execution_count": 34,
     "metadata": {},
     "output_type": "execute_result"
    }
   ],
   "source": [
    "def biggest(aDict):\n",
    "    result = None\n",
    "    biggestValue = 0\n",
    "    for key in aDict.keys():\n",
    "        if len(aDict[key]) >= biggestValue:\n",
    "            result = key\n",
    "            biggestValue = len(aDict[key])\n",
    "    return result\n",
    "\n",
    "biggest(animals)"
   ]
  },
  {
   "cell_type": "markdown",
   "metadata": {},
   "source": [
    "Video: Fibonacci and Dictionaries\n",
    "- In the recursive cases some values ahve already been computed and are repetitively computed. \n",
    "- Use dictionaries to track already calculated values"
   ]
  },
  {
   "cell_type": "code",
   "execution_count": 42,
   "metadata": {},
   "outputs": [
    {
     "name": "stdout",
     "output_type": "stream",
     "text": [
      "165580141\n"
     ]
    }
   ],
   "source": [
    "# Fibonacci with a dictionary\n",
    "def fib_efficient(n, d):\n",
    "    if n in d:\n",
    "        return d[n]\n",
    "    else: \n",
    "        ans = fib_efficient(n-1, d) + fib_efficient(n-2, d)\n",
    "        d[n] = ans\n",
    "        return ans\n",
    "    \n",
    "d = {1:1, 2:2}\n",
    "print(fib_efficient(40,d))"
   ]
  },
  {
   "cell_type": "markdown",
   "metadata": {},
   "source": [
    "This method is sometimes called \"memoization\"."
   ]
  },
  {
   "cell_type": "markdown",
   "metadata": {},
   "source": [
    "Video: Global Variables\n",
    "- can be dangerous to use\n",
    " - breaks the scoping of variables by function call\n",
    " - allows for side effects of changing variable values in ways\n",
    "- can be convenient when want to keep track of information inside a function\n",
    "- example - measuring how often `fib` and `fib_efficient`are called.\n",
    "- use `global`to check how often a function has been called."
   ]
  },
  {
   "cell_type": "code",
   "execution_count": null,
   "metadata": {},
   "outputs": [],
   "source": []
  }
 ],
 "metadata": {
  "kernelspec": {
   "display_name": "Python [conda env:Anaconda3]",
   "language": "python",
   "name": "conda-env-Anaconda3-py"
  },
  "language_info": {
   "codemirror_mode": {
    "name": "ipython",
    "version": 3
   },
   "file_extension": ".py",
   "mimetype": "text/x-python",
   "name": "python",
   "nbconvert_exporter": "python",
   "pygments_lexer": "ipython3",
   "version": "3.6.6"
  }
 },
 "nbformat": 4,
 "nbformat_minor": 2
}
