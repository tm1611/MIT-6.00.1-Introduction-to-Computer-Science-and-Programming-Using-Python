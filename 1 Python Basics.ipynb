{
 "cells": [
  {
   "cell_type": "markdown",
   "metadata": {},
   "source": [
    "# Notes"
   ]
  },
  {
   "cell_type": "code",
   "execution_count": 8,
   "metadata": {},
   "outputs": [],
   "source": [
    "# Clear space from variables\n",
    "%reset -f"
   ]
  },
  {
   "cell_type": "markdown",
   "metadata": {},
   "source": [
    "Ressources:\n",
    "- http://mitxcsjourney.blogspot.com/\n",
    "- https://www.youtube.com/playlist?list=PLDKj29wsRcH5yxmkShnRqkl-gvA0DFdBx\n",
    "- https://www.youtube.com/playlist?list=PL4e66Kzl1JCF0rL_uq-w2yPBP3mDsm7iD\n"
   ]
  },
  {
   "cell_type": "markdown",
   "metadata": {},
   "source": [
    "## Week One:\n",
    "\n",
    "### 1. Introduction to Python\n",
    "\n",
    "Video: Intro\n",
    "- What does a computer do: Calculations and remembering stuff.\n",
    "- Need algorithms, brute force not efficient enough\n",
    "- be clever with algorithms to get solutions\n",
    "- e.g. problem of local weather prediction still very complicated.\n",
    "\n",
    "Video: Knowledge\n",
    "- declarative knowledge and imperative knowledge\n",
    "- declarative -> statement \n",
    "- imperative -> recipe (\"how to\")\n",
    "- example of algorithm, recipe to find square root\n",
    "- recipe: 1) seq of simple steps 2) flow of control 3) when to stop\n",
    " - 1+2+3 is an algorithm\n",
    "\n",
    "Video: Machines\n",
    "- fixed program vs. store program\n",
    "- fixed -> one purpose (calculator, turing's bomb)\n",
    "- stored -> Computer: different instructions\n",
    "- Basic machine architecutre: memory, input, oputput\n",
    " - Arithmetic logic unit (ALU) ->primitive ops\n",
    " - Control unit (program counter). Tells me where i am in a sequence, causes loop of ops...\n",
    " - goal: write sections of instruction\n",
    "- Instructions store inside computer\n",
    "- Special program (interpreter) executes each instruction in order\n",
    "- Compute anything with 6 primitives (turing)\n",
    "- Fundamental principle: anything computable in one languag is computable in any other programming language. BAM! Turing complete\n",
    "\n",
    "Video: Languages\n",
    "- creating recipes using languages\n",
    "- language -> operations\n",
    "- expressions: combinations of primitives\n",
    "- value is meaning of expression\n",
    "- every language: primitives, means of combinations, means of abstraction\n",
    " - primitive constructs: words / numbers, strings, simple ops\n",
    " - Syntax: valid combinations of primitive constructs (words / numbers, string, etc.)\n",
    " - Static semantics: Whether string has meaning -> Evaluate to...?   \n",
    " - Semantics: Assigns meaning to a legal sentence.\n",
    " \n",
    "Video: Types\n",
    "- program: definitions and command\n",
    " - definitions evaluated\n",
    " - commands executed by python interpreter in a shell\n",
    "  - shell: window to type in expressions -> python\n",
    "- commands (statements) instruct interpreter to do something.\n",
    "- programs manipulate data objects\n",
    "- objects have types (e.g scalar, non-scalar)\n",
    "- Scalar objects in py: int, float, bool, NoneType\n",
    "- Type conversion (casting). float(), int()\n",
    "- Expressions: combine objects and operators to form expressions\n",
    " - object operator object\n",
    "- Operator precedence (after parentheses): ** > * > / > +,- > left to rightVideo: Variables\n",
    "- Last piece: Abstraction, giving names to things\n",
    "- Assignment to variable name\n",
    "- Reuse names instead of values makes it easier"
   ]
  },
  {
   "cell_type": "markdown",
   "metadata": {},
   "source": [
    "Video: Operators and Branching\n",
    "- Operators (mathematical)\n",
    "- Logic Operators on bools\n",
    " - not a, a and b, a or b\n",
    "- Branching programs: Takes one of the two branches depending on whether test yields True or False"
   ]
  },
  {
   "cell_type": "code",
   "execution_count": 14,
   "metadata": {},
   "outputs": [
    {
     "name": "stdout",
     "output_type": "stream",
     "text": [
      "Enter an integer: 4\n",
      "\n",
      "Even\n",
      "Done with conditionals\n"
     ]
    }
   ],
   "source": [
    "# Simple branching program\n",
    "# Even / odd\n",
    "\n",
    "x = int(input(\"Enter an integer: \"))\n",
    "\n",
    "if x % 2 == 0:               # if true\n",
    "    print(\"\")                # blank line\n",
    "    print(\"Even\")\n",
    "else:                        # if not true\n",
    "    print(\"\")\n",
    "    print(\"Odd\")\n",
    "print(\"Done with conditionals\")"
   ]
  },
  {
   "cell_type": "code",
   "execution_count": 17,
   "metadata": {},
   "outputs": [
    {
     "name": "stdout",
     "output_type": "stream",
     "text": [
      "Enter a number for x: 3\n",
      "Enter a number for y: 2\n",
      "y is smaller\n",
      "thanks\n"
     ]
    }
   ],
   "source": [
    "# Compound booleans\n",
    "x = float(input(\"Enter a number for x: \"))\n",
    "y = float(input(\"Enter a number for y: \"))\n",
    "    \n",
    "if x == y: \n",
    "    print(\"x and y are equal\")\n",
    "    if y != 0:\n",
    "        print(\"therefore, x/y is\", x/y)\n",
    "elif x < y:\n",
    "        print(\"x is smaller\")\n",
    "else:\n",
    "        print(\"y is smaller\")\n",
    "print(\"thanks\")"
   ]
  },
  {
   "cell_type": "markdown",
   "metadata": {},
   "source": [
    "### 2. Elements of Programs\n",
    "\n",
    "Video: Bindings\n",
    "- Variables are also called bindings\n",
    "- Be careful using variables for assigments in the right order\n",
    "\n",
    "Video: Strings\n",
    "- None\n",
    "\n",
    "Video: Input/Output\n",
    "- `print()` function\n",
    "\n",
    "Video: IDE's\n",
    "- Integrated development environment (IDE)\n",
    "- Consists of text editor and shell plus debugger\n",
    "\n",
    "Video: Control Flow\n",
    "- Branching: Conditional -> Boolean True/Boolean False -> next branch\n",
    "- for loop more convenient in most cases"
   ]
  },
  {
   "cell_type": "code",
   "execution_count": 60,
   "metadata": {},
   "outputs": [
    {
     "name": "stdout",
     "output_type": "stream",
     "text": [
      "You are lost. Go left or right?left\n",
      "You escaped\n"
     ]
    }
   ],
   "source": [
    "n = input(\"You are lost. Go left or right?\")\n",
    "\n",
    "while n == \"right\":\n",
    "    n = input(\"Still lost. Left or right\")\n",
    "\n",
    "print(\"You escaped\")"
   ]
  },
  {
   "cell_type": "code",
   "execution_count": 67,
   "metadata": {},
   "outputs": [
    {
     "name": "stdout",
     "output_type": "stream",
     "text": [
      "5\n",
      "5\n"
     ]
    }
   ],
   "source": [
    "mysum = 0\n",
    "\n",
    "for i in range(5, 11, 2):\n",
    "    print(i)\n",
    "    mysum += i\n",
    "    if mysum == 5:\n",
    "        break\n",
    "\n",
    "print(mysum)"
   ]
  },
  {
   "cell_type": "code",
   "execution_count": 14,
   "metadata": {},
   "outputs": [
    {
     "name": "stdout",
     "output_type": "stream",
     "text": [
      "equal\n"
     ]
    }
   ],
   "source": [
    "varA = 2\n",
    "varB = 2\n",
    "\n",
    "if type(varA) == str or type(varB) == str:\n",
    "    print(\"string involved\")\n",
    "elif varA > varB:\n",
    "    print(\"bigger\")\n",
    "elif varA == varB:\n",
    "    print(\"equal\")\n",
    "else:\n",
    "    print(\"smaller\")"
   ]
  },
  {
   "cell_type": "code",
   "execution_count": 27,
   "metadata": {},
   "outputs": [
    {
     "name": "stdout",
     "output_type": "stream",
     "text": [
      "Round: 0\n",
      "Round: 1\n",
      "Round: 2\n",
      "Round: 3\n",
      "Round: 4\n",
      "Round: 5\n",
      "Round: 6\n",
      "Round: 7\n",
      "Round: 8\n",
      "Round: 9\n",
      "Apples: 2048\n"
     ]
    }
   ],
   "source": [
    "numLoops = 0\n",
    "numApples = 2\n",
    "\n",
    "while numLoops < 10:\n",
    "    print(\"Round:\", numLoops)\n",
    "    numApples *= 2\n",
    "    numLoops += 1\n",
    "\n",
    "print(\"Apples:\",numApples)"
   ]
  },
  {
   "cell_type": "code",
   "execution_count": 30,
   "metadata": {},
   "outputs": [
    {
     "name": "stdout",
     "output_type": "stream",
     "text": [
      "10\n",
      "9\n",
      "8\n",
      "7\n",
      "Breaking out of loop\n",
      "Outside of loop\n"
     ]
    }
   ],
   "source": [
    "num = 10\n",
    "while True:\n",
    "    if num < 7:\n",
    "        print('Breaking out of loop')\n",
    "        break\n",
    "    print(num)\n",
    "    num -= 1\n",
    "print('Outside of loop')"
   ]
  },
  {
   "cell_type": "code",
   "execution_count": 36,
   "metadata": {},
   "outputs": [
    {
     "name": "stdout",
     "output_type": "stream",
     "text": [
      "2\n",
      "4\n",
      "6\n",
      "8\n",
      "10\n",
      "Goodbye\n"
     ]
    }
   ],
   "source": [
    "num = 0\n",
    "\n",
    "while True:\n",
    "    num += 2\n",
    "    print(num)\n",
    "    if num >=10:\n",
    "        print(\"Goodbye\")\n",
    "        break"
   ]
  },
  {
   "cell_type": "code",
   "execution_count": 38,
   "metadata": {},
   "outputs": [
    {
     "name": "stdout",
     "output_type": "stream",
     "text": [
      "2\n",
      "4\n",
      "6\n",
      "8\n",
      "10\n",
      "Goodbye!\n"
     ]
    }
   ],
   "source": [
    "num = 1\n",
    "\n",
    "while num <= 10:\n",
    "    if num % 2 == 0:\n",
    "        print(num)\n",
    "    num += 1\n",
    "\n",
    "print(\"Goodbye!\")"
   ]
  },
  {
   "cell_type": "code",
   "execution_count": 43,
   "metadata": {},
   "outputs": [
    {
     "name": "stdout",
     "output_type": "stream",
     "text": [
      "Hello!\n",
      "10\n",
      "8\n",
      "6\n",
      "4\n",
      "2\n"
     ]
    }
   ],
   "source": [
    "num = 10\n",
    "print(\"Hello!\")\n",
    "\n",
    "while num > 0:\n",
    "    if num % 2 == 0:\n",
    "        print(num)\n",
    "    num -= 1"
   ]
  },
  {
   "cell_type": "code",
   "execution_count": 1,
   "metadata": {},
   "outputs": [
    {
     "name": "stdout",
     "output_type": "stream",
     "text": [
      "21\n"
     ]
    }
   ],
   "source": [
    "end = 6\n",
    "num = 0\n",
    "res = 0\n",
    "\n",
    "while num <= end:\n",
    "    res += num\n",
    "    num += 1\n",
    "print(res)"
   ]
  },
  {
   "cell_type": "markdown",
   "metadata": {},
   "source": [
    "### Exercise: for"
   ]
  },
  {
   "cell_type": "code",
   "execution_count": 18,
   "metadata": {},
   "outputs": [
    {
     "name": "stdout",
     "output_type": "stream",
     "text": [
      "2\n",
      "4\n",
      "6\n",
      "8\n",
      "10\n",
      "Goodbye\n"
     ]
    }
   ],
   "source": [
    "for num in range(1, 11):\n",
    "    if num % 2 == 0:\n",
    "        print(num)\n",
    "print(\"Goodbye!\")"
   ]
  },
  {
   "cell_type": "code",
   "execution_count": 30,
   "metadata": {},
   "outputs": [
    {
     "name": "stdout",
     "output_type": "stream",
     "text": [
      "Hello\n",
      "10\n",
      "8\n",
      "6\n",
      "4\n",
      "2\n"
     ]
    }
   ],
   "source": [
    "print(\"Hello\")\n",
    "\n",
    "for count in reversed(range(11)):\n",
    "    if count % 2 == 0 and count != 0:\n",
    "            print(count)"
   ]
  },
  {
   "cell_type": "code",
   "execution_count": 35,
   "metadata": {},
   "outputs": [
    {
     "name": "stdout",
     "output_type": "stream",
     "text": [
      "0\n",
      "1\n",
      "2\n",
      "3\n",
      "4\n",
      "5\n",
      "6\n",
      "21\n"
     ]
    }
   ],
   "source": [
    "end = 6\n",
    "count = 0\n",
    "\n",
    "for i in range(end+1):\n",
    "    print(i)\n",
    "    count += i\n",
    "    \n",
    "print(count)"
   ]
  },
  {
   "cell_type": "markdown",
   "metadata": {},
   "source": [
    "Video: Iteration\n",
    "- Extends simple branching algorithms to be able to write programs of arbitrary complexity\n",
    "- \n",
    "\n",
    "\n",
    "Ressource: [Tutorial For, while, range](https://courses.edx.org/courses/course-v1:MITx+6.00.1x+1T2019/discussion/forum/60832f2cf4aa976a25cde5553349ecd6572df4bf/threads/5c475373db70a909900013c6)"
   ]
  },
  {
   "cell_type": "code",
   "execution_count": 39,
   "metadata": {},
   "outputs": [
    {
     "name": "stdout",
     "output_type": "stream",
     "text": [
      "9*9=81\n"
     ]
    }
   ],
   "source": [
    "# Example: Square value of x by \n",
    "#repetitive addition\n",
    "x = 9\n",
    "ans = 0 \n",
    "itersLeft = x\n",
    "\n",
    "while (itersLeft != 0):\n",
    "    ans += x \n",
    "    itersLeft = itersLeft - 1\n",
    "print(str(x) + \"*\" + str(x) + \"=\" + str(ans))\n"
   ]
  },
  {
   "cell_type": "code",
   "execution_count": 43,
   "metadata": {},
   "outputs": [
    {
     "name": "stdout",
     "output_type": "stream",
     "text": [
      "0\n",
      "Foo!\n",
      "4\n",
      "8\n",
      "12\n",
      "16\n",
      "Foo!\n"
     ]
    }
   ],
   "source": [
    "for variable in range(20):\n",
    "    if variable % 4 == 0:\n",
    "        print(variable)\n",
    "    if variable % 16 == 0:\n",
    "        print('Foo!') "
   ]
  },
  {
   "cell_type": "markdown",
   "metadata": {},
   "source": [
    "[Explaining Foo](https://courses.edx.org/courses/course-v1:MITx+6.00.1x+1T2019/discussion/forum/8d0dfe8ca8a72ddf7f590398380f2e8d2528773a/threads/5c4901ac3eb9e609850014f3)"
   ]
  },
  {
   "cell_type": "code",
   "execution_count": 45,
   "metadata": {},
   "outputs": [
    {
     "name": "stdout",
     "output_type": "stream",
     "text": [
      "Letter # 0 is S\n",
      "1\n"
     ]
    }
   ],
   "source": [
    "count = 0\n",
    "for letter in 'Snow!':\n",
    "    print('Letter # ' + str(count) + ' is ' + str(letter))\n",
    "    count += 1\n",
    "    break\n",
    "print(count)"
   ]
  },
  {
   "cell_type": "code",
   "execution_count": 46,
   "metadata": {},
   "outputs": [
    {
     "name": "stdout",
     "output_type": "stream",
     "text": [
      "H\n",
      "e\n",
      "e\n",
      "l\n",
      "l\n",
      "l\n",
      "o\n",
      "!\n",
      "!\n",
      "done\n"
     ]
    }
   ],
   "source": [
    "greeting = 'Hello!'\n",
    "count = 0\n",
    "\n",
    "for letter in greeting:\n",
    "    count += 1\n",
    "    if count % 2 == 0:\n",
    "        print(letter)\n",
    "    print(letter)\n",
    "\n",
    "print('done')"
   ]
  },
  {
   "cell_type": "code",
   "execution_count": 48,
   "metadata": {},
   "outputs": [
    {
     "name": "stdout",
     "output_type": "stream",
     "text": [
      "M\n",
      "numVowels is: 11\n",
      "numCons is: -25\n"
     ]
    }
   ],
   "source": [
    "school = 'Massachusetts Institute of Technology'\n",
    "numVowels = 0\n",
    "numCons = 0\n",
    "\n",
    "for char in school:\n",
    "    if char == 'a' or char == 'e' or char == 'i' \\\n",
    "       or char == 'o' or char == 'u':\n",
    "        numVowels += 1\n",
    "    elif char == 'o' or char == 'M':\n",
    "        print(char)\n",
    "    else:\n",
    "        numCons -= 1\n",
    "\n",
    "print('numVowels is: ' + str(numVowels))\n",
    "print('numCons is: ' + str(numCons)) "
   ]
  },
  {
   "cell_type": "markdown",
   "metadata": {},
   "source": [
    "Video: Guess and Check\n",
    "- iterative algorithms allow to do more things than simple arithmetic\n",
    "- Useful examples are guess and check methods\n",
    "- Recall \"declarative\" definition of square root of x.\n",
    " - guess possible values for square root and then check this guess\n",
    " - way to generate guesses?\n",
    "- Example: Finding cube root of integer"
   ]
  },
  {
   "cell_type": "code",
   "execution_count": 1,
   "metadata": {},
   "outputs": [
    {
     "name": "stdout",
     "output_type": "stream",
     "text": [
      "Enter an integer: 27\n",
      "cube root of 27 is 3\n"
     ]
    }
   ],
   "source": [
    "# find cube root of integer\n",
    "x = int(input(\"Enter an integer: \"))\n",
    "ans = 0\n",
    "\n",
    "while ans**3 < x: \n",
    "    ans += 1\n",
    "if ans**3 != x:\n",
    "    print(str(x) + \" is not a perfect cube\")\n",
    "else:\n",
    "    print(\"cube root of \" + str(x) + \" is \" + str(ans))"
   ]
  },
  {
   "cell_type": "markdown",
   "metadata": {},
   "source": [
    "- Useful to think about a **decrementing function**\n",
    " - Determine a value which is non-negative and this value is decreased every time through the loop\n",
    " - When value is <= 0, loop terminates."
   ]
  },
  {
   "cell_type": "code",
   "execution_count": 12,
   "metadata": {},
   "outputs": [
    {
     "name": "stdout",
     "output_type": "stream",
     "text": [
      "End of Script\n"
     ]
    }
   ],
   "source": [
    "# Guess and check - clean cube root\n",
    "\n",
    "cube = 28\n",
    "\n",
    "for guess in range(cube+1):\n",
    "    if guess **3 == cube:\n",
    "        print(\"Cube root of\",cube, \"is\", guess)\n",
    "print(\"End of Script\")\n",
    "\n"
   ]
  },
  {
   "cell_type": "markdown",
   "metadata": {},
   "source": [
    "Exercise 7"
   ]
  },
  {
   "cell_type": "code",
   "execution_count": 28,
   "metadata": {},
   "outputs": [
    {
     "name": "stdout",
     "output_type": "stream",
     "text": [
      "Iteration 0; count is: 12\n",
      "Iteration 1; count is: 24\n",
      "Iteration 2; count is: 36\n",
      "Iteration 3; count is: 48\n",
      "Iteration 4; count is: 60\n"
     ]
    }
   ],
   "source": [
    "iteration = 0\n",
    "count = 0\n",
    "\n",
    "while iteration < 5:\n",
    "    for letter in \"hello, world\":\n",
    "#         print(letter)\n",
    "        count += 1\n",
    "    print(\"Iteration \"+ str(iteration) + \"; count is: \" + str(count))\n",
    "    iteration += 1"
   ]
  },
  {
   "cell_type": "code",
   "execution_count": 32,
   "metadata": {},
   "outputs": [
    {
     "name": "stdout",
     "output_type": "stream",
     "text": [
      "Iteration 0; count is: 12\n",
      "Iteration 1; count is: 24\n",
      "Iteration 2; count is: 36\n",
      "Iteration 3; count is: 48\n",
      "Iteration 4; count is: 60\n"
     ]
    }
   ],
   "source": [
    "count = 0\n",
    "phrase = \"hello, world\"\n",
    "for iteration in range(5):\n",
    "    index = 0\n",
    "    while index < len(phrase):\n",
    "        count += 1\n",
    "        index += 1\n",
    "    print(\"Iteration \" + str(iteration) + \"; count is: \" + str(count))"
   ]
  },
  {
   "cell_type": "code",
   "execution_count": 33,
   "metadata": {},
   "outputs": [
    {
     "name": "stdout",
     "output_type": "stream",
     "text": [
      "Iteration 0; count is: 12\n",
      "Iteration 1; count is: 24\n",
      "Iteration 2; count is: 36\n",
      "Iteration 3; count is: 48\n",
      "Iteration 4; count is: 60\n"
     ]
    }
   ],
   "source": [
    "count = 0\n",
    "phrase = \"hello, world\"\n",
    "for iteration in range(5):\n",
    "    while True:\n",
    "        count += len(phrase)\n",
    "        break\n",
    "    print(\"Iteration \" + str(iteration) + \"; count is: \" + str(count))"
   ]
  },
  {
   "cell_type": "code",
   "execution_count": 34,
   "metadata": {},
   "outputs": [
    {
     "name": "stdout",
     "output_type": "stream",
     "text": [
      "0\n",
      "Iteration 0; count is: 12\n",
      "1\n",
      "Iteration 1; count is: 24\n",
      "2\n",
      "Iteration 2; count is: 36\n",
      "3\n",
      "Iteration 3; count is: 48\n",
      "4\n",
      "Iteration 4; count is: 60\n"
     ]
    }
   ],
   "source": [
    "count = 0\n",
    "phrase = \"hello, world\"\n",
    "for iteration in range(5):\n",
    "    print(iteration)\n",
    "    while True:\n",
    "        count += len(phrase)\n",
    "        break\n",
    "    print(\"Iteration \" + str(iteration) + \"; count is: \" + str(count))"
   ]
  },
  {
   "cell_type": "code",
   "execution_count": 38,
   "metadata": {},
   "outputs": [
    {
     "name": "stdout",
     "output_type": "stream",
     "text": [
      "Iteration:  0\n",
      "Count:  12\n",
      "Iteration:  1\n",
      "Count:  24\n",
      "Iteration:  2\n",
      "Count:  36\n",
      "Iteration:  3\n",
      "Count:  48\n",
      "Iteration:  4\n",
      "Count:  60\n"
     ]
    }
   ],
   "source": [
    "count = 0\n",
    "phrase = \"hello, world\"\n",
    "\n",
    "for iteration in range(5):\n",
    "    print(\"Iteration: \", iteration)\n",
    "    count += len(phrase)\n",
    "    print(\"Count: \", count)\n",
    "    "
   ]
  }
 ],
 "metadata": {
  "kernelspec": {
   "display_name": "Python [conda env:Anaconda3]",
   "language": "python",
   "name": "conda-env-Anaconda3-py"
  },
  "language_info": {
   "codemirror_mode": {
    "name": "ipython",
    "version": 3
   },
   "file_extension": ".py",
   "mimetype": "text/x-python",
   "name": "python",
   "nbconvert_exporter": "python",
   "pygments_lexer": "ipython3",
   "version": "3.6.6"
  }
 },
 "nbformat": 4,
 "nbformat_minor": 2
}
