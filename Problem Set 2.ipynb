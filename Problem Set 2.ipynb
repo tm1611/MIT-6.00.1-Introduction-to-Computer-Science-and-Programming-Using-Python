{
 "cells": [
  {
   "cell_type": "markdown",
   "metadata": {},
   "source": [
    "# Problem Set 2:"
   ]
  },
  {
   "cell_type": "markdown",
   "metadata": {},
   "source": [
    "### Problem 1 - Credit Card Balance\n",
    "Write a program to calculate the credit card balance after one year if a person only pays the minimum monthly payment required by the credit card company each month.\n",
    "\n",
    "The following variables contain values as described below:\n",
    "\n",
    "`balance` - the outstanding balance on the credit card\n",
    "\n",
    "`annualInterestRate` - annual interest rate as a decimal\n",
    "\n",
    "`monthlyPaymentRate` - minimum monthly payment rate as a decimal\n",
    "\n",
    "For each month, calculate statements on the monthly payment and remaining balance. At the end of 12 months, print out the remaining balance. Be sure to print out no more than two decimal digits of accuracy - so print\n",
    "\n",
    "`Remaining balance: 813.41`\n",
    "\n",
    "instead of \n",
    "\n",
    "`Remaining balance: 813.4141998135 `\n",
    "\n",
    "So your program only prints out one thing: the remaining balance at the end of the year in the format:\n",
    "\n",
    "`Remaining balance: 4784.0`\n",
    "\n",
    "A summary of the required math is found below:\n",
    "\n",
    "**Monthly interest rate**= (Annual interest rate) / 12.0\n",
    "\n",
    "**Minimum monthly payment** = (Minimum monthly payment rate) x (Previous balance)\n",
    "\n",
    "**Monthly unpaid balance** = (Previous balance) - (Minimum monthly payment)\n",
    "\n",
    "**Updated balance each month** = (Monthly unpaid balance) + (Monthly interest rate x Monthly unpaid balance)"
   ]
  },
  {
   "cell_type": "code",
   "execution_count": 1,
   "metadata": {},
   "outputs": [],
   "source": [
    "# Test Case 1:\n",
    "balance = 42\n",
    "annualInterestRate = 0.2\n",
    "monthlyPaymentRate = 0.04\n",
    "     \n",
    "# Result Your Code Should Generate Below:\n",
    "#Remaining balance: 31.38"
   ]
  },
  {
   "cell_type": "code",
   "execution_count": 2,
   "metadata": {},
   "outputs": [
    {
     "name": "stdout",
     "output_type": "stream",
     "text": [
      "Remaining balance: 31.38\n"
     ]
    }
   ],
   "source": [
    "for i in range(12):\n",
    "    balance = balance - (balance * monthlyPaymentRate) + ((balance - (balance * monthlyPaymentRate)) * (annualInterestRate/12))\n",
    "print(\"Remaining balance:\", round(balance, 2))"
   ]
  },
  {
   "cell_type": "markdown",
   "metadata": {},
   "source": [
    "### Problem 2 - Min Monthly Payment\n",
    "Now write a program that calculates the minimum fixed monthly payment needed in order pay off a credit card balance within 12 months. By a fixed monthly payment, we mean a single number which does not change each month, but instead is a constant amount that will be paid each month.\n",
    "\n",
    "In this problem, we will not be dealing with a minimum monthly payment rate.\n",
    "\n",
    "The following variables contain values as described below:\n",
    "\n",
    "1. `balance` - the outstanding balance on the credit card\n",
    "\n",
    "2. `annualInterestRate` - annual interest rate as a decimal\n",
    "\n",
    "The program should print out one line: the lowest monthly payment that will pay off all debt in under 1 year, for example:\n",
    "\n",
    "`Lowest Payment: 180` \n",
    "\n",
    "Assume that the interest is compounded monthly according to the balance at the end of the month (after the payment for that month is made). The monthly payment must be a multiple of $10 and is the same for all months. Notice that it is possible for the balance to become negative using this payment scheme, which is okay. A summary of the required math is found below:\n",
    "\n",
    "**Monthly interest rate** = (Annual interest rate) / 12.0\n",
    "\n",
    "**Monthly unpaid balance** = (Previous balance) - (Minimum fixed monthly payment)\n",
    "\n",
    "**Updated balance each month** = (Monthly unpaid balance) + (Monthly interest rate x Monthly unpaid balance)"
   ]
  },
  {
   "cell_type": "code",
   "execution_count": 3,
   "metadata": {},
   "outputs": [],
   "source": [
    "# Test cases\n",
    "balance = 3329; annualInterestRate = 0.2\n",
    "balance = 4773; annualInterestRate = 0.2"
   ]
  },
  {
   "cell_type": "code",
   "execution_count": 4,
   "metadata": {},
   "outputs": [
    {
     "name": "stdout",
     "output_type": "stream",
     "text": [
      "Lowest Payment: 440\n"
     ]
    }
   ],
   "source": [
    "monthlyPaymentRate = 0\n",
    "init_balance = balance\n",
    "monthlyInterestRate = annualInterestRate/12\n",
    "\n",
    "while balance > 0:\n",
    "    for i in range(12):\n",
    "        balance = balance - monthlyPaymentRate + ((balance - monthlyPaymentRate) * monthlyInterestRate)\n",
    "    if balance > 0:\n",
    "        monthlyPaymentRate += 10\n",
    "        balance = init_balance\n",
    "    elif balance <= 0:\n",
    "        break\n",
    "print('Lowest Payment:', monthlyPaymentRate)"
   ]
  },
  {
   "cell_type": "markdown",
   "metadata": {},
   "source": [
    "### Problem 3 - Using Bisection Search to make the program faster\n",
    "\n",
    "You'll notice that in Problem 2, your monthly payment had to be a multiple of 10 Dollar. Why did we make it that way? You can try running your code locally so that the payment can be any dollar and cent amount (in other words, the monthly payment is a multiple of 0.01 Dollar). Does your code still work? It should, but you may notice that your code runs more slowly, especially in cases with very large balances and interest rates. (Note: when your code is running on our servers, there are limits on the amount of computing time each submission is allowed, so your observations from running this experiment on the grading system might be limited to an error message complaining about too much time taken.)\n",
    "\n",
    "Well then, how can we calculate a more accurate fixed monthly payment than we did in Problem 2 without running into the problem of slow code? We can make this program run faster using a technique introduced in lecture - bisection search!\n",
    "\n",
    "The following variables contain values as described below:\n",
    "\n",
    "1. `balance` - the outstanding balance on the credit card\n",
    "\n",
    "2. `annualInterestRate` - annual interest rate as a decimal\n",
    "\n",
    "To recap the problem: we are searching for the smallest monthly payment such that we can pay off the entire balance within a year. What is a reasonable lower bound for this payment value? $0 is the obvious anwer, but you can do better than that. If there was no interest, the debt can be paid off by monthly payments of one-twelfth of the original balance, so we must pay at least this much every month. One-twelfth of the original balance is a good lower bound.\n",
    "\n",
    "What is a good upper bound? Imagine that instead of paying monthly, we paid off the entire balance at the end of the year. What we ultimately pay must be greater than what we would've paid in monthly installments, because the interest was compounded on the balance we didn't pay off each month. So a good upper bound for the monthly payment would be one-twelfth of the balance, after having its interest compounded monthly for an entire year.\n",
    "\n",
    "In short:\n",
    "\n",
    "**Monthly interest rate** = (Annual interest rate) / 12.0\n",
    "\n",
    "**Monthly payment lower bound** = Balance / 12\n",
    "\n",
    "**Monthly payment upper bound** = (Balance x (1 + Monthly interest rate)^12) / 12.0\n",
    "\n",
    "Write a program that uses these bounds and bisection search (for more info check out the Wikipedia page on bisection search) to find the smallest monthly payment to the cent (no more multiples of $10) such that we can pay off the debt within a year. Try it out with large inputs, and notice how fast it is (try the same large inputs in your solution to Problem 2 to compare!). Produce the same return value as you did in Problem 2.\n",
    "\n",
    "Note that if you do not use bisection search, your code will not run - your code only has 30 seconds to run on our servers."
   ]
  },
  {
   "cell_type": "markdown",
   "metadata": {},
   "source": [
    "                  \n",
    "\t      Test Case 1:\n",
    "\t      balance = 320000\n",
    "\t      annualInterestRate = 0.2\n",
    "\n",
    "\t      Result Your Code Should Generate:\n",
    "\t      -------------------\n",
    "\t      Lowest Payment: 29157.09\n",
    "      \n",
    "               \n",
    "\t      Test Case 2:\n",
    "\t      balance = 999999\n",
    "\t      annualInterestRate = 0.18\n",
    "\t      \n",
    "\t      Result Your Code Should Generate:\n",
    "\t      -------------------\n",
    "\t      Lowest Payment: 90325.03"
   ]
  },
  {
   "cell_type": "code",
   "execution_count": 5,
   "metadata": {},
   "outputs": [],
   "source": [
    "# test case 1\n",
    "balance = 320000\n",
    "annualInterestRate = 0.2"
   ]
  },
  {
   "cell_type": "code",
   "execution_count": 6,
   "metadata": {},
   "outputs": [
    {
     "name": "stdout",
     "output_type": "stream",
     "text": [
      "Lowest Payment: 29157.09\n"
     ]
    }
   ],
   "source": [
    "init_balance = balance\n",
    "monthlyInterestRate = annualInterestRate/12\n",
    "lower = init_balance/12\n",
    "upper = (init_balance * (1 + monthlyInterestRate)**12)/12.0\n",
    "epsilon = 0.03\n",
    "\n",
    "while abs(balance) > epsilon:\n",
    "    monthlyPaymentRate = (upper + lower)/2\n",
    "    balance = init_balance\n",
    "    for i in range(12):\n",
    "        balance = balance - monthlyPaymentRate + ((balance - monthlyPaymentRate) * monthlyInterestRate)\n",
    "    if balance > epsilon:\n",
    "        lower = monthlyPaymentRate\n",
    "    elif balance < -epsilon:\n",
    "        upper = monthlyPaymentRate\n",
    "    else:\n",
    "        break\n",
    "print('Lowest Payment:', round(monthlyPaymentRate, 2))"
   ]
  }
 ],
 "metadata": {
  "kernelspec": {
   "display_name": "Python [conda env:Anaconda3]",
   "language": "python",
   "name": "conda-env-Anaconda3-py"
  },
  "language_info": {
   "codemirror_mode": {
    "name": "ipython",
    "version": 3
   },
   "file_extension": ".py",
   "mimetype": "text/x-python",
   "name": "python",
   "nbconvert_exporter": "python",
   "pygments_lexer": "ipython3",
   "version": "3.6.6"
  }
 },
 "nbformat": 4,
 "nbformat_minor": 2
}
