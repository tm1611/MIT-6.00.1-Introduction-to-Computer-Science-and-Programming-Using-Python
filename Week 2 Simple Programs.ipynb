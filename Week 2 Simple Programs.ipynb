{
 "cells": [
  {
   "cell_type": "markdown",
   "metadata": {},
   "source": [
    "# Week 2: Simple Programs\n",
    "\n",
    "## Lec. 3: Simple Algorithms"
   ]
  },
  {
   "cell_type": "markdown",
   "metadata": {},
   "source": [
    "For visualizing code snippets:\n",
    "[python visualiser](http://www.pythontutor.com/visualize.html#mode=display)"
   ]
  },
  {
   "cell_type": "markdown",
   "metadata": {},
   "source": [
    "Video: So far\n",
    "- Reviewing loops\n",
    "- Reviewing strings: slicing strings\n",
    "- Recap: For loops"
   ]
  },
  {
   "cell_type": "code",
   "execution_count": 6,
   "metadata": {},
   "outputs": [
    {
     "name": "stdout",
     "output_type": "stream",
     "text": [
      "Enter an integer: -11\n",
      "-11 is not a perfect square\n",
      "Just checking..., did you mean 11 ?\n"
     ]
    }
   ],
   "source": [
    "# Square root loop\n",
    "ans = 0\n",
    "neg_flag = False\n",
    "\n",
    "x = int(input(\"Enter an integer: \"))\n",
    "\n",
    "if x < 0:\n",
    "    neg_flag = True\n",
    "while ans**2 < x:\n",
    "    ans += 1\n",
    "if ans**2 == x:\n",
    "    print(\"Square root of\", x, \"is\", ans)\n",
    "else:\n",
    "    print(x, \"is not a perfect square\")\n",
    "    if neg_flag:\n",
    "        print(\"Just checking..., did you mean\", -x, \"?\")"
   ]
  },
  {
   "cell_type": "code",
   "execution_count": 16,
   "metadata": {},
   "outputs": [
    {
     "data": {
      "text/plain": [
       "'yello'"
      ]
     },
     "execution_count": 16,
     "metadata": {},
     "output_type": "execute_result"
    }
   ],
   "source": [
    "# Slicing strings\n",
    "s = \"abcdefgh\"\n",
    "s[::-1]\n",
    "s[3:6]\n",
    "s[-1]\n",
    "# strings are \"immutable\" - cannot be modified\n",
    "s = \"hello\"\n",
    "type(s)\n",
    "# s[0] = \"y\" # not mutable, have to be redefined\n",
    "\"y\" + s[1:]"
   ]
  },
  {
   "cell_type": "code",
   "execution_count": 25,
   "metadata": {},
   "outputs": [
    {
     "name": "stdout",
     "output_type": "stream",
     "text": [
      "There is an i or u at char:  3\n",
      "There is an i or u at char:  4\n",
      "There is an i or u at char:  6\n"
     ]
    }
   ],
   "source": [
    "# for loops have a loop variable that iterates over a\n",
    "# set of values\n",
    "s = \"abcdefgh\"\n",
    "s = \"abdiuou\"\n",
    "\n",
    "for index in range(len(s)):\n",
    "#     print(index)\n",
    "    if s[index] == \"i\" or s[index] == \"u\":\n",
    "        print(\"There is an i or u at char: \", index)"
   ]
  },
  {
   "cell_type": "code",
   "execution_count": 30,
   "metadata": {},
   "outputs": [
    {
     "name": "stdout",
     "output_type": "stream",
     "text": [
      "There is an i or u\n",
      "There is an i or u\n"
     ]
    }
   ],
   "source": [
    "# Alternatively loop directly over s\n",
    "s = \"abdiuou\"\n",
    "\n",
    "for char in s: \n",
    "    if char == \"i\" or char == \"o\":\n",
    "        print(\"There is an i or u\")\n",
    "               "
   ]
  },
  {
   "cell_type": "code",
   "execution_count": 32,
   "metadata": {},
   "outputs": [
    {
     "name": "stdout",
     "output_type": "stream",
     "text": [
      "0\n",
      "Iteration: 0; count is: 12\n",
      "1\n",
      "Iteration: 1; count is: 24\n",
      "2\n",
      "Iteration: 2; count is: 36\n",
      "3\n",
      "Iteration: 3; count is: 48\n",
      "4\n",
      "Iteration: 4; count is: 60\n"
     ]
    }
   ],
   "source": [
    "# while and for\n",
    "iteration = 0 \n",
    "count = 0\n",
    "string = \"hello, world\"\n",
    "\n",
    "while iteration < 5:\n",
    "    for letter in string:\n",
    "        count += 1\n",
    "    print(\"Iteration: \"+str(iteration)+ \"; count is: \"+str(count))\n",
    "    \n",
    "    iteration +=1"
   ]
  },
  {
   "cell_type": "code",
   "execution_count": 35,
   "metadata": {},
   "outputs": [
    {
     "name": "stdout",
     "output_type": "stream",
     "text": [
      "Iteration 0; count is: 1\n",
      "Iteration 1; count is: 12\n",
      "Iteration 2; count is: 1\n",
      "Iteration 3; count is: 12\n",
      "Iteration 4; count is: 1\n"
     ]
    }
   ],
   "source": [
    "iteration = 0\n",
    "while iteration < 5:\n",
    "    count = 0\n",
    "    for letter in \"hello, world\":\n",
    "        count += 1\n",
    "        if iteration % 2 == 0:\n",
    "            break\n",
    "    print(\"Iteration \" + str(iteration) + \"; count is: \" + str(count))\n",
    "    iteration += 1"
   ]
  },
  {
   "cell_type": "markdown",
   "metadata": {},
   "source": [
    "Video: Approximate solutions\n",
    "- There isn't always an integer as a solution. Eg. floats or decimals. We need a method to find something close enough\n",
    "- Start with exhaustive enumeration\n",
    " - take small steps to generate guesses in order\n",
    " - check to see if close enough\n",
    "- Search for \"good enough\" solution\n",
    "- start with a guess and increment by some small value\n",
    "- $|guess^2| - cube <= epsilon$, for some small epsilon\n",
    "- decreasing increment size -> takes longer to find an answer\n",
    "- increase epsilon -> less accurate answer"
   ]
  },
  {
   "cell_type": "code",
   "execution_count": 64,
   "metadata": {},
   "outputs": [
    {
     "name": "stdout",
     "output_type": "stream",
     "text": [
      "num_guesses = 60\n",
      "2.9999999999999973 is close enough to the cube of  27\n"
     ]
    }
   ],
   "source": [
    "# Approximate solution: cube root\n",
    "cube = 27\n",
    "epsilon = 0.01 # precision\n",
    "guess = 0.0\n",
    "increment = 0.05\n",
    "num_guesses = 0 \n",
    "\n",
    "while abs(guess**3 - cube) >= epsilon and guess <= cube:\n",
    "    guess += increment \n",
    "    num_guesses += 1\n",
    "print(\"num_guesses =\", num_guesses)\n",
    "if abs(guess**3 - cube) >= epsilon:\n",
    "    print(\"failed on cube root of\", cube)\n",
    "else:\n",
    "    print(guess, \"is close enough to the cube of \", cube)"
   ]
  },
  {
   "cell_type": "markdown",
   "metadata": {},
   "source": [
    "Some observations:\n",
    "- step could be any small number\n",
    " - if too small, it takes a long time to find a square root. If too large, might skip over answer without getting close enough. \n",
    "- in general, will take x/step times throughh code to find solution\n",
    "- Need more efficient way to do this"
   ]
  },
  {
   "cell_type": "markdown",
   "metadata": {},
   "source": [
    "Video: Bisection Search\n",
    "- square root of x must lie between 1 and x, from mathematics\n",
    "- Instead of starting at the beginning we pick a number in the middle of this range. \n",
    "- if not close enough? Too big or too small and throw away half of the numbers\n",
    "- gues converges on the order of log_2 N steps\n",
    "- bisection search works when value of function varies monotonically with input\n",
    "- code as shown only works for positive roots/cubes > 1 - Why?\n",
    "- challenges: modify to work with negative cubes and to work with x < 1!"
   ]
  },
  {
   "cell_type": "code",
   "execution_count": 73,
   "metadata": {},
   "outputs": [
    {
     "name": "stdout",
     "output_type": "stream",
     "text": [
      "num_guesses:  80 guess: 3.999999999999994\n"
     ]
    }
   ],
   "source": [
    "# Linear search for square root\n",
    "x = 16\n",
    "guess = 0.0\n",
    "epsilon = 0.01\n",
    "step = 0.05\n",
    "num_guesses = 0 \n",
    "min_guess = 0\n",
    "\n",
    "while abs(guess**2 - x) >= epsilon and guess <= x:\n",
    "    guess += step\n",
    "    num_guesses += 1\n",
    "\n",
    "print(\"num_guesses: \",num_guesses,\"guess:\",guess)"
   ]
  },
  {
   "cell_type": "code",
   "execution_count": 90,
   "metadata": {},
   "outputs": [
    {
     "name": "stdout",
     "output_type": "stream",
     "text": [
      "low = 1 high = 54 guess = 27.5\n",
      "low = 1 high = 27.5 guess = 14.25\n",
      "low = 1 high = 14.25 guess = 7.625\n",
      "low = 1 high = 7.625 guess = 4.3125\n",
      "low = 4.3125 high = 7.625 guess = 5.96875\n",
      "low = 5.96875 high = 7.625 guess = 6.796875\n",
      "low = 6.796875 high = 7.625 guess = 7.2109375\n",
      "low = 7.2109375 high = 7.625 guess = 7.41796875\n",
      "low = 7.2109375 high = 7.41796875 guess = 7.314453125\n",
      "low = 7.314453125 high = 7.41796875 guess = 7.3662109375\n",
      "low = 7.314453125 high = 7.3662109375 guess = 7.34033203125\n",
      "low = 7.34033203125 high = 7.3662109375 guess = 7.353271484375\n",
      "low = 7.34033203125 high = 7.353271484375 guess = 7.3468017578125\n",
      "low = 7.3468017578125 high = 7.353271484375 guess = 7.35003662109375\n",
      "num_guesses:  14\n"
     ]
    }
   ],
   "source": [
    "# Bisection search - square root\n",
    "# Set a low and a high value\n",
    "\n",
    "x = 54\n",
    "epsilon = 0.01\n",
    "numGuesses = 0\n",
    "low = 1\n",
    "high = x\n",
    "guess = (high + low) /2.0 # initial guess\n",
    "\n",
    "while abs(guess**2 - x) >= epsilon:\n",
    "    print(\"low = \" + str(low) + \" high = \" +str(high)+ \" guess = \" + str(guess))\n",
    "    numGuesses += 1\n",
    "    if guess **2 < x: \n",
    "        low = guess\n",
    "    else:\n",
    "        high = guess\n",
    "    guess = (high+low)/2\n",
    "print(\"num_guesses: \",numGuesses)"
   ]
  },
  {
   "cell_type": "markdown",
   "metadata": {},
   "source": [
    "Some observataions:\n",
    "- bisection search radically reduces computation time\n",
    "- should work well on problems with \"ordering\" property - value of function being solved varies monotonically with input value. "
   ]
  },
  {
   "cell_type": "code",
   "execution_count": 114,
   "metadata": {},
   "outputs": [
    {
     "name": "stdout",
     "output_type": "stream",
     "text": [
      "guess 50.0 num_guesses: 1\n",
      "guess 25.0 num_guesses: 2\n",
      "guess 12.5 num_guesses: 3\n",
      "guess 18.75 num_guesses: 4\n",
      "guess 21.875 num_guesses: 5\n",
      "guess 23.4375 num_guesses: 6\n",
      "guess 22.65625 num_guesses: 7\n",
      "guess 23.046875 num_guesses: 8\n",
      "guess 22.8515625 num_guesses: 9\n",
      "guess 22.94921875 num_guesses: 10\n",
      "guess 22.998046875 num_guesses: 11\n",
      "guess 23.0224609375 num_guesses: 12\n",
      "guess 23.01025390625 num_guesses: 13\n",
      "guess 23.004150390625 num_guesses: 14\n",
      "guess 23.0010986328125 num_guesses: 15\n"
     ]
    }
   ],
   "source": [
    "# Guess my number using bisection search\n",
    "x = 23\n",
    "guess = 0\n",
    "num_guesses = 0 \n",
    "epsilon = 0.001\n",
    "low = 0 \n",
    "high = 100\n",
    "guess = (low+high)/2.0\n",
    "\n",
    "while abs(guess - x) > epsilon:\n",
    "    num_guesses +=1\n",
    "    print(\"guess\",guess, \"num_guesses:\",num_guesses)\n",
    "    if guess >= x:\n",
    "        high = guess\n",
    "    else:\n",
    "        low = guess\n",
    "    guess = (low+high) / 2.0"
   ]
  },
  {
   "cell_type": "code",
   "execution_count": 12,
   "metadata": {},
   "outputs": [
    {
     "name": "stdout",
     "output_type": "stream",
     "text": [
      "Please think of a number between 0 and 100!\n",
      "Is your secret number 50?\n",
      "Enter 'h' to indicate the guess is too high. Enter 'l' to indicate the guess is too low. Enter 'c' to indicate I guessed correctly. c\n",
      "Game over. Your secret number was: 50\n"
     ]
    }
   ],
   "source": [
    "# Number guessing using bisection search\n",
    "guess = 50\n",
    "low = 0\n",
    "high = 100\n",
    "statement = False\n",
    "\n",
    "print(\"Please think of a number between 0 and 100!\")\n",
    "\n",
    "while statement != \"c\":\n",
    "    print(\"Is your secret number {}?\".format(guess))\n",
    "    statement = input(\"Enter 'h' to indicate the guess is too high. Enter 'l' to indicate the guess is too low. Enter 'c' to indicate I guessed correctly. \")\n",
    "    if statement == \"h\":\n",
    "        high = guess\n",
    "    elif statement == \"l\":\n",
    "        low = guess\n",
    "    elif statement == \"c\":\n",
    "        print(\"Game over. Your secret number was: {}\".format(guess))\n",
    "        break\n",
    "    else:\n",
    "        print(\"Not a valid entry! Try again\")\n",
    "    guess = int((low+high)/2)"
   ]
  },
  {
   "cell_type": "markdown",
   "metadata": {},
   "source": [
    "Video: Floats and Fractions\n",
    "- Converting decimal integer to binary\n",
    " - take remainder relative to 2 (x%2) of this number, that gives us the last binary bit. \n",
    "- then, divide x by 2 (x//2), all the bits get shifted right\n",
    "\n",
    "[Youtube 1](https://www.youtube.com/watch?v=H4BstqvgBow)\n",
    "\n",
    "[Youtube 2](https://www.youtube.com/watch?v=EnZso3HrG80&t=339s)\n"
   ]
  },
  {
   "cell_type": "code",
   "execution_count": 30,
   "metadata": {},
   "outputs": [
    {
     "data": {
      "text/plain": [
       "5005"
      ]
     },
     "execution_count": 30,
     "metadata": {},
     "output_type": "execute_result"
    }
   ],
   "source": [
    "# 19 in decimal is x in binary\n",
    "x = 10011\n",
    "x%2 \n",
    "\n",
    "x//2"
   ]
  },
  {
   "cell_type": "code",
   "execution_count": 45,
   "metadata": {},
   "outputs": [
    {
     "name": "stdout",
     "output_type": "stream",
     "text": [
      "Enter a number: 11\n",
      "1011\n"
     ]
    }
   ],
   "source": [
    "# decimal to binary\n",
    "num = int(input(\"Enter a number: \"))\n",
    "\n",
    "if num < 0:\n",
    "    isNeg = True\n",
    "    num = abs(num)\n",
    "else: \n",
    "    isNeg = False\n",
    "result = ''\n",
    "\n",
    "if num == 0:\n",
    "    result = '0'\n",
    "while num > 0:\n",
    "    result = str(num%2) + result\n",
    "    num = num//2\n",
    "if isNeg:\n",
    "    result = '-' + result\n",
    "\n",
    "print(result)"
   ]
  },
  {
   "cell_type": "code",
   "execution_count": 46,
   "metadata": {},
   "outputs": [
    {
     "name": "stdout",
     "output_type": "stream",
     "text": [
      "Enter a decimal number between 0 and 1: 0.1\n",
      "Remainder = 0.1\n",
      "Remainder = 0.2\n",
      "Remainder = 0.4\n",
      "Remainder = 0.8\n",
      "Remainder = 0.6000000000000001\n",
      "Remainder = 0.20000000000000018\n",
      "Remainder = 0.40000000000000036\n",
      "Remainder = 0.8000000000000007\n",
      "Remainder = 0.6000000000000014\n",
      "Remainder = 0.20000000000000284\n",
      "Remainder = 0.4000000000000057\n",
      "Remainder = 0.8000000000000114\n",
      "Remainder = 0.6000000000000227\n",
      "Remainder = 0.20000000000004547\n",
      "Remainder = 0.40000000000009095\n",
      "Remainder = 0.8000000000001819\n",
      "Remainder = 0.6000000000003638\n",
      "Remainder = 0.2000000000007276\n",
      "Remainder = 0.4000000000014552\n",
      "Remainder = 0.8000000000029104\n",
      "Remainder = 0.6000000000058208\n",
      "Remainder = 0.20000000001164153\n",
      "Remainder = 0.40000000002328306\n",
      "Remainder = 0.8000000000465661\n",
      "Remainder = 0.6000000000931323\n",
      "Remainder = 0.20000000018626451\n",
      "Remainder = 0.40000000037252903\n",
      "Remainder = 0.8000000007450581\n",
      "Remainder = 0.6000000014901161\n",
      "Remainder = 0.20000000298023224\n",
      "Remainder = 0.4000000059604645\n",
      "Remainder = 0.800000011920929\n",
      "Remainder = 0.6000000238418579\n",
      "Remainder = 0.20000004768371582\n",
      "Remainder = 0.40000009536743164\n",
      "Remainder = 0.8000001907348633\n",
      "Remainder = 0.6000003814697266\n",
      "Remainder = 0.20000076293945312\n",
      "Remainder = 0.40000152587890625\n",
      "Remainder = 0.8000030517578125\n",
      "Remainder = 0.600006103515625\n",
      "Remainder = 0.20001220703125\n",
      "Remainder = 0.4000244140625\n",
      "Remainder = 0.800048828125\n",
      "Remainder = 0.60009765625\n",
      "Remainder = 0.2001953125\n",
      "Remainder = 0.400390625\n",
      "Remainder = 0.80078125\n",
      "Remainder = 0.6015625\n",
      "Remainder = 0.203125\n",
      "Remainder = 0.40625\n",
      "Remainder = 0.8125\n",
      "Remainder = 0.625\n",
      "Remainder = 0.25\n",
      "Remainder = 0.5\n",
      "The binary representation of the decimal 0.1 is.0001100110011001100110011001100110011001100110011001101\n"
     ]
    }
   ],
   "source": [
    "# decimal to binary fractions\n",
    "x = float(input(\"Enter a decimal number between 0 and 1: \"))\n",
    "\n",
    "p = 0\n",
    "while ((2**p)*x)%1 != 0:\n",
    "    print('Remainder = ' + str((2**p)*x - int((2**p)*x)))\n",
    "    p += 1\n",
    "\n",
    "num = int(x*(2**p))\n",
    "\n",
    "result = ''\n",
    "if num == 0:\n",
    "    result = '0'\n",
    "while num > 0:\n",
    "    result = str(num%2) + result\n",
    "    num = num//2\n",
    "\n",
    "for i in range(p - len(result)):\n",
    "    result = '0' + result\n",
    "\n",
    "result = result[0:-p] + '.' + result[-p:]\n",
    "print('The binary representation of the decimal ' + str(x) + ' is' + str(result))"
   ]
  },
  {
   "cell_type": "markdown",
   "metadata": {},
   "source": [
    "Video: Newton-Raphson\n",
    "- Approximation algorithm to find roots of a polynomial in one variable\n",
    "\n",
    "$$ p(x) = a_n x^n + a_{n-1} x^{n-1}+...+a_1 x + a_0 $$\n",
    "- Want to find r such that p(r) = 0 \n",
    "- For example, to find the square root of 24, find the root of \n",
    "$$p(x) = x^2 - 24 $$\n",
    "- Newton showed that if g is an approximation to the root, then\n",
    "$$g - \\frac{p(g)}{p'(g)}$$\n",
    "is a better approximation"
   ]
  },
  {
   "cell_type": "code",
   "execution_count": 1,
   "metadata": {},
   "outputs": [
    {
     "name": "stdout",
     "output_type": "stream",
     "text": [
      "Iteration:  1 Guess:  12.0\n",
      "Iteration:  2 Guess:  7.0\n",
      "Iteration:  3 Guess:  5.214285714285714\n",
      "Iteration:  4 Guess:  4.908512720156556\n",
      "numGuessses = 4\n",
      "Square root of 24.0 is about 4.8989887432139305\n"
     ]
    }
   ],
   "source": [
    "# Newton-Raphson\n",
    "y = 24.0\n",
    "guess = y/2.0\n",
    "numGuesses = 0 \n",
    "\n",
    "while abs(guess**2-y) >= 0.01:\n",
    "    numGuesses += 1\n",
    "    print(\"Iteration: \", numGuesses, \"Guess: \", guess)\n",
    "    guess = guess - (((guess**2) -y) / (2*guess))\n",
    "    \n",
    "print(\"numGuessses = \"+str(numGuesses))\n",
    "print(\"Square root of \"+str(y) + \" is about \"+str(guess))"
   ]
  },
  {
   "cell_type": "markdown",
   "metadata": {},
   "source": [
    "## Lecture 4: Functions"
   ]
  },
  {
   "cell_type": "markdown",
   "metadata": {},
   "source": [
    "Video: Decomposition, Abstraction and Functions\n",
    "- Use functions to achieve decomposition and abstraction\n",
    "- Abstraction idea: It is enough to know the input/output behavior.\n",
    "- Decomposition idea: Different devices work together to achiev an end goal\n",
    "- Apply these ideas to programming: \n",
    " - Decomposition: Break problem into different, self-contained, pieces\n",
    " - Abstraction: Suppress details of method to compute something from use of that computation "
   ]
  },
  {
   "cell_type": "markdown",
   "metadata": {},
   "source": [
    "Video: Introducing functions\n",
    "- functions have to be \"called\" or \"invoked\" to run in a program\n",
    "- function characteristics\n",
    " - name, parameters, docstring, body"
   ]
  },
  {
   "cell_type": "code",
   "execution_count": 6,
   "metadata": {},
   "outputs": [
    {
     "name": "stdout",
     "output_type": "stream",
     "text": [
      "hi\n"
     ]
    },
    {
     "data": {
      "text/plain": [
       "False"
      ]
     },
     "execution_count": 6,
     "metadata": {},
     "output_type": "execute_result"
    }
   ],
   "source": [
    "def is_even(i):\n",
    "    '''\n",
    "    Input: i, a positive integer\n",
    "    Output: True, if i is even, otherwise false\n",
    "    '''\n",
    "    print(\"hi\")\n",
    "    return i%2 == 0\n",
    "\n",
    "is_even(3)"
   ]
  },
  {
   "cell_type": "code",
   "execution_count": 11,
   "metadata": {},
   "outputs": [],
   "source": [
    "# Quadratic function\n",
    "def evalQuadratic(a, b, c, x):\n",
    "    '''\n",
    "    a, b, c: numerical values for the coefficients of a quadratic equation\n",
    "    x: numerical value at which to evaluate the quadratic.\n",
    "    '''\n",
    "    res = a*(x**2) + b*x + c\n",
    "    return res"
   ]
  },
  {
   "cell_type": "markdown",
   "metadata": {},
   "source": [
    "Video: Calling Functions and Scope\n",
    "- ..."
   ]
  },
  {
   "cell_type": "code",
   "execution_count": 13,
   "metadata": {},
   "outputs": [
    {
     "name": "stdout",
     "output_type": "stream",
     "text": [
      "in g(x): x = 4\n"
     ]
    }
   ],
   "source": [
    "# Function inside another function\n",
    "def g(x):\n",
    "    def h():\n",
    "        x = \"abc\"\n",
    "    x = x+1\n",
    "    print(\"in g(x): x =\", x)\n",
    "    h()\n",
    "    return x\n",
    "\n",
    "x = 3\n",
    "z = g(x)\n",
    "\n",
    "# Note that x = \"abc\" of the function h is evaluated\n",
    "#but not returned (hence, it goes to the garbage)"
   ]
  },
  {
   "cell_type": "code",
   "execution_count": 24,
   "metadata": {},
   "outputs": [
    {
     "data": {
      "text/plain": [
       "19"
      ]
     },
     "execution_count": 24,
     "metadata": {},
     "output_type": "execute_result"
    }
   ],
   "source": [
    "x = 12\n",
    "def g(x):\n",
    "    x = x + 1\n",
    "    def h(y):\n",
    "        return x + y\n",
    "    return h(6)\n",
    "g(x)"
   ]
  },
  {
   "cell_type": "markdown",
   "metadata": {},
   "source": [
    "Video: Keyword Arguments\n",
    "- default values in functions\n",
    "Video: Specification\n"
   ]
  },
  {
   "cell_type": "markdown",
   "metadata": {},
   "source": [
    "Questions: What is returned here?"
   ]
  },
  {
   "cell_type": "code",
   "execution_count": 26,
   "metadata": {},
   "outputs": [
    {
     "data": {
      "text/plain": [
       "11"
      ]
     },
     "execution_count": 26,
     "metadata": {},
     "output_type": "execute_result"
    }
   ],
   "source": [
    "def foo(x, y = 5):\n",
    "   def bar(x):\n",
    "      return x + 1\n",
    "   return bar(y * 2)\n",
    "          \n",
    "foo(3)"
   ]
  },
  {
   "cell_type": "code",
   "execution_count": 28,
   "metadata": {},
   "outputs": [
    {
     "data": {
      "text/plain": [
       "1"
      ]
     },
     "execution_count": 28,
     "metadata": {},
     "output_type": "execute_result"
    }
   ],
   "source": [
    "def foo(x, y = 5):\n",
    "   def bar(x):\n",
    "      return x + 1\n",
    "   return bar(y * 2)\n",
    "          \n",
    "foo(3, 0)"
   ]
  },
  {
   "cell_type": "code",
   "execution_count": 30,
   "metadata": {},
   "outputs": [
    {
     "data": {
      "text/plain": [
       "3"
      ]
     },
     "execution_count": 30,
     "metadata": {},
     "output_type": "execute_result"
    }
   ],
   "source": [
    "def foo (x):\n",
    "   def bar (z, x = 0):\n",
    "      return z + x\n",
    "   return bar(3)\n",
    "\n",
    "foo(5)"
   ]
  },
  {
   "cell_type": "markdown",
   "metadata": {},
   "source": [
    "### Methods"
   ]
  },
  {
   "cell_type": "code",
   "execution_count": 31,
   "metadata": {},
   "outputs": [],
   "source": [
    "str1 = 'exterminate!' \n",
    "str2 = 'number one - the larch'"
   ]
  },
  {
   "cell_type": "code",
   "execution_count": 81,
   "metadata": {},
   "outputs": [
    {
     "data": {
      "text/plain": [
       "'Number seven - the larch'"
      ]
     },
     "execution_count": 81,
     "metadata": {},
     "output_type": "execute_result"
    }
   ],
   "source": [
    "str1.upper\n",
    "str1.upper().isupper()\n",
    "str2.capitalize()\n",
    "str2 = str2.capitalize()\n",
    "str2\n",
    "str2.swapcase()\n",
    "str1.index(\"e\")\n",
    "str2.index(\"n\")\n",
    "str2.find(\"n\")\n",
    "# str2.index(\"!\")\n",
    "str2.find(\"!\")\n",
    "str1.count(\"e\")\n",
    "str1.replace(\"e\", \"*\")\n",
    "str2.replace(\"one\", \"seven\")"
   ]
  },
  {
   "cell_type": "code",
   "execution_count": 85,
   "metadata": {},
   "outputs": [
    {
     "data": {
      "text/plain": [
       "81"
      ]
     },
     "execution_count": 85,
     "metadata": {},
     "output_type": "execute_result"
    }
   ],
   "source": [
    "def square(x):\n",
    "    return x**2\n",
    "\n",
    "def fourthPower(x):\n",
    "    '''\n",
    "    x: int or float.\n",
    "    '''\n",
    "    # Your code here\n",
    "    return(square(square(x)))\n",
    "\n",
    "fourthPower(3)"
   ]
  },
  {
   "cell_type": "code",
   "execution_count": 95,
   "metadata": {},
   "outputs": [
    {
     "data": {
      "text/plain": [
       "False"
      ]
     },
     "execution_count": 95,
     "metadata": {},
     "output_type": "execute_result"
    }
   ],
   "source": [
    "def odd(x):\n",
    "    '''\n",
    "    x: int\n",
    "\n",
    "    returns: True if x is odd, False otherwise\n",
    "    '''\n",
    "    return (x%2 == 1)\n",
    "\n",
    "odd(4)"
   ]
  },
  {
   "cell_type": "markdown",
   "metadata": {},
   "source": [
    "Video: Iteration vs Recursion\n",
    "- a way to design solutions to problems by **divide and conquer** or **decrease and conquer**. \n",
    "- programming technique where a fucntion calls itself"
   ]
  },
  {
   "cell_type": "code",
   "execution_count": 97,
   "metadata": {},
   "outputs": [],
   "source": [
    "# multiplication - iterative solution\n",
    "# multiply a and b using an iterative solution\n",
    "def mult_iter(a,b):\n",
    "    result = 0 \n",
    "    while b > 0:\n",
    "        result += a\n",
    "        b -= 1\n",
    "    return result"
   ]
  },
  {
   "cell_type": "markdown",
   "metadata": {},
   "source": [
    "### Multiplication - recursive solution\n",
    "- Reduce problem to a simpler/smaller version of problem\n",
    "- Keep reducing until reach a simple case that can be solved directly"
   ]
  },
  {
   "cell_type": "code",
   "execution_count": 100,
   "metadata": {},
   "outputs": [
    {
     "data": {
      "text/plain": [
       "6"
      ]
     },
     "execution_count": 100,
     "metadata": {},
     "output_type": "execute_result"
    }
   ],
   "source": [
    "def mult(a, b):\n",
    "    if b==1:\n",
    "        return a\n",
    "    else:\n",
    "        return a + mult(a, b-1)\n",
    "    \n",
    "mult(2,3)"
   ]
  },
  {
   "cell_type": "markdown",
   "metadata": {},
   "source": [
    "### Factorial\n",
    "- how to reduce problem? Rewrite in terms of something simpler to reach base case\n",
    "- What n do we know the factorial of: `n=1`\n",
    " - `if n==1:` \n",
    " - `return 1`\n",
    "- How to reduce problem? Rewrite in terms of something simpler to reach base case\n",
    " - `else:`\n",
    " - `return n*factorial(n-1)`"
   ]
  },
  {
   "cell_type": "code",
   "execution_count": 102,
   "metadata": {},
   "outputs": [
    {
     "data": {
      "text/plain": [
       "24"
      ]
     },
     "execution_count": 102,
     "metadata": {},
     "output_type": "execute_result"
    }
   ],
   "source": [
    "# Factorial - recursive solution\n",
    "def fact(n):\n",
    "    if n == 1:\n",
    "        return 1\n",
    "    else:\n",
    "        return n*fact(n-1)\n",
    "\n",
    "fact(4)"
   ]
  },
  {
   "cell_type": "markdown",
   "metadata": {},
   "source": [
    "- Note that each recursive call to a function creates its own scope/environment\n",
    "- bindings of variables in a scope is not changed by a recursive vall\n",
    "- flow of controle passes back to previous scope once function call returns value"
   ]
  },
  {
   "cell_type": "code",
   "execution_count": 105,
   "metadata": {},
   "outputs": [
    {
     "data": {
      "text/plain": [
       "6"
      ]
     },
     "execution_count": 105,
     "metadata": {},
     "output_type": "execute_result"
    }
   ],
   "source": [
    "# Compare to iterative solution of factorial\n",
    "def factorial_iter(n):\n",
    "    prod = 1\n",
    "    for i in range(1, n+1):\n",
    "        prod *= i\n",
    "    return prod\n",
    "\n",
    "factorial_iter(3)"
   ]
  },
  {
   "cell_type": "markdown",
   "metadata": {},
   "source": [
    "- Recursion may be simpler, more intuitive\n",
    "- Recursion may be efficient from programmer POV\n",
    "- Recursion may not be efficient from computer POV"
   ]
  },
  {
   "cell_type": "code",
   "execution_count": 115,
   "metadata": {},
   "outputs": [
    {
     "data": {
      "text/plain": [
       "8"
      ]
     },
     "execution_count": 115,
     "metadata": {},
     "output_type": "execute_result"
    }
   ],
   "source": [
    "# iterative solution to base^power\n",
    "def iterPower(base, exp):\n",
    "    '''\n",
    "    base: int or float.\n",
    "    exp: int >= 0\n",
    " \n",
    "    returns: int or float, base^exp\n",
    "    '''\n",
    "    result = 1\n",
    "    while exp > 0:\n",
    "        result *= base\n",
    "        exp -= 1\n",
    "    return result\n",
    "\n",
    "iterPower(2,3)"
   ]
  },
  {
   "cell_type": "code",
   "execution_count": 117,
   "metadata": {},
   "outputs": [
    {
     "data": {
      "text/plain": [
       "8"
      ]
     },
     "execution_count": 117,
     "metadata": {},
     "output_type": "execute_result"
    }
   ],
   "source": [
    "# recursive solution to base^power\n",
    "def recurPower(base, exp):\n",
    "    '''\n",
    "    base: int or float.\n",
    "    exp: int >= 0\n",
    " \n",
    "    returns: int or float, base^exp\n",
    "    '''\n",
    "    # Base case is when exp = 0\n",
    "    \n",
    "    if exp <= 0:\n",
    "        return 1\n",
    "    \n",
    "    # otherwise, exp must be >0, so return\n",
    "    # base*base^(exp-1). This is the recursive case.\n",
    "    \n",
    "    return base * recurPower(base, exp - 1)\n",
    "\n",
    "recurPower(2,3)"
   ]
  },
  {
   "cell_type": "markdown",
   "metadata": {},
   "source": [
    "Video: Inductive Reasoning\n",
    "-  to prove a statement indexed on integers is true for all values of n:\n",
    "- Prove it is true when n is smalles values (e.g. n = 0 or n =1)\n",
    "- Then prove that if it is true for an arbitrary value of n, one can show that it must be true for n+1"
   ]
  },
  {
   "cell_type": "markdown",
   "metadata": {},
   "source": [
    "Video: Towers of Hanoi\n",
    "- How to write a program to print out the right set of moves? "
   ]
  },
  {
   "cell_type": "code",
   "execution_count": 31,
   "metadata": {},
   "outputs": [
    {
     "data": {
      "text/plain": [
       "21"
      ]
     },
     "execution_count": 31,
     "metadata": {},
     "output_type": "execute_result"
    }
   ],
   "source": [
    "# Iterative function that implements \n",
    "#greatest common divisor\n",
    "def gcdIter(a,b):\n",
    "    '''\n",
    "    a, b: positive integers\n",
    "    returns: a positive integer, the greatest common divisor of a,b\n",
    "    '''\n",
    "    if a >= b:\n",
    "        testValue = b\n",
    "    else:\n",
    "        testValue = a\n",
    "    \n",
    "    while a%testValue != 0 or b%testValue != 0:        \n",
    "        testValue -= 1\n",
    "    \n",
    "    return testValue\n",
    "\n",
    "gcdIter(1071,462) "
   ]
  },
  {
   "cell_type": "markdown",
   "metadata": {},
   "source": [
    "[Euclidian algorithms](https://en.wikipedia.org/wiki/Euclidean_algorithm#Worked_example)"
   ]
  },
  {
   "cell_type": "code",
   "execution_count": 1,
   "metadata": {},
   "outputs": [
    {
     "data": {
      "text/plain": [
       "21"
      ]
     },
     "execution_count": 1,
     "metadata": {},
     "output_type": "execute_result"
    }
   ],
   "source": [
    "# example:\n",
    "# gcf of 9 and 12 is 3\n",
    "\n",
    "def gcdRecur(a, b):\n",
    "    '''\n",
    "    a, b: positive integers\n",
    "    \n",
    "    returns: a positive integer, the greatest common divisor of a & b.\n",
    "    '''\n",
    "    \n",
    "    # Base case is when b=0\n",
    "    if b == 0:\n",
    "        return a\n",
    "    \n",
    "    return gcdRecur(b, a%b)\n",
    "    \n",
    "gcdRecur(1071,462)"
   ]
  },
  {
   "cell_type": "markdown",
   "metadata": {},
   "source": [
    "Video: Fibonacci\n",
    "- `f(2) = f(1) + f(0)`\n",
    "\n",
    "In general, this can be expressed: \n",
    "$$ f(n) = f(n-1) + f(n-2) $$\n",
    "\n",
    "How to capture this in code?\n",
    "\n",
    "- Base cases: f(0) = 1 and f(1) = 1\n",
    "- Recursive case: f(n) = f(n-1) + f(n-2)"
   ]
  },
  {
   "cell_type": "code",
   "execution_count": 5,
   "metadata": {},
   "outputs": [
    {
     "data": {
      "text/plain": [
       "610"
      ]
     },
     "execution_count": 5,
     "metadata": {},
     "output_type": "execute_result"
    }
   ],
   "source": [
    "def fib(x):\n",
    "    \"\"\"\n",
    "    assumes x an int >=0 \n",
    "    returns fibonacci of x\n",
    "    \"\"\"\n",
    "    if x == 0 or x==1:\n",
    "        return 1\n",
    "    else:\n",
    "        return fib(x-1) + fib(x-2)\n",
    "    \n",
    "fib(14)"
   ]
  },
  {
   "cell_type": "code",
   "execution_count": 8,
   "metadata": {},
   "outputs": [
    {
     "data": {
      "text/plain": [
       "True"
      ]
     },
     "execution_count": 8,
     "metadata": {},
     "output_type": "execute_result"
    }
   ],
   "source": [
    "# Recursion to check whether sth is a palindrome...\n",
    "def isPalindrome(s):\n",
    "    def toChars(s):\n",
    "        s = s.lower()\n",
    "        ans = \"\"\n",
    "        for c in s:\n",
    "            if c in \"abcdefghijklmnopqrstuvwxyz\":\n",
    "                ans += c\n",
    "            return ans\n",
    "    \n",
    "    def isPal(s):\n",
    "        if len(s) <= 1:\n",
    "            return True\n",
    "        else:\n",
    "            return s[0] == s[-1] and isPal(s[1:-1])\n",
    "    return isPal(toChars(s))\n",
    "\n",
    "isPalindrome(\"eve\")"
   ]
  },
  {
   "cell_type": "markdown",
   "metadata": {},
   "source": [
    "[Bisection Search](http://mitxcsjourney.blogspot.com/2017/11/bisection-search-behind-scenes.html)"
   ]
  },
  {
   "cell_type": "markdown",
   "metadata": {},
   "source": [
    "[Python: Recursion Explained](https://www.youtube.com/watch?v=wMNrSM5RFMc)\n",
    "\n",
    "Finding factorial using recursion:\n",
    "- Recursion function breaks the problem down into smaller problems, and calls itself for each of the smaller problems. \n",
    "- It includes a base case and a recursive case.\n",
    "\n",
    "Note that in the factorial case, we can express the 5! (five factorial) as:\n",
    "$$ 5! = 5 * 4!$$\n",
    "and \n",
    "$$ 4! = 4 * 3! $$\n",
    "and so forth until we reach the base case.\n"
   ]
  },
  {
   "cell_type": "code",
   "execution_count": 19,
   "metadata": {},
   "outputs": [
    {
     "data": {
      "text/plain": [
       "720"
      ]
     },
     "execution_count": 19,
     "metadata": {},
     "output_type": "execute_result"
    }
   ],
   "source": [
    "# recursive solution to get factorial\n",
    "def getFactorial(x):\n",
    "    \"\"\"\n",
    "    Input: Int >= 0\n",
    "    Output: Factorial of the integer\n",
    "    \"\"\"\n",
    "    if x == 1 or x == 0:\n",
    "        return 1\n",
    "    else:\n",
    "        return x*getFactorial(x-1)\n",
    "    \n",
    "getFactorial(6)"
   ]
  },
  {
   "cell_type": "code",
   "execution_count": 18,
   "metadata": {},
   "outputs": [
    {
     "data": {
      "text/plain": [
       "720"
      ]
     },
     "execution_count": 18,
     "metadata": {},
     "output_type": "execute_result"
    }
   ],
   "source": [
    "# iterative solution to get factorial\n",
    "def getFactorial(n):\n",
    "    if n < 0:\n",
    "        return -1\n",
    "    else:\n",
    "        fact = 1\n",
    "        for i in range(1, n+1):\n",
    "            fact *= i\n",
    "        return fact\n",
    "getFactorial(6)"
   ]
  },
  {
   "cell_type": "code",
   "execution_count": 24,
   "metadata": {},
   "outputs": [
    {
     "data": {
      "text/plain": [
       "False"
      ]
     },
     "execution_count": 24,
     "metadata": {},
     "output_type": "execute_result"
    }
   ],
   "source": [
    "# Exercise: is in using bisection search\n",
    "def isIn(char, aStr):\n",
    "    \"\"\"\n",
    "    char: a single character\n",
    "    aStr: an alphabetized string\n",
    "    \n",
    "    returns: True if aStr is empty, we did not find the char.\n",
    "    \"\"\"\n",
    "    # Base Case: aStr is empty, we did not find char\n",
    "    if aStr == \"\":\n",
    "        return False\n",
    "    \n",
    "    # Base Case: if aStr of length 1, just see\n",
    "    # if the chars are equal\n",
    "    \n",
    "    if len(aStr) == 1:\n",
    "        return aStr == char\n",
    "    \n",
    "    # Base Case: See if the character in the middle\n",
    "    #of aStr equals the test character\n",
    "    midIndex = len(aStr)//2\n",
    "    midChar = aStr[midIndex]\n",
    "    if char == midChar:\n",
    "    # We found the character!\n",
    "        return True\n",
    "   \n",
    "    # Recursive case: If the test character is smaller than the middle \n",
    "    #  character, recursively search on the first half of aStr\n",
    "    elif char < midChar:\n",
    "        return isIn(char, aStr[:midIndex])\n",
    "\n",
    "    # Otherwise the test character is larger than the middle character,\n",
    "    #  so recursively search on the last half of aStr\n",
    "    else:\n",
    "        return isIn(char, aStr[midIndex+1:])   \n",
    "\n",
    "isIn('c', 'abdjloqqrrsuzz')"
   ]
  },
  {
   "cell_type": "markdown",
   "metadata": {},
   "source": [
    "Video: Files\n",
    "- ..."
   ]
  }
 ],
 "metadata": {
  "kernelspec": {
   "display_name": "Python [conda env:Anaconda3]",
   "language": "python",
   "name": "conda-env-Anaconda3-py"
  },
  "language_info": {
   "codemirror_mode": {
    "name": "ipython",
    "version": 3
   },
   "file_extension": ".py",
   "mimetype": "text/x-python",
   "name": "python",
   "nbconvert_exporter": "python",
   "pygments_lexer": "ipython3",
   "version": "3.6.6"
  }
 },
 "nbformat": 4,
 "nbformat_minor": 2
}
