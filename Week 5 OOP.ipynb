{
 "cells": [
  {
   "cell_type": "markdown",
   "metadata": {},
   "source": [
    "# Object-Oriented Programming"
   ]
  },
  {
   "cell_type": "markdown",
   "metadata": {},
   "source": [
    "Video Object-Oriented Programming\n",
    "- each kind of data is an instance of an **object**, and every object has\n",
    " - a type\n",
    " - an internal data representation \n",
    " - a set of procedures for interaction with the object\n",
    " \n",
    "- Everything in Python is an object and has a type\n",
    "\n",
    "Example: `[1,2,3,4]` is of type list\n",
    "- Lists are internally represented as **linked list** of cells\n",
    "\n",
    "- **Classes** to represent an abstract notion or idea (e.g. a house as a structure where people live with bedrooms, bathrooms, etc.) \n",
    "- Concrete examples, like the neighbor's house, a house down the street are called **Instances** of this class. \n",
    "\n",
    "Intuitively, we make a clear distinction between creating a class and using an instance of the class. \n",
    "- Creating the class: defining the class name, class atributes\n",
    "- Using the class involves: creating new instances, doing operations on the instances,..."
   ]
  },
  {
   "cell_type": "markdown",
   "metadata": {},
   "source": [
    "Video: Define your own types\n",
    "- Use `class` keyword to define a new type\n",
    "- Data and procedures that \"belong\" the class are called **attributes**. \n",
    "- Methods: Functions that only work with this class. For example you can define a distance between two coordinate objects but there is no meaning to a distance between two list objects. \n",
    "- First, create an instance of object. Use `__init__`to initialize some data attributes."
   ]
  },
  {
   "cell_type": "code",
   "execution_count": 14,
   "metadata": {},
   "outputs": [
    {
     "name": "stdout",
     "output_type": "stream",
     "text": [
      "3\n",
      "0\n",
      "5.0\n",
      "5.0\n",
      "<3,4>\n",
      "True\n"
     ]
    }
   ],
   "source": [
    "# initialize a class\n",
    "class Coordinate(object):\n",
    "    def __init__(self, x, y):\n",
    "        self.x = x\n",
    "        self.y = y\n",
    "    # define distance\n",
    "    def distance(self, other):\n",
    "        x_diff_sq = (self.x - other.x) ** 2\n",
    "        y_diff_sq = (self.y - other.y) ** 2\n",
    "        return (x_diff_sq + y_diff_sq) ** 0.5\n",
    "    # define own print method\n",
    "    def __str__(self):\n",
    "        return \"<\" + str(self.x) + \",\" + str(self.y) + \">\"\n",
    "        \n",
    "# Creating new instances of that class\n",
    "c = Coordinate(3,4)\n",
    "origin = Coordinate(0,0)\n",
    "\n",
    "print(c.x)\n",
    "print(origin.x)\n",
    "\n",
    "# Distance from c to origin\n",
    "print(c.distance(origin))\n",
    "\n",
    "# Alternatively\n",
    "print(Coordinate.distance(c, origin))\n",
    "\n",
    "# print out c with own print method\n",
    "print(c)\n",
    "\n",
    "# type\n",
    "print(isinstance(c, Coordinate))"
   ]
  },
  {
   "cell_type": "markdown",
   "metadata": {},
   "source": [
    "- data attributes of an instance are called instance variables\n",
    "- don't provide argument for self, Python does this automatically. "
   ]
  },
  {
   "cell_type": "markdown",
   "metadata": {},
   "source": [
    "Video: Methods\n",
    "- A method is a procedureal attrbute, like a function taht works only with this class\n",
    "- actual object is first argument, by convention this is called `self` as the name of the first argument of all methods\n",
    "- \".\" operator can be used to access any attribute (data attribute or method of an object)\n",
    "- Print representation of an object:\n",
    " - `__str__`method\n",
    "- Python calls the `__str__` method when used with print on your class object\n",
    "-  Use `isinstance()`to check if an object is a `Coordinate`\n",
    "- https://docs.python.org/3/reference/datamodel.html#basic-customization\n"
   ]
  },
  {
   "cell_type": "code",
   "execution_count": 22,
   "metadata": {},
   "outputs": [
    {
     "name": "stdout",
     "output_type": "stream",
     "text": [
      "5:30\n"
     ]
    }
   ],
   "source": [
    "# Initiate class \"Clock\"\n",
    "class Clock(object):\n",
    "    def __init__(self, time):\n",
    "        self.time = time\n",
    "    def print_time(self, time):\n",
    "        print(self.time)\n",
    "\n",
    "clock = Clock(\"5:30\")\n",
    "clock.print_time(\"10:30\")"
   ]
  },
  {
   "cell_type": "code",
   "execution_count": 26,
   "metadata": {},
   "outputs": [
    {
     "name": "stdout",
     "output_type": "stream",
     "text": [
      "10:30\n"
     ]
    }
   ],
   "source": [
    "class Clock(object):\n",
    "    def __init__(self, time):\n",
    "        self.time = time\n",
    "    def print_time(self):\n",
    "        print(self.time)\n",
    "\n",
    "boston_clock = Clock('5:30')\n",
    "paris_clock = boston_clock\n",
    "paris_clock.time = '10:30'\n",
    "boston_clock.print_time()\n"
   ]
  },
  {
   "cell_type": "code",
   "execution_count": 29,
   "metadata": {},
   "outputs": [
    {
     "name": "stdout",
     "output_type": "stream",
     "text": [
      "10:30\n"
     ]
    }
   ],
   "source": [
    "class Clock(object):\n",
    "    def __init__(self, time):\n",
    "        self.time = time\n",
    "    def print_time(self, time):\n",
    "        print(time)\n",
    "\n",
    "clock = Clock('5:30')\n",
    "clock.print_time('10:30')"
   ]
  },
  {
   "cell_type": "code",
   "execution_count": 69,
   "metadata": {},
   "outputs": [
    {
     "name": "stdout",
     "output_type": "stream",
     "text": [
      "7\n",
      "17\n",
      "7\n",
      "18\n",
      "31\n",
      "7\n",
      "44\n",
      "8\n"
     ]
    }
   ],
   "source": [
    "class Weird(object):\n",
    "    def __init__(self, x, y): \n",
    "        self.y = y\n",
    "        self.x = x\n",
    "    def getX(self):\n",
    "        return x \n",
    "    def getY(self):\n",
    "        return y\n",
    "\n",
    "class Wild(object):\n",
    "    def __init__(self, x, y): \n",
    "        self.y = y\n",
    "        self.x = x\n",
    "    def getX(self):\n",
    "        return self.x \n",
    "    def getY(self):\n",
    "        return self.y\n",
    "\n",
    "X = 7\n",
    "Y = 8\n",
    "\n",
    "# w1 = Weird(X,Y)\n",
    "# print(w1.getX())\n",
    "\n",
    "w2 = Wild(X, Y)\n",
    "print(w2.getX())\n",
    "\n",
    "w3 = Wild(17,18)\n",
    "print(w3.getX())\n",
    "\n",
    "w4 = Wild(X, 18)\n",
    "print(w4.getX())\n",
    "print(w4.getY())\n",
    "\n",
    "X = w4.getX() + w3.getX() + w2.getX()\n",
    "print(X)\n",
    "print(w4.getX())\n",
    "\n",
    "Y = w4.getY() + w3.getY()\n",
    "Y = Y + w2.getY()\n",
    "print(Y)\n",
    "print(w2.getY())"
   ]
  },
  {
   "cell_type": "markdown",
   "metadata": {},
   "source": [
    "Video: Classes Examples\n",
    "- "
   ]
  }
 ],
 "metadata": {
  "kernelspec": {
   "display_name": "Python [conda env:Anaconda3]",
   "language": "python",
   "name": "conda-env-Anaconda3-py"
  },
  "language_info": {
   "codemirror_mode": {
    "name": "ipython",
    "version": 3
   },
   "file_extension": ".py",
   "mimetype": "text/x-python",
   "name": "python",
   "nbconvert_exporter": "python",
   "pygments_lexer": "ipython3",
   "version": "3.6.6"
  }
 },
 "nbformat": 4,
 "nbformat_minor": 2
}
