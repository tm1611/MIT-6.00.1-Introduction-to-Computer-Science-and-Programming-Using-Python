{
 "cells": [
  {
   "cell_type": "markdown",
   "metadata": {},
   "source": [
    "# Object-Oriented Programming"
   ]
  },
  {
   "cell_type": "markdown",
   "metadata": {},
   "source": [
    "#### Lecture 9.\n",
    "Video Object-Oriented Programming\n",
    "- each kind of data is an instance of an **object**, and every object has\n",
    " - a type\n",
    " - an internal data representation \n",
    " - a set of procedures for interaction with the object\n",
    " \n",
    "- Everything in Python is an object and has a type\n",
    "\n",
    "Example: `[1,2,3,4]` is of type list\n",
    "- Lists are internally represented as **linked list** of cells\n",
    "\n",
    "- **Classes** to represent an abstract notion or idea (e.g. a house as a structure where people live with bedrooms, bathrooms, etc.) \n",
    "- Concrete examples, like the neighbor's house, a house down the street are called **Instances** of this class. \n",
    "\n",
    "Intuitively, we make a clear distinction between creating a class and using an instance of the class. \n",
    "- Creating the class: defining the class name, class atributes\n",
    "- Using the class involves: creating new instances, doing operations on the instances,..."
   ]
  },
  {
   "cell_type": "markdown",
   "metadata": {},
   "source": [
    "Video: Define your own types\n",
    "- Use `class` keyword to define a new type\n",
    "- Data and procedures that \"belong\" the class are called **attributes**. \n",
    "- Methods: Functions that only work with this class. For example you can define a distance between two coordinate objects but there is no meaning to a distance between two list objects. \n",
    "- First, create an instance of object. Use `__init__`to initialize some data attributes."
   ]
  },
  {
   "cell_type": "code",
   "execution_count": 14,
   "metadata": {},
   "outputs": [
    {
     "name": "stdout",
     "output_type": "stream",
     "text": [
      "3\n",
      "0\n",
      "5.0\n",
      "5.0\n",
      "<3,4>\n",
      "True\n"
     ]
    }
   ],
   "source": [
    "# initialize a class\n",
    "class Coordinate(object):\n",
    "    def __init__(self, x, y):\n",
    "        self.x = x\n",
    "        self.y = y\n",
    "    # define distance\n",
    "    def distance(self, other):\n",
    "        x_diff_sq = (self.x - other.x) ** 2\n",
    "        y_diff_sq = (self.y - other.y) ** 2\n",
    "        return (x_diff_sq + y_diff_sq) ** 0.5\n",
    "    # define own print method\n",
    "    def __str__(self):\n",
    "        return \"<\" + str(self.x) + \",\" + str(self.y) + \">\"\n",
    "        \n",
    "# Creating new instances of that class\n",
    "c = Coordinate(3,4)\n",
    "origin = Coordinate(0,0)\n",
    "\n",
    "print(c.x)\n",
    "print(origin.x)\n",
    "\n",
    "# Distance from c to origin\n",
    "print(c.distance(origin))\n",
    "\n",
    "# Alternatively\n",
    "print(Coordinate.distance(c, origin))\n",
    "\n",
    "# print out c with own print method\n",
    "print(c)\n",
    "\n",
    "# type\n",
    "print(isinstance(c, Coordinate))"
   ]
  },
  {
   "cell_type": "markdown",
   "metadata": {},
   "source": [
    "- data attributes of an instance are called instance variables\n",
    "- don't provide argument for self, Python does this automatically. "
   ]
  },
  {
   "cell_type": "markdown",
   "metadata": {},
   "source": [
    "Video: Methods\n",
    "- A method is a procedureal attrbute, like a function taht works only with this class\n",
    "- actual object is first argument, by convention this is called `self` as the name of the first argument of all methods\n",
    "- \".\" operator can be used to access any attribute (data attribute or method of an object)\n",
    "- Print representation of an object:\n",
    " - `__str__`method\n",
    "- Python calls the `__str__` method when used with print on your class object\n",
    "-  Use `isinstance()`to check if an object is a `Coordinate`\n",
    "- https://docs.python.org/3/reference/datamodel.html#basic-customization\n"
   ]
  },
  {
   "cell_type": "code",
   "execution_count": 1,
   "metadata": {},
   "outputs": [
    {
     "name": "stdout",
     "output_type": "stream",
     "text": [
      "5:30\n"
     ]
    }
   ],
   "source": [
    "# Initiate class \"Clock\"\n",
    "class Clock(object):\n",
    "    def __init__(self, time):\n",
    "        self.time = time\n",
    "    def print_time(self, time):\n",
    "        print(self.time)\n",
    "\n",
    "clock = Clock(\"5:30\")\n",
    "clock.print_time(\"10:30\")"
   ]
  },
  {
   "cell_type": "code",
   "execution_count": 3,
   "metadata": {},
   "outputs": [
    {
     "name": "stdout",
     "output_type": "stream",
     "text": [
      "10:30\n"
     ]
    }
   ],
   "source": [
    "class Clock(object):\n",
    "    def __init__(self, time):\n",
    "        self.time = time\n",
    "    def print_time(self):\n",
    "        print(self.time)\n",
    "\n",
    "boston_clock = Clock('5:30')\n",
    "paris_clock = boston_clock\n",
    "paris_clock.time = '10:30'\n",
    "boston_clock.print_time()\n"
   ]
  },
  {
   "cell_type": "code",
   "execution_count": 29,
   "metadata": {},
   "outputs": [
    {
     "name": "stdout",
     "output_type": "stream",
     "text": [
      "10:30\n"
     ]
    }
   ],
   "source": [
    "class Clock(object):\n",
    "    def __init__(self, time):\n",
    "        self.time = time\n",
    "    def print_time(self, time):\n",
    "        print(time)\n",
    "\n",
    "clock = Clock('5:30')\n",
    "clock.print_time('10:30')"
   ]
  },
  {
   "cell_type": "code",
   "execution_count": 69,
   "metadata": {},
   "outputs": [
    {
     "name": "stdout",
     "output_type": "stream",
     "text": [
      "7\n",
      "17\n",
      "7\n",
      "18\n",
      "31\n",
      "7\n",
      "44\n",
      "8\n"
     ]
    }
   ],
   "source": [
    "class Weird(object):\n",
    "    def __init__(self, x, y): \n",
    "        self.y = y\n",
    "        self.x = x\n",
    "    def getX(self):\n",
    "        return x \n",
    "    def getY(self):\n",
    "        return y\n",
    "\n",
    "class Wild(object):\n",
    "    def __init__(self, x, y): \n",
    "        self.y = y\n",
    "        self.x = x\n",
    "    def getX(self):\n",
    "        return self.x \n",
    "    def getY(self):\n",
    "        return self.y\n",
    "\n",
    "X = 7\n",
    "Y = 8\n",
    "\n",
    "# w1 = Weird(X,Y)\n",
    "# print(w1.getX())\n",
    "\n",
    "w2 = Wild(X, Y)\n",
    "print(w2.getX())\n",
    "\n",
    "w3 = Wild(17,18)\n",
    "print(w3.getX())\n",
    "\n",
    "w4 = Wild(X, 18)\n",
    "print(w4.getX())\n",
    "print(w4.getY())\n",
    "\n",
    "X = w4.getX() + w3.getX() + w2.getX()\n",
    "print(X)\n",
    "print(w4.getX())\n",
    "\n",
    "Y = w4.getY() + w3.getY()\n",
    "Y = Y + w2.getY()\n",
    "print(Y)\n",
    "print(w2.getY())"
   ]
  },
  {
   "cell_type": "markdown",
   "metadata": {},
   "source": [
    "Video: Classes Examples\n",
    "- Example `Fractions`\n",
    " - requires to create a new type to represent a number as a fraction\n",
    " - internal representation of two integers (numerator, denominator)\n",
    " - interface with print representation, add, subtract, and convert to a float\n",
    "\n",
    "- Example `A set of integers`\n",
    " - create a new type to represent a collection of integers\n",
    " - interface: `insert(e)` to insert integer e into set if not there; `member(e)`return True if integer is in set, False else; `remove(e)` remove integer e from set, error if not present"
   ]
  },
  {
   "cell_type": "code",
   "execution_count": 14,
   "metadata": {},
   "outputs": [
    {
     "name": "stdout",
     "output_type": "stream",
     "text": [
      "2/3\n",
      "3\n",
      "2\n",
      "7/6\n"
     ]
    }
   ],
   "source": [
    "# fraction class\n",
    "class fraction(object):\n",
    "    def __init__(self, numer, denom):\n",
    "        self.numer = numer \n",
    "        self.denom = denom\n",
    "    # define geter\n",
    "    def getNumer(self):\n",
    "        return self.numer\n",
    "    def getDenom(self):\n",
    "        return self.denom\n",
    "    # adding methods\n",
    "    def __add__(self, other):\n",
    "        numerNew = other.getDenom() * self.getNumer() + other.getNumer() + self.getDenom()\n",
    "        denomNew = other.getDenom() * self.getDenom()\n",
    "        return fraction(numerNew, denomNew)\n",
    "    \n",
    "    # define print-out\n",
    "    def __str__(self):\n",
    "        return str(self.numer) + \"/\" + str(self.denom)\n",
    "    \n",
    "my_fract = fraction(2,3)\n",
    "print(my_fract)\n",
    "print(my_fract.getDenom())\n",
    "print(my_fract.getNumer())\n",
    "\n",
    "oneHalf = fraction(1,2)\n",
    "twoThirds = fraction(2,3)\n",
    "new = oneHalf + twoThirds\n",
    "print(new)"
   ]
  },
  {
   "cell_type": "code",
   "execution_count": 26,
   "metadata": {},
   "outputs": [
    {
     "name": "stdout",
     "output_type": "stream",
     "text": [
      "()\n",
      "(3,4)\n",
      "(4)\n",
      "False\n",
      "True\n"
     ]
    }
   ],
   "source": [
    "# Integer set class \n",
    "class intSet(object):\n",
    "    def __init__(self):\n",
    "        self.vals = []\n",
    "    def insert(self, e):\n",
    "        if not e in self.vals:\n",
    "            self.vals.append(e)\n",
    "    def member(self, e):\n",
    "        return e in self.vals\n",
    "    def remove(self, e):\n",
    "        try:\n",
    "            self.vals.remove(e)\n",
    "        except:\n",
    "            raise ValueError(str(e) + \" not found\")\n",
    "    def __str__(self):\n",
    "        self.vals.sort()\n",
    "        result = \"\"\n",
    "        for e in self.vals:\n",
    "            result = result + str(e) + \",\"\n",
    "        return \"(\" + result[:-1] + \")\"\n",
    "\n",
    "s = intSet()\n",
    "print(s)\n",
    "\n",
    "# now insert something\n",
    "s.insert(3)\n",
    "s.insert(4)\n",
    "s.insert(3)\n",
    "print(s)\n",
    "\n",
    "# remove \n",
    "s.remove(3)\n",
    "print(s)\n",
    "\n",
    "# check if member\n",
    "print(s.member(3))\n",
    "print(s.member(4))"
   ]
  },
  {
   "cell_type": "code",
   "execution_count": 32,
   "metadata": {},
   "outputs": [
    {
     "name": "stdout",
     "output_type": "stream",
     "text": [
      "<1,-8>\n",
      "<1,-8>\n",
      "True\n",
      "False\n"
     ]
    }
   ],
   "source": [
    "# Exercise: Adding two methods to `Coordinate`class\n",
    "class Coordinate(object):\n",
    "    def __init__(self,x,y):\n",
    "        self.x = x\n",
    "        self.y = y\n",
    "\n",
    "    def getX(self):\n",
    "        # Getter method for a Coordinate object's x coordinate.\n",
    "        # Getter methods are better practice than just accessing an attribute directly\n",
    "        return self.x\n",
    "\n",
    "    def getY(self):\n",
    "        # Getter method for a Coordinate object's y coordinate\n",
    "        return self.y\n",
    "    \n",
    "    def __str__(self):\n",
    "        return '<' + str(self.getX()) + ',' + str(self.getY()) + '>'\n",
    "    \n",
    "    # adding method __eq__\n",
    "    def __eq__(self, other):\n",
    "        # Check is same type\n",
    "        assert type(other) == type(self)\n",
    "        return self.getX() == other.getX() and self.getY() == other.getY()\n",
    "    \n",
    "    # adding method __repr__\n",
    "    def __repr__(self):\n",
    "        return \"Coordinate(\" + str(self.getX()) + \",\" + str(self.getY()) + \")\" \n",
    "\n",
    "    \n",
    "# testing\n",
    "c1 = Coordinate(1,-8)\n",
    "c2 = Coordinate(1,-8)\n",
    "c3 = Coordinate(3, 50)\n",
    "print(c1)\n",
    "print(c2)\n",
    "print(c1 == c2)\n",
    "print(c1 == c3)"
   ]
  },
  {
   "cell_type": "markdown",
   "metadata": {},
   "source": [
    "Your task is to define the following two methods for the intSet class:\n",
    "\n",
    "Define an intersect method that returns a new intSet containing elements that appear in both sets. In other words,\n",
    "\n",
    "s1.intersect(s2)\n",
    "would return a new intSet of integers that appear in both s1 and s2. Think carefully - what should happen if s1 and s2 have no elements in common?\n",
    "\n",
    "Add the appropriate method(s) so that len(s) returns the number of elements in s.\n",
    "\n",
    "Hint: look through the [Python docs](https://docs.python.org/3.3/reference/datamodel.html) to figure out what you'll need to solve this problem."
   ]
  },
  {
   "cell_type": "code",
   "execution_count": null,
   "metadata": {},
   "outputs": [],
   "source": [
    "class intSet(object):\n",
    "    \"\"\"An intSet is a set of integers\n",
    "    The value is represented by a list of ints, self.vals.\n",
    "    Each int in the set occurs in self.vals exactly once.\"\"\"\n",
    "\n",
    "    def __init__(self):\n",
    "        \"\"\"Create an empty set of integers\"\"\"\n",
    "        self.vals = []\n",
    "\n",
    "    def insert(self, e):\n",
    "        \"\"\"Assumes e is an integer and inserts e into self\"\"\" \n",
    "        if not e in self.vals:\n",
    "            self.vals.append(e)\n",
    "\n",
    "    def member(self, e):\n",
    "        \"\"\"Assumes e is an integer\n",
    "           Returns True if e is in self, and False otherwise\"\"\"\n",
    "        return e in self.vals\n",
    "\n",
    "    def remove(self, e):\n",
    "        \"\"\"Assumes e is an integer and removes e from self\n",
    "           Raises ValueError if e is not in self\"\"\"\n",
    "        try:\n",
    "            self.vals.remove(e)\n",
    "        except:\n",
    "            raise ValueError(str(e) + ' not found')\n",
    "\n",
    "    def intersect(self, other):\n",
    "        \"\"\"Assumes other is an intSet\n",
    "           Returns a new intSet containing elements that appear in both sets.\"\"\"\n",
    "        # Initialize a new intSet    \n",
    "        commonValueSet = intSet()\n",
    "        # Go through the values in this set\n",
    "        for val in self.vals:\n",
    "            # Check if each value is a member of the other set    \n",
    "            if other.member(val):\n",
    "                commonValueSet.insert(val)\n",
    "        return commonValueSet\n",
    "\n",
    "    def __str__(self):\n",
    "        \"\"\"Returns a string representation of self\"\"\"\n",
    "        self.vals.sort()\n",
    "        return '{' + ','.join([str(e) for e in self.vals]) + '}'\n",
    "\n",
    "    def __len__(self):\n",
    "        \"\"\"Returns the length of the set.\n",
    "           This method is called by the `len` built-in function.\"\"\"\n",
    "        return len(self.vals)"
   ]
  },
  {
   "cell_type": "markdown",
   "metadata": {},
   "source": [
    "Video: The Power of OOP\n",
    "- we can use oop to bundle together objects that share common attributes and procedures that operate on those attributes\n",
    "- use abstraction to make a distinction between how to implement an object vs how to use the object. \n",
    "- build layers of object abstractions that inherit behaviors from other classes of objects\n",
    "- create our own classes of objects on top of Python's basic classes\n",
    "- (...)\n",
    "- Use OOP and classes of objects to group different objects as part of the same type.\n",
    "- \n",
    "- Encourage to use getters to access data attributes outside of instances to get internals.\n",
    "- Python allows to access and write to data from outside class definition which may lead to unforeseen errors/bugs\n",
    " - `a.age = \"infinite\"`, `a.size = \"tiny\"` \n",
    " - However, it is not good style to do any of these\n",
    "- "
   ]
  },
  {
   "cell_type": "code",
   "execution_count": 40,
   "metadata": {},
   "outputs": [
    {
     "name": "stdout",
     "output_type": "stream",
     "text": [
      "animal:None:3\n",
      "animal:foobar:3\n",
      "3\n",
      "foobar\n"
     ]
    }
   ],
   "source": [
    "# define animal class\n",
    "class Animal(object):\n",
    "    def __init__(self, age):\n",
    "        self.age = age\n",
    "        self.name = None\n",
    "    # getters\n",
    "    def get_age(self):\n",
    "        return self.age\n",
    "    def get_name(self):\n",
    "        return self.name\n",
    "    def set_age(self, newage):\n",
    "        self.age = newage\n",
    "    def set_name(self, newname=\"\"):\n",
    "        self.name = newname\n",
    "        \n",
    "    def __str__(self):\n",
    "        return \"animal:\"+str(self.name)+\":\"+str(self.age)\n",
    "        \n",
    "my_animal = Animal(3)\n",
    "print(my_animal)\n",
    "my_animal.set_name(\"foobar\")\n",
    "print(my_animal)\n",
    "print(my_animal.get_age())\n",
    "print(my_animal.get_name())"
   ]
  },
  {
   "cell_type": "markdown",
   "metadata": {},
   "source": [
    "Video: Hierarchies\n",
    "- Creating subclasses which share some behavior but differ in some other behaviors. \n",
    "- parent class (superclass) as first level. \n",
    " - child class (subclass) inherits all data and behaviors of parent class."
   ]
  },
  {
   "cell_type": "code",
   "execution_count": 50,
   "metadata": {},
   "outputs": [
    {
     "name": "stdout",
     "output_type": "stream",
     "text": [
      "Cat:Catty:1\n",
      "animal:Catty:1\n",
      "animal:None:1\n",
      "animal::1\n"
     ]
    }
   ],
   "source": [
    "# Inheritance of Animal class\n",
    "# inherits all attributes of Animal\n",
    "class Cat(Animal):\n",
    "    def speak(self):\n",
    "        print(\"meow\")\n",
    "    def __str__(self):\n",
    "        return \"Cat:\"+str(self.name)+\":\"+str(self.age)\n",
    "    \n",
    "jelly = Cat(1)\n",
    "jelly.set_name(\"Catty\")\n",
    "jelly.get_name()\n",
    "print(jelly)\n",
    "\n",
    "# Use animal class\n",
    "print(Animal.__str__(jelly))\n",
    "\n",
    "# Create another animal\n",
    "blob = Animal(1)\n",
    "print(blob)\n",
    "blob.set_name()\n",
    "print(blob)"
   ]
  },
  {
   "cell_type": "code",
   "execution_count": 60,
   "metadata": {},
   "outputs": [
    {
     "name": "stdout",
     "output_type": "stream",
     "text": [
      "meow\n",
      "meep\n"
     ]
    }
   ],
   "source": [
    "# now define subclass Rabbit \n",
    "class Rabbit(Animal):\n",
    "    def speak(self):\n",
    "        print(\"meep\")\n",
    "    def __str__(self):\n",
    "        return \"rabbit:\"+str(self.name)+\":\"+str(self.age)\n",
    "    \n",
    "peter = Rabbit(5)\n",
    "\n",
    "# two speak methods\n",
    "jelly.speak()\n",
    "peter.speak()\n",
    "\n",
    "# blob.speak() not possible.\n",
    "# Animal class does not have a speak method\n",
    "# only subclasses have"
   ]
  },
  {
   "cell_type": "code",
   "execution_count": 74,
   "metadata": {},
   "outputs": [
    {
     "name": "stdout",
     "output_type": "stream",
     "text": [
      "Accio\n",
      "Summoning Charm Accio\n",
      "This charm summons an object to the caster, potentially over a significant distance.\n",
      "Confundus Charm Confundo\n",
      "Causes the victim to become confused and befuddled\n",
      "Summoning Charm Accio\n",
      "This charm summons an object to the caster, potentially over a significant distance.\n",
      "Confundus Charm Confundo\n",
      "Causes the victim to become confused and befuddled\n"
     ]
    }
   ],
   "source": [
    "### Exercise: Spell\n",
    "# Create parentclass\n",
    "class Spell(object):\n",
    "    def __init__(self, incantation, name):\n",
    "        self.name = name\n",
    "        self.incantation = incantation\n",
    "    \n",
    "    def __str__(self):\n",
    "        return self.name + \" \" + self.incantation + \"\\n\" + self.getDescription()\n",
    "    \n",
    "    def getDescription(self):\n",
    "        return \"No description\"\n",
    "\n",
    "    def execute(self):\n",
    "        print(self.incantation)\n",
    "        \n",
    "# Create subclass Accio\n",
    "class Accio(Spell):\n",
    "    def __init__(self):\n",
    "        Spell.__init__(self, \"Accio\", \"Summoning Charm\")\n",
    "    def getDescription(self):\n",
    "        return \"This charm summons an object to the caster, potentially over a significant distance.\"\n",
    "    \n",
    "# Create subclass Confundo\n",
    "class Confundo(Spell):\n",
    "    def __init__(self):\n",
    "        Spell.__init__(self, \"Confundo\", \"Confundus Charm\")\n",
    "        \n",
    "    def getDescription(self):\n",
    "        return \"Causes the victim to become confused and befuddled\"\n",
    "\n",
    "     \n",
    "def studySpell(spell):\n",
    "    print(spell)\n",
    "    \n",
    "    \n",
    "spell = Accio()\n",
    "spell.execute()\n",
    "studySpell(spell)\n",
    "studySpell(Confundo())\n",
    "\n",
    "print(Accio())\n",
    "print(Confundo())"
   ]
  },
  {
   "cell_type": "code",
   "execution_count": 94,
   "metadata": {},
   "outputs": [
    {
     "name": "stdout",
     "output_type": "stream",
     "text": [
      "2\n",
      "3\n",
      "5\n",
      "6\n",
      "A.x\n",
      "C.y\n",
      "D.z\n"
     ]
    }
   ],
   "source": [
    "# Exercise\n",
    "class A(object):\n",
    "    def __init__(self):\n",
    "        self.a = 1\n",
    "    def x(self):\n",
    "        print(\"A.x\")\n",
    "    def y(self):\n",
    "        print(\"A.y\")\n",
    "    def z(self):\n",
    "        print(\"A.z\")\n",
    "\n",
    "class B(A):\n",
    "    def __init__(self):\n",
    "        A.__init__(self)\n",
    "        self.a = 2\n",
    "        self.b = 3\n",
    "    def y(self):\n",
    "        print(\"B.y\")\n",
    "    def z(self):\n",
    "        print(\"B.z\")\n",
    "\n",
    "class C(object):\n",
    "    def __init__(self):\n",
    "        self.a = 4\n",
    "        self.c = 5\n",
    "    def y(self):\n",
    "        print(\"C.y\")\n",
    "    def z(self):\n",
    "        print(\"C.z\")\n",
    "\n",
    "class D(C, B):\n",
    "    def __init__(self):\n",
    "        C.__init__(self)\n",
    "        B.__init__(self)\n",
    "        self.d = 6\n",
    "    def z(self):\n",
    "        print(\"D.z\")\n",
    "        \n",
    "        \n",
    "obj = D()\n",
    "\n",
    "print(obj.a)\n",
    "print(obj.b)\n",
    "print(obj.c)\n",
    "print(obj.d)\n",
    "obj.x()\n",
    "obj.y()\n",
    "obj.z()"
   ]
  },
  {
   "cell_type": "markdown",
   "metadata": {},
   "source": [
    "Video: Class Variables\n",
    "- Instance variables vs. class variables\n",
    "- use `def __add__(self, other):`to define +operator between two `Rabbit` instances\n",
    "- Use `def __eq__(self, other):`to decide when two rabbits are equal. "
   ]
  },
  {
   "cell_type": "code",
   "execution_count": 124,
   "metadata": {},
   "outputs": [
    {
     "name": "stdout",
     "output_type": "stream",
     "text": [
      "animal:None:2\n",
      "animal:Cottontail:1\n",
      "animal:Hopsy:3\n",
      "animal:Mopsy:0\n",
      "Parent1->'animal:Peter:2'\n",
      "True\n"
     ]
    }
   ],
   "source": [
    "# Recall Animal class\n",
    "class Animal(object):\n",
    "    def __init__(self, age):\n",
    "        self.age = age\n",
    "        self.name = None\n",
    "    def get_age(self):\n",
    "        return self.age\n",
    "    def get_name(self):\n",
    "        return self.name\n",
    "    def set_age(self, newage):\n",
    "        self.age = newage\n",
    "    def set_name(self, newname=\"\"):\n",
    "        self.name = newname\n",
    "    def __str__(self):\n",
    "        return \"animal:\"+str(self.name)+\":\"+str(self.age)\n",
    "    \n",
    "# Rabbit subclass\n",
    "class Rabbit(Animal):\n",
    "    # give unique id to each new rabbit instance\n",
    "    tag = 1\n",
    "    def __init__(self, age, parent1 = None, parent2 = None):\n",
    "        Animal.__init__(self, age)\n",
    "        self.parent1 = parent1\n",
    "        self.parent2 = parent2\n",
    "        self.rid = Rabbit.tag\n",
    "        Rabbit.tag += 1\n",
    "        # getter methods\n",
    "    def get_rid(self):\n",
    "        # zfill(3) leads with 3 zeros, same size\n",
    "        return str(self.rid).zfill(3)\n",
    "    def get_parent1(self):\n",
    "        return self.parent1\n",
    "    def get_parent2(self):\n",
    "        return self.parent2\n",
    "    # define what it means to add\n",
    "    def __add__(self, other):\n",
    "        return Rabbit(0, self, other)\n",
    "    # compare two rabbits\n",
    "    def __eq__(self, other):\n",
    "        parents_same = self.parent1.rid == other.parent1.rid and self.parent2.rid == other.parent2.rid\n",
    "        parents_opposite = self.parent2.rid == other.parent1.rid and self.parent1.rid == other.parent2.rid\n",
    "        return parents_same or parents_opposite\n",
    "    \n",
    "    \n",
    "    \n",
    "# Use it\n",
    "peter = Rabbit(2)\n",
    "print(peter)\n",
    "peter.set_name(\"Peter\")\n",
    "hopsy = Rabbit(3)\n",
    "hopsy.set_name(\"Hopsy\")\n",
    "\n",
    "# now rabbit with two parents\n",
    "cotton = Rabbit(1, peter, hopsy)\n",
    "cotton.set_name(\"Cottontail\")\n",
    "print(cotton)\n",
    "print(cotton.get_parent2())\n",
    "\n",
    "# Use add method\n",
    "mopsy = peter + hopsy\n",
    "mopsy.set_name(\"Mopsy\")\n",
    "print(mopsy)\n",
    "print(\"Parent1->'\"+str(mopsy.get_parent1())+\"'\")\n",
    "\n",
    "# use __eq__ method\n",
    "# Same parents?\n",
    "print(mopsy == cotton)"
   ]
  },
  {
   "cell_type": "markdown",
   "metadata": {},
   "source": [
    "Summary of Classes and OOP\n",
    "- bundle together objects that share common attributes and procedures taht operate on those attributes\n",
    "- use abstraction to make a distinction between how to implement an object vs. how to use the object\n",
    "- build layers of object abstractions that inherit behaviours from other classes of objects\n",
    "- create own classes of objects on top of Python's basic classes. "
   ]
  },
  {
   "cell_type": "markdown",
   "metadata": {},
   "source": [
    "#### Lecture 10."
   ]
  }
 ],
 "metadata": {
  "kernelspec": {
   "display_name": "Python [conda env:Anaconda3]",
   "language": "python",
   "name": "conda-env-Anaconda3-py"
  },
  "language_info": {
   "codemirror_mode": {
    "name": "ipython",
    "version": 3
   },
   "file_extension": ".py",
   "mimetype": "text/x-python",
   "name": "python",
   "nbconvert_exporter": "python",
   "pygments_lexer": "ipython3",
   "version": "3.6.6"
  }
 },
 "nbformat": 4,
 "nbformat_minor": 2
}
