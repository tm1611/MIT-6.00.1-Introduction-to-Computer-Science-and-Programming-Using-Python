{
 "cells": [
  {
   "cell_type": "markdown",
   "metadata": {},
   "source": [
    "# Object-Oriented Programming"
   ]
  },
  {
   "cell_type": "markdown",
   "metadata": {},
   "source": [
    "Video Object-Oriented Programming\n",
    "- each kind of data is an instance of an **object**, and every object has\n",
    " - a type\n",
    " - an internal data representation \n",
    " - a set of procedures for interaction with the object\n",
    " \n",
    "- Everything in Python is an object and has a type\n",
    "\n",
    "Example: `[1,2,3,4]` is of type list\n",
    "- Lists are internally represented as **linked list** of cells\n",
    "\n",
    "- **Classes** to represent an abstract notion or idea (e.g. a house as a structure where people live with bedrooms, bathrooms, etc.) \n",
    "- Concrete examples, like the neighbor's house, a house down the street are called **Instances** of this class. \n",
    "\n",
    "Intuitively, we make a clear distinction between creating a class and using an instance of the class. \n",
    "- Creating the class: defining the class name, class atributes\n",
    "- Using the class involves: creating new instances, doing operations on the instances,..."
   ]
  },
  {
   "cell_type": "markdown",
   "metadata": {},
   "source": [
    "Video: Define your own types\n",
    "- Use `class` keyword to define a new type\n",
    "- Data and procedures that \"belong\" the class are called **attributes**. \n",
    "- Methods: Functions that only work with this class. For example you can define a distance between two coordinate objects but there is no meaning to a distance between two list objects. \n",
    "- First, create an instance of object. Use `__init__`to initialize some data attributes."
   ]
  },
  {
   "cell_type": "code",
   "execution_count": 7,
   "metadata": {},
   "outputs": [
    {
     "name": "stdout",
     "output_type": "stream",
     "text": [
      "3\n",
      "0\n"
     ]
    }
   ],
   "source": [
    "# initialize a class\n",
    "class Coordinate(object):\n",
    "    def __init__(self, x, y):\n",
    "        self.x = x\n",
    "        self.y = y\n",
    "        \n",
    "# Creating new instances of that class\n",
    "c = Coordinate(3,4)\n",
    "origin = Coordinate(0,0)\n",
    "\n",
    "print(c.x)\n",
    "print(origin.x)"
   ]
  },
  {
   "cell_type": "markdown",
   "metadata": {},
   "source": [
    "- data attributes of an instance are called instance variables\n",
    "- don't provide argument for self, Python does this automatically. "
   ]
  },
  {
   "cell_type": "markdown",
   "metadata": {},
   "source": [
    "Video: Methods\n"
   ]
  }
 ],
 "metadata": {
  "kernelspec": {
   "display_name": "Python [conda env:Anaconda3]",
   "language": "python",
   "name": "conda-env-Anaconda3-py"
  },
  "language_info": {
   "codemirror_mode": {
    "name": "ipython",
    "version": 3
   },
   "file_extension": ".py",
   "mimetype": "text/x-python",
   "name": "python",
   "nbconvert_exporter": "python",
   "pygments_lexer": "ipython3",
   "version": "3.6.6"
  }
 },
 "nbformat": 4,
 "nbformat_minor": 2
}
