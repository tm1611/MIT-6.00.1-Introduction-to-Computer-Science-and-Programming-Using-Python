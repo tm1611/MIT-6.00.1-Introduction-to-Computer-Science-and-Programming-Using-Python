{
 "cells": [
  {
   "cell_type": "markdown",
   "metadata": {},
   "source": [
    "# Problem Set 1\n",
    "Problem Set of MIT 6.00.1x Introduction to Computer Science and Programming using Python"
   ]
  },
  {
   "cell_type": "markdown",
   "metadata": {},
   "source": [
    "### Problem 1\n",
    "\n",
    "Assume 's' is a string of lower case characters.\n",
    "\n",
    "Write a program that counts up the number of vowels contained in the string 's'. Valid vowels are: 'a', 'e', 'i', 'o', and 'u'. \n",
    "\n",
    "For example, if `s = 'azcbobobegghakl'`, your program should print:\n",
    "\n",
    "`Number of vowels: 5`"
   ]
  },
  {
   "cell_type": "code",
   "execution_count": 1,
   "metadata": {},
   "outputs": [
    {
     "name": "stdout",
     "output_type": "stream",
     "text": [
      "Number of vowels: 5\n"
     ]
    }
   ],
   "source": [
    "s = \"azcbobobegghakl\"\n",
    "count = 0\n",
    "vowels = [\"a\", \"e\", \"i\", \"o\", \"u\"]\n",
    "\n",
    "for char in s:\n",
    "    if char in vowels:\n",
    "        count += 1\n",
    "        \n",
    "print(\"Number of vowels:\",count)"
   ]
  },
  {
   "cell_type": "code",
   "execution_count": 2,
   "metadata": {},
   "outputs": [
    {
     "data": {
      "text/plain": [
       "True"
      ]
     },
     "execution_count": 2,
     "metadata": {},
     "output_type": "execute_result"
    }
   ],
   "source": [
    "\"b\" > \"a\""
   ]
  },
  {
   "cell_type": "markdown",
   "metadata": {},
   "source": [
    "### Problem 2:\n",
    "\n",
    "Assume s is a string of lower case characters.\n",
    "\n",
    "Write a program that prints the number of times the string 'bob' occurs in s. For example, if `s = 'azcbobobegghakl'`, then your program should print:\n",
    "\n",
    "`Number of times bob occurs is: 2`"
   ]
  },
  {
   "cell_type": "code",
   "execution_count": 3,
   "metadata": {},
   "outputs": [
    {
     "name": "stdout",
     "output_type": "stream",
     "text": [
      "Number of times bob occurs is: 1\n",
      "Number of times bob occurs is: 2\n"
     ]
    }
   ],
   "source": [
    "s = \"azcbobobegghakl\"\n",
    "count = 0\n",
    "\n",
    "for i in range(len(s)):\n",
    "    if (s[i:i+3]) == \"bob\":\n",
    "        count += 1\n",
    "\n",
    "        print(\"Number of times bob occurs is:\",count)"
   ]
  },
  {
   "cell_type": "markdown",
   "metadata": {},
   "source": [
    "### Problem 3\n",
    "Assume s is a string of lower case characters.\n",
    "\n",
    "Write a program that prints the longest substring of s in which the letters occur in alphabetical order. For example, if s = 'azcbobobegghakl', then your program should print\n",
    "\n",
    "`Longest substring in alphabetical order is: beggh`\n",
    "\n",
    "In the case of ties, print the first substring. For example, if s = 'abcbcd', then your program should print\n",
    "\n",
    "`Longest substring in alphabetical order is: abc`"
   ]
  },
  {
   "cell_type": "code",
   "execution_count": 4,
   "metadata": {},
   "outputs": [
    {
     "name": "stdout",
     "output_type": "stream",
     "text": [
      "beggh\n"
     ]
    }
   ],
   "source": [
    "s = 'azcbobobegghakl'\n",
    "\n",
    "count = 0\n",
    "maxcount = 0\n",
    "result = 0\n",
    "\n",
    "for i in range(len(s)-1):\n",
    "    if s[i] <= s[i+1]:\n",
    "        count += 1\n",
    "        if count > maxcount:\n",
    "            maxcount = count\n",
    "            result = i + 1\n",
    "    else:\n",
    "        count = 0\n",
    "    \n",
    "start = result - maxcount\n",
    "longest = s[start:result+1]\n",
    "\n",
    "print(longest)"
   ]
  },
  {
   "cell_type": "code",
   "execution_count": 5,
   "metadata": {},
   "outputs": [
    {
     "name": "stdout",
     "output_type": "stream",
     "text": [
      "Longest substring in alphabetical order: beggh\n"
     ]
    }
   ],
   "source": [
    "s = 'azcbobobegghakl'\n",
    "\n",
    "current = ''\n",
    "result = ''\n",
    "\n",
    "for char in s:\n",
    "    if (current == ''):\n",
    "        current = char\n",
    "    elif (current[-1] <= char):\n",
    "        current += char\n",
    "    elif (current[-1] > char):\n",
    "        if (len(result) < len(current)):\n",
    "            result = current\n",
    "            current = char\n",
    "        else:\n",
    "            current = char\n",
    "if (len(result) < len(current)):\n",
    "    result = current\n",
    "print('Longest substring in alphabetical order: ' + result)"
   ]
  }
 ],
 "metadata": {
  "kernelspec": {
   "display_name": "Python [conda env:Anaconda3]",
   "language": "python",
   "name": "conda-env-Anaconda3-py"
  },
  "language_info": {
   "codemirror_mode": {
    "name": "ipython",
    "version": 3
   },
   "file_extension": ".py",
   "mimetype": "text/x-python",
   "name": "python",
   "nbconvert_exporter": "python",
   "pygments_lexer": "ipython3",
   "version": "3.6.6"
  }
 },
 "nbformat": 4,
 "nbformat_minor": 2
}
