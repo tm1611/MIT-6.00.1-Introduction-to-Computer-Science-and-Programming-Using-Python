{
 "cells": [
  {
   "cell_type": "markdown",
   "metadata": {},
   "source": [
    "# Midterm Exam"
   ]
  },
  {
   "cell_type": "markdown",
   "metadata": {},
   "source": [
    "### Problem 3\n",
    "Write a recursive Python function, given a non-negative integer N, to count and return the number of occurrences of the digit 7 in N.\n",
    "\n",
    "The function takes in one integer and returns one integer. "
   ]
  },
  {
   "cell_type": "markdown",
   "metadata": {},
   "source": [
    "Notes:\n",
    "- A: N%10 returns rightmost number.\n",
    "- B: N//10 removes rightmost number.\n",
    "- recursively use A and B in a function until end is reached -> end of function if N//10 == 0\n",
    "\n",
    "In other words, check if last number is 7 and then remove it recursively. Stop if zero is reached and there is nothing left to check."
   ]
  },
  {
   "cell_type": "code",
   "execution_count": 1,
   "metadata": {},
   "outputs": [
    {
     "data": {
      "text/plain": [
       "3"
      ]
     },
     "execution_count": 1,
     "metadata": {},
     "output_type": "execute_result"
    }
   ],
   "source": [
    "def count7(N):\n",
    "    '''\n",
    "    N: a non-negative integer\n",
    "    '''\n",
    "    if N == 0:\n",
    "        return 0\n",
    "    elif N%10 == 7:\n",
    "        return count7(N//10) + 1\n",
    "    else:\n",
    "        return count7(N//10)\n",
    "    \n",
    "count7(71134377)"
   ]
  },
  {
   "cell_type": "markdown",
   "metadata": {},
   "source": [
    "### Problem 4\n",
    "Write a Python function that returns the sublist of strings in aList that contain fewer than 4 characters. For example, if \n",
    "- `aList = [\"apple\", \"cat\", \"dog\", \"banana\"]`, \n",
    "\n",
    "function should return: \n",
    "\n",
    "- `[\"cat\", \"dog\"]`\n",
    "\n",
    "This function takes in a list of strings and returns a list of strings. The function should not modify `aList`"
   ]
  },
  {
   "cell_type": "code",
   "execution_count": 2,
   "metadata": {},
   "outputs": [
    {
     "name": "stdout",
     "output_type": "stream",
     "text": [
      "apple\n",
      "5\n",
      "cat\n",
      "3\n",
      "dog\n",
      "3\n",
      "banana\n",
      "6\n",
      "['cat', 'dog']\n"
     ]
    }
   ],
   "source": [
    "aList = [\"apple\", \"cat\", \"dog\", \"banana\"]\n",
    "\n",
    "newList =  []\n",
    "for word in aList:\n",
    "    print(word)\n",
    "    print(len(word))\n",
    "    if len(word) < 4:\n",
    "        newList.append(word)\n",
    "        \n",
    "print(newList)"
   ]
  },
  {
   "cell_type": "code",
   "execution_count": 3,
   "metadata": {},
   "outputs": [
    {
     "data": {
      "text/plain": [
       "['cat', 'dog']"
      ]
     },
     "execution_count": 3,
     "metadata": {},
     "output_type": "execute_result"
    }
   ],
   "source": [
    "# Implementing this as function\n",
    "l = [\"apple\", \"cat\", \"dog\", \"banana\"]\n",
    "\n",
    "def lessThan4(aList):\n",
    "    \"\"\"\n",
    "    Input: aList is a list of strings\n",
    "    returns sublist of string of elements containing \n",
    "    fewer than 4 characters\n",
    "    \"\"\"\n",
    "    my_list = []\n",
    "    for word in aList:\n",
    "        if len(word) < 4:\n",
    "            my_list.append(word)\n",
    "    return my_list\n",
    "\n",
    "lessThan4(l)"
   ]
  },
  {
   "cell_type": "markdown",
   "metadata": {},
   "source": [
    "### Problem 5\n",
    "Write a Python function that returns a list of keys in `aDict` with the value `target`. The list of keys you return should be sorted in increasing order. The keys and values in `aDict` are both integers. (If `aDict` does not contain the value target, you should return an empty list.)\n",
    "\n",
    "This function takes in a dictionary and an integer and returns a list."
   ]
  },
  {
   "cell_type": "markdown",
   "metadata": {},
   "source": [
    "Test 1:\n",
    "- `keysWithValue({}, 3)`\n",
    "- Output: `[]`\n",
    "\n",
    "Test 2:\n",
    "- `keysWithValue({4: 0, 5: 1, 6: 1}, 1)`\n",
    "- Output: `[5, 6]`\n",
    "\n",
    "Test 3: \n",
    "- `keysWithValue({0: 2, 1: 1, 4: 1, 6: 1, 7: 0, 8: 0, 9: 3}, 0)`\n",
    "- Output: `[7,8]`\n",
    "\n",
    "checks the values and returns the keys if values of the dictionary are equal to the target."
   ]
  },
  {
   "cell_type": "code",
   "execution_count": 4,
   "metadata": {},
   "outputs": [
    {
     "data": {
      "text/plain": [
       "[4, 5, 7, 10]"
      ]
     },
     "execution_count": 4,
     "metadata": {},
     "output_type": "execute_result"
    }
   ],
   "source": [
    "aDict = {8: 0, 10: 1, 4: 1, 5: 1, 7: 1}\n",
    "target = 1\n",
    "my_list = []\n",
    "\n",
    "for val in aDict:\n",
    "    if aDict[val] == target:\n",
    "        my_list.append(val)\n",
    "\n",
    "sorted(my_list)"
   ]
  },
  {
   "cell_type": "code",
   "execution_count": 5,
   "metadata": {},
   "outputs": [
    {
     "data": {
      "text/plain": [
       "[4, 5, 7, 10]"
      ]
     },
     "execution_count": 5,
     "metadata": {},
     "output_type": "execute_result"
    }
   ],
   "source": [
    "def keysWithValue(aDict, target):\n",
    "    \"\"\"\n",
    "    aDict: a dictionary\n",
    "    target: an integer\n",
    "    \"\"\"\n",
    "    keys = []\n",
    "    for key in aDict:\n",
    "        if aDict[key] == target:\n",
    "            keys.append(key)\n",
    "    return sorted(keys)\n",
    "\n",
    "keysWithValue(aDict, target)"
   ]
  },
  {
   "cell_type": "markdown",
   "metadata": {},
   "source": [
    "### Problem 6\n",
    "Write a function to flatten a list. The list contains other lists, strings, or ints. For example, `[[1,'a',['cat'],2],[[[3]],'dog'],4,5]` is flattened into `[1,'a','cat',2,3,'dog',4,5]` (order matters)."
   ]
  },
  {
   "cell_type": "code",
   "execution_count": 6,
   "metadata": {
    "scrolled": true
   },
   "outputs": [
    {
     "data": {
      "text/plain": [
       "[1, 'a', 'cat', 2, 3, 'dog', 4, 5]"
      ]
     },
     "execution_count": 6,
     "metadata": {},
     "output_type": "execute_result"
    }
   ],
   "source": [
    "aList = [[1,'a',['cat'],2],[[[3]],'dog'],4,5]\n",
    "\n",
    "def flatten(aList):\n",
    "    ''' \n",
    "    aList: a list \n",
    "    Returns: a copy of aList, which is a flattened version of aList \n",
    "    '''\n",
    "    if aList == []:\n",
    "        return []\n",
    "    else:\n",
    "        for elem in aList:\n",
    "            if type(elem) == list:\n",
    "                aList.remove(elem)\n",
    "                return flatten(elem) +flatten(aList)\n",
    "            else:\n",
    "                aList.remove(elem)\n",
    "                return [elem] + flatten(aList)\n",
    "\n",
    "flatten(aList)"
   ]
  },
  {
   "cell_type": "markdown",
   "metadata": {},
   "source": [
    "## Problem 7\n",
    "Implement a function that meets the following specifications:\n",
    "- Assumes L is a list of integers\n",
    "- Assume functions f and g are defined for you\n",
    "- f takes in an integer, applies a function, returns another integer\n",
    "- g takes in an integer, applies a Boolean function, returns either True or False\n",
    "- Mutates L such that, for each element i orgininally in L, L contains i if g(f(i)) returns True, and no other elements\n",
    "- Returns the largest element in the mutated L or -1 if the list is empty"
   ]
  },
  {
   "cell_type": "code",
   "execution_count": 7,
   "metadata": {},
   "outputs": [],
   "source": [
    "# For example the following functions\n",
    "def f(i):\n",
    "    return i + 2\n",
    "def g(i):\n",
    "    return i > 5\n",
    "\n",
    "L = [0, -10, 5, 6, -4]\n",
    "# should print: 6\n",
    "# [5,6]"
   ]
  },
  {
   "cell_type": "code",
   "execution_count": 8,
   "metadata": {},
   "outputs": [
    {
     "name": "stdout",
     "output_type": "stream",
     "text": [
      "6\n",
      "[5, 6]\n"
     ]
    }
   ],
   "source": [
    "def applyF_filterG(L, f, g):\n",
    "    \"\"\"\n",
    "    Assumes L is a list of integers\n",
    "    Assume functions f and g are defined for you. \n",
    "    f takes in an integer, applies a function, \n",
    "        returns another integer \n",
    "    g takes in an integer, applies a Boolean function, \n",
    "        returns either True or False\n",
    "    Mutates L such that, for each element i in L, \n",
    "        L contains i if g(f(i)) returns True, \n",
    "        and no other elements\n",
    "    Returns the largest element in the mutated L or -1 if the list is empty\n",
    "    \"\"\"\n",
    "    newL = []\n",
    "    for i in L:\n",
    "        if g(f(i)) == True:\n",
    "            newL.append(i)\n",
    "    L[:] = newL\n",
    "    if len(L) == 0:\n",
    "        return -1\n",
    "    else:\n",
    "        return max(L)\n",
    "    \n",
    "print(applyF_filterG(L, f, g))\n",
    "print(L)"
   ]
  },
  {
   "cell_type": "code",
   "execution_count": null,
   "metadata": {},
   "outputs": [],
   "source": []
  }
 ],
 "metadata": {
  "kernelspec": {
   "display_name": "Python [conda env:Anaconda3]",
   "language": "python",
   "name": "conda-env-Anaconda3-py"
  },
  "language_info": {
   "codemirror_mode": {
    "name": "ipython",
    "version": 3
   },
   "file_extension": ".py",
   "mimetype": "text/x-python",
   "name": "python",
   "nbconvert_exporter": "python",
   "pygments_lexer": "ipython3",
   "version": "3.6.6"
  }
 },
 "nbformat": 4,
 "nbformat_minor": 2
}
